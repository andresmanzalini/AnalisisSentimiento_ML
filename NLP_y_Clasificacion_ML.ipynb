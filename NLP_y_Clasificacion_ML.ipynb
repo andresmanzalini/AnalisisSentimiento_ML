{
  "nbformat": 4,
  "nbformat_minor": 0,
  "metadata": {
    "colab": {
      "name": "NLP_y_Clasificacion_ML.ipynb",
      "provenance": [],
      "collapsed_sections": []
    },
    "kernelspec": {
      "display_name": "Python 3",
      "language": "python",
      "name": "python3"
    },
    "language_info": {
      "codemirror_mode": {
        "name": "ipython",
        "version": 3
      },
      "file_extension": ".py",
      "mimetype": "text/x-python",
      "name": "python",
      "nbconvert_exporter": "python",
      "pygments_lexer": "ipython3",
      "version": "3.8.5"
    }
  },
  "cells": [
    {
      "cell_type": "markdown",
      "metadata": {
        "id": "i3fU3TiBgnyG"
      },
      "source": [
        "# NLP y Clasificacion con Machine Learning\n",
        "\n",
        "\n",
        "Reseñas de peliculas del dataset publico *txt_sentoken* de Kaggle, para el procesamiento de lenguaje natural.\n",
        "\n",
        "Clasificacion con distintos algoritmos de Machine Learning aplicados al analisis de sentimientos. \n",
        "\n",
        "\n"
      ]
    },
    {
      "cell_type": "code",
      "metadata": {
        "colab": {
          "base_uri": "https://localhost:8080/"
        },
        "id": "dfbUmOQ16v7a",
        "outputId": "b89f9a05-7b27-4753-8265-b1686425028d"
      },
      "source": [
        "from google.colab import drive\n",
        "drive.mount('/content/drive/')"
      ],
      "execution_count": 1,
      "outputs": [
        {
          "output_type": "stream",
          "text": [
            "Drive already mounted at /content/drive/; to attempt to forcibly remount, call drive.mount(\"/content/drive/\", force_remount=True).\n"
          ],
          "name": "stdout"
        }
      ]
    },
    {
      "cell_type": "code",
      "metadata": {
        "id": "mlY5e_oNARGO"
      },
      "source": [
        "from sklearn.datasets import load_files\n",
        "import numpy as np"
      ],
      "execution_count": 2,
      "outputs": []
    },
    {
      "cell_type": "code",
      "metadata": {
        "id": "3r3n6nR0tG7S"
      },
      "source": [
        "files = load_files(\"drive/My Drive/Mineria_Datos/txt_sentoken\")\n"
      ],
      "execution_count": 3,
      "outputs": []
    },
    {
      "cell_type": "markdown",
      "metadata": {
        "id": "tNY3a5PpjThG"
      },
      "source": [
        "### Preprocesamiento de los textos\n",
        "\n",
        "Funciones para eliminar signos de puntuacion, caracteres raros.\n",
        "Expande contracciones y remueve stopwords. "
      ]
    },
    {
      "cell_type": "code",
      "metadata": {
        "id": "zyfntddBJKFf"
      },
      "source": [
        "X = files.data\n",
        "Y = files.target\n"
      ],
      "execution_count": 4,
      "outputs": []
    },
    {
      "cell_type": "code",
      "metadata": {
        "colab": {
          "base_uri": "https://localhost:8080/"
        },
        "id": "x5lvIpMHnU13",
        "outputId": "d62f1e84-5e43-4833-95a2-4f314a11394d"
      },
      "source": [
        "import nltk\n",
        "\n",
        "nltk.download('punkt')"
      ],
      "execution_count": 5,
      "outputs": [
        {
          "output_type": "stream",
          "text": [
            "[nltk_data] Downloading package punkt to /root/nltk_data...\n",
            "[nltk_data]   Package punkt is already up-to-date!\n"
          ],
          "name": "stdout"
        },
        {
          "output_type": "execute_result",
          "data": {
            "text/plain": [
              "True"
            ]
          },
          "metadata": {
            "tags": []
          },
          "execution_count": 5
        }
      ]
    },
    {
      "cell_type": "code",
      "metadata": {
        "id": "6-1FFC-rXMBG"
      },
      "source": [
        "import re\n",
        "\n",
        "def remove_punctuation(words):\n",
        "    new_words = []\n",
        "    for word in words:\n",
        "        new_word = re.sub(r'[^\\w\\s]', '', word)  \n",
        "        if new_word != '':\n",
        "            new_words.append(new_word)\n",
        "    return new_words\n"
      ],
      "execution_count": 6,
      "outputs": []
    },
    {
      "cell_type": "code",
      "metadata": {
        "colab": {
          "base_uri": "https://localhost:8080/"
        },
        "id": "74g3cjlynSW8",
        "outputId": "72fa586a-0436-43b0-b2a1-a92c786ac558"
      },
      "source": [
        "from nltk.corpus import stopwords\n",
        "import nltk\n",
        "\n",
        "nltk.download('stopwords')\n",
        "\n",
        "\n",
        "def remove_stopwords(words):\n",
        "    new_words = []\n",
        "    for word in words:\n",
        "        if word not in stopwords.words('english'):\n",
        "            new_words.append(word)\n",
        "    return new_words\n"
      ],
      "execution_count": 7,
      "outputs": [
        {
          "output_type": "stream",
          "text": [
            "[nltk_data] Downloading package stopwords to /root/nltk_data...\n",
            "[nltk_data]   Package stopwords is already up-to-date!\n"
          ],
          "name": "stdout"
        }
      ]
    },
    {
      "cell_type": "code",
      "metadata": {
        "id": "R-m5BdTdkaYQ"
      },
      "source": [
        "def contar_letras_sentencias_token(token):\n",
        "  contador = 0\n",
        "  for t in token: \n",
        "    for w in t:\n",
        "      #print(w)\n",
        "      contador += 1\n",
        "      \n",
        "  return contador\n",
        "\n"
      ],
      "execution_count": 8,
      "outputs": []
    },
    {
      "cell_type": "markdown",
      "metadata": {
        "id": "wyWZyKeyiIZf"
      },
      "source": [
        "Para las primeras 10 reseñas, reducimos la dimensionalidad de los vectores de palabras, y calculamos la diferencia de tamaño entre el texto original y el texto procesado\n",
        "\n"
      ]
    },
    {
      "cell_type": "code",
      "metadata": {
        "colab": {
          "base_uri": "https://localhost:8080/"
        },
        "id": "YH76t9XNdHJg",
        "outputId": "e3b28f62-3e12-4c41-9e0e-6fad21e46889"
      },
      "source": [
        "from nltk.tokenize import word_tokenize\n",
        "\n",
        "\n",
        "for i in range(0,10):\n",
        "  res = str(X[i])\n",
        "  print(\"Texto original -> \",res) \n",
        "  print(\"Cantidad de caracteres inicial: \",len(res), \" \\n\\n\")\n",
        "\n",
        "  palabras = word_tokenize(res[2:]) #elimina primer caracter basura \n",
        "  \n",
        "  print(\"Texto tokenizado en palabras -> \",palabras, \"\\n\\n\")\n",
        " \n",
        "  \n",
        "  texto_limpio = []\n",
        "  \n",
        "  for p in palabras:  #para cada sentencia le limpio el \\n, que seria el s[:2]\n",
        "    \n",
        "    if (p[:2] == \"\\\\n\"): #curioso... el \\n se representa como \\\\n\n",
        "      p = p[2:]\n",
        "    \n",
        "    p = re.sub(r'[^\\w\\s]', '', p)  # elimino signos de puntuacion\n",
        "\n",
        "    if (p == \"s\"): # elimina s colgada de it's, o 80's\n",
        "      p = \"\"\n",
        "\n",
        "    if (p != \"\"): #si no es un espacio en blanco, lo agrego al texto limpio\n",
        "      texto_limpio.append(p)\n",
        "\n",
        "\n",
        "  print(\"Texto limpio -> \",texto_limpio)\n",
        "  print(\"Cantidad de caracteres texto limpio: \",contar_letras_sentencias_token(texto_limpio), \"\\n\\n\")\n",
        "  \n",
        "  sin_stop = remove_stopwords(texto_limpio)\n",
        "  print(\"Texto limpio y sin stopwords -> \",sin_stop)\n",
        "  print(\"Cantidad de caracteres final sin stopwords: \", contar_letras_sentencias_token(sin_stop),\"\\n\\n\")\n",
        "  print(\"Texto original reducido en un -> \",contar_letras_sentencias_token(sin_stop)/len(res))\n",
        "  print(\"\\n----------------------------------------------------------------------------------------\\n\")"
      ],
      "execution_count": 9,
      "outputs": [
        {
          "output_type": "stream",
          "text": [
            "Texto original ->  b\"arnold schwarzenegger has been an icon for action enthusiasts , since the late 80's , but lately his films have been very sloppy and the one-liners are getting worse . \\nit's hard seeing arnold as mr . freeze in batman and robin , especially when he says tons of ice jokes , but hey he got 15 million , what's it matter to him ? \\nonce again arnold has signed to do another expensive blockbuster , that can't compare with the likes of the terminator series , true lies and even eraser . \\nin this so called dark thriller , the devil ( gabriel byrne ) has come upon earth , to impregnate a woman ( robin tunney ) which happens every 1000 years , and basically destroy the world , but apparently god has chosen one man , and that one man is jericho cane ( arnold himself ) . \\nwith the help of a trusty sidekick ( kevin pollack ) , they will stop at nothing to let the devil take over the world ! \\nparts of this are actually so absurd , that they would fit right in with dogma . \\nyes , the film is that weak , but it's better than the other blockbuster right now ( sleepy hollow ) , but it makes the world is not enough look like a 4 star film . \\nanyway , this definitely doesn't seem like an arnold movie . \\nit just wasn't the type of film you can see him doing . \\nsure he gave us a few chuckles with his well known one-liners , but he seemed confused as to where his character and the film was going . \\nit's understandable , especially when the ending had to be changed according to some sources . \\naside form that , he still walked through it , much like he has in the past few films . \\ni'm sorry to say this arnold but maybe these are the end of your action days . \\nspeaking of action , where was it in this film ? \\nthere was hardly any explosions or fights . \\nthe devil made a few places explode , but arnold wasn't kicking some devil butt . \\nthe ending was changed to make it more spiritual , which undoubtedly ruined the film . \\ni was at least hoping for a cool ending if nothing else occurred , but once again i was let down . \\ni also don't know why the film took so long and cost so much . \\nthere was really no super affects at all , unless you consider an invisible devil , who was in it for 5 minutes tops , worth the overpriced budget . \\nthe budget should have gone into a better script , where at least audiences could be somewhat entertained instead of facing boredom . \\nit's pitiful to see how scripts like these get bought and made into a movie . \\ndo they even read these things anymore ? \\nit sure doesn't seem like it . \\nthankfully gabriel's performance gave some light to this poor film . \\nwhen he walks down the street searching for robin tunney , you can't help but feel that he looked like a devil . \\nthe guy is creepy looking anyway ! \\nwhen it's all over , you're just glad it's the end of the movie . \\ndon't bother to see this , if you're expecting a solid action flick , because it's neither solid nor does it have action . \\nit's just another movie that we are suckered in to seeing , due to a strategic marketing campaign . \\nsave your money and see the world is not enough for an entertaining experience . \\n\"\n",
            "Cantidad de caracteres inicial:  3160  \n",
            "\n",
            "\n",
            "Texto tokenizado en palabras ->  ['arnold', 'schwarzenegger', 'has', 'been', 'an', 'icon', 'for', 'action', 'enthusiasts', ',', 'since', 'the', 'late', '80', \"'s\", ',', 'but', 'lately', 'his', 'films', 'have', 'been', 'very', 'sloppy', 'and', 'the', 'one-liners', 'are', 'getting', 'worse', '.', '\\\\nit', \"'s\", 'hard', 'seeing', 'arnold', 'as', 'mr', '.', 'freeze', 'in', 'batman', 'and', 'robin', ',', 'especially', 'when', 'he', 'says', 'tons', 'of', 'ice', 'jokes', ',', 'but', 'hey', 'he', 'got', '15', 'million', ',', 'what', \"'s\", 'it', 'matter', 'to', 'him', '?', '\\\\nonce', 'again', 'arnold', 'has', 'signed', 'to', 'do', 'another', 'expensive', 'blockbuster', ',', 'that', 'ca', \"n't\", 'compare', 'with', 'the', 'likes', 'of', 'the', 'terminator', 'series', ',', 'true', 'lies', 'and', 'even', 'eraser', '.', '\\\\nin', 'this', 'so', 'called', 'dark', 'thriller', ',', 'the', 'devil', '(', 'gabriel', 'byrne', ')', 'has', 'come', 'upon', 'earth', ',', 'to', 'impregnate', 'a', 'woman', '(', 'robin', 'tunney', ')', 'which', 'happens', 'every', '1000', 'years', ',', 'and', 'basically', 'destroy', 'the', 'world', ',', 'but', 'apparently', 'god', 'has', 'chosen', 'one', 'man', ',', 'and', 'that', 'one', 'man', 'is', 'jericho', 'cane', '(', 'arnold', 'himself', ')', '.', '\\\\nwith', 'the', 'help', 'of', 'a', 'trusty', 'sidekick', '(', 'kevin', 'pollack', ')', ',', 'they', 'will', 'stop', 'at', 'nothing', 'to', 'let', 'the', 'devil', 'take', 'over', 'the', 'world', '!', '\\\\nparts', 'of', 'this', 'are', 'actually', 'so', 'absurd', ',', 'that', 'they', 'would', 'fit', 'right', 'in', 'with', 'dogma', '.', '\\\\nyes', ',', 'the', 'film', 'is', 'that', 'weak', ',', 'but', 'it', \"'s\", 'better', 'than', 'the', 'other', 'blockbuster', 'right', 'now', '(', 'sleepy', 'hollow', ')', ',', 'but', 'it', 'makes', 'the', 'world', 'is', 'not', 'enough', 'look', 'like', 'a', '4', 'star', 'film', '.', '\\\\nanyway', ',', 'this', 'definitely', 'does', \"n't\", 'seem', 'like', 'an', 'arnold', 'movie', '.', '\\\\nit', 'just', 'was', \"n't\", 'the', 'type', 'of', 'film', 'you', 'can', 'see', 'him', 'doing', '.', '\\\\nsure', 'he', 'gave', 'us', 'a', 'few', 'chuckles', 'with', 'his', 'well', 'known', 'one-liners', ',', 'but', 'he', 'seemed', 'confused', 'as', 'to', 'where', 'his', 'character', 'and', 'the', 'film', 'was', 'going', '.', '\\\\nit', \"'s\", 'understandable', ',', 'especially', 'when', 'the', 'ending', 'had', 'to', 'be', 'changed', 'according', 'to', 'some', 'sources', '.', '\\\\naside', 'form', 'that', ',', 'he', 'still', 'walked', 'through', 'it', ',', 'much', 'like', 'he', 'has', 'in', 'the', 'past', 'few', 'films', '.', '\\\\ni', \"'m\", 'sorry', 'to', 'say', 'this', 'arnold', 'but', 'maybe', 'these', 'are', 'the', 'end', 'of', 'your', 'action', 'days', '.', '\\\\nspeaking', 'of', 'action', ',', 'where', 'was', 'it', 'in', 'this', 'film', '?', '\\\\nthere', 'was', 'hardly', 'any', 'explosions', 'or', 'fights', '.', '\\\\nthe', 'devil', 'made', 'a', 'few', 'places', 'explode', ',', 'but', 'arnold', 'was', \"n't\", 'kicking', 'some', 'devil', 'butt', '.', '\\\\nthe', 'ending', 'was', 'changed', 'to', 'make', 'it', 'more', 'spiritual', ',', 'which', 'undoubtedly', 'ruined', 'the', 'film', '.', '\\\\ni', 'was', 'at', 'least', 'hoping', 'for', 'a', 'cool', 'ending', 'if', 'nothing', 'else', 'occurred', ',', 'but', 'once', 'again', 'i', 'was', 'let', 'down', '.', '\\\\ni', 'also', 'do', \"n't\", 'know', 'why', 'the', 'film', 'took', 'so', 'long', 'and', 'cost', 'so', 'much', '.', '\\\\nthere', 'was', 'really', 'no', 'super', 'affects', 'at', 'all', ',', 'unless', 'you', 'consider', 'an', 'invisible', 'devil', ',', 'who', 'was', 'in', 'it', 'for', '5', 'minutes', 'tops', ',', 'worth', 'the', 'overpriced', 'budget', '.', '\\\\nthe', 'budget', 'should', 'have', 'gone', 'into', 'a', 'better', 'script', ',', 'where', 'at', 'least', 'audiences', 'could', 'be', 'somewhat', 'entertained', 'instead', 'of', 'facing', 'boredom', '.', '\\\\nit', \"'s\", 'pitiful', 'to', 'see', 'how', 'scripts', 'like', 'these', 'get', 'bought', 'and', 'made', 'into', 'a', 'movie', '.', '\\\\ndo', 'they', 'even', 'read', 'these', 'things', 'anymore', '?', '\\\\nit', 'sure', 'does', \"n't\", 'seem', 'like', 'it', '.', '\\\\nthankfully', 'gabriel', \"'s\", 'performance', 'gave', 'some', 'light', 'to', 'this', 'poor', 'film', '.', '\\\\nwhen', 'he', 'walks', 'down', 'the', 'street', 'searching', 'for', 'robin', 'tunney', ',', 'you', 'ca', \"n't\", 'help', 'but', 'feel', 'that', 'he', 'looked', 'like', 'a', 'devil', '.', '\\\\nthe', 'guy', 'is', 'creepy', 'looking', 'anyway', '!', '\\\\nwhen', 'it', \"'s\", 'all', 'over', ',', 'you', \"'re\", 'just', 'glad', 'it', \"'s\", 'the', 'end', 'of', 'the', 'movie', '.', '\\\\ndo', \"n't\", 'bother', 'to', 'see', 'this', ',', 'if', 'you', \"'re\", 'expecting', 'a', 'solid', 'action', 'flick', ',', 'because', 'it', \"'s\", 'neither', 'solid', 'nor', 'does', 'it', 'have', 'action', '.', '\\\\nit', \"'s\", 'just', 'another', 'movie', 'that', 'we', 'are', 'suckered', 'in', 'to', 'seeing', ',', 'due', 'to', 'a', 'strategic', 'marketing', 'campaign', '.', '\\\\nsave', 'your', 'money', 'and', 'see', 'the', 'world', 'is', 'not', 'enough', 'for', 'an', 'entertaining', 'experience', '.', '\\\\n', \"''\"] \n",
            "\n",
            "\n",
            "Texto limpio ->  ['arnold', 'schwarzenegger', 'has', 'been', 'an', 'icon', 'for', 'action', 'enthusiasts', 'since', 'the', 'late', '80', 'but', 'lately', 'his', 'films', 'have', 'been', 'very', 'sloppy', 'and', 'the', 'oneliners', 'are', 'getting', 'worse', 'it', 'hard', 'seeing', 'arnold', 'as', 'mr', 'freeze', 'in', 'batman', 'and', 'robin', 'especially', 'when', 'he', 'says', 'tons', 'of', 'ice', 'jokes', 'but', 'hey', 'he', 'got', '15', 'million', 'what', 'it', 'matter', 'to', 'him', 'once', 'again', 'arnold', 'has', 'signed', 'to', 'do', 'another', 'expensive', 'blockbuster', 'that', 'ca', 'nt', 'compare', 'with', 'the', 'likes', 'of', 'the', 'terminator', 'series', 'true', 'lies', 'and', 'even', 'eraser', 'in', 'this', 'so', 'called', 'dark', 'thriller', 'the', 'devil', 'gabriel', 'byrne', 'has', 'come', 'upon', 'earth', 'to', 'impregnate', 'a', 'woman', 'robin', 'tunney', 'which', 'happens', 'every', '1000', 'years', 'and', 'basically', 'destroy', 'the', 'world', 'but', 'apparently', 'god', 'has', 'chosen', 'one', 'man', 'and', 'that', 'one', 'man', 'is', 'jericho', 'cane', 'arnold', 'himself', 'with', 'the', 'help', 'of', 'a', 'trusty', 'sidekick', 'kevin', 'pollack', 'they', 'will', 'stop', 'at', 'nothing', 'to', 'let', 'the', 'devil', 'take', 'over', 'the', 'world', 'parts', 'of', 'this', 'are', 'actually', 'so', 'absurd', 'that', 'they', 'would', 'fit', 'right', 'in', 'with', 'dogma', 'yes', 'the', 'film', 'is', 'that', 'weak', 'but', 'it', 'better', 'than', 'the', 'other', 'blockbuster', 'right', 'now', 'sleepy', 'hollow', 'but', 'it', 'makes', 'the', 'world', 'is', 'not', 'enough', 'look', 'like', 'a', '4', 'star', 'film', 'anyway', 'this', 'definitely', 'does', 'nt', 'seem', 'like', 'an', 'arnold', 'movie', 'it', 'just', 'was', 'nt', 'the', 'type', 'of', 'film', 'you', 'can', 'see', 'him', 'doing', 'sure', 'he', 'gave', 'us', 'a', 'few', 'chuckles', 'with', 'his', 'well', 'known', 'oneliners', 'but', 'he', 'seemed', 'confused', 'as', 'to', 'where', 'his', 'character', 'and', 'the', 'film', 'was', 'going', 'it', 'understandable', 'especially', 'when', 'the', 'ending', 'had', 'to', 'be', 'changed', 'according', 'to', 'some', 'sources', 'aside', 'form', 'that', 'he', 'still', 'walked', 'through', 'it', 'much', 'like', 'he', 'has', 'in', 'the', 'past', 'few', 'films', 'i', 'm', 'sorry', 'to', 'say', 'this', 'arnold', 'but', 'maybe', 'these', 'are', 'the', 'end', 'of', 'your', 'action', 'days', 'speaking', 'of', 'action', 'where', 'was', 'it', 'in', 'this', 'film', 'there', 'was', 'hardly', 'any', 'explosions', 'or', 'fights', 'the', 'devil', 'made', 'a', 'few', 'places', 'explode', 'but', 'arnold', 'was', 'nt', 'kicking', 'some', 'devil', 'butt', 'the', 'ending', 'was', 'changed', 'to', 'make', 'it', 'more', 'spiritual', 'which', 'undoubtedly', 'ruined', 'the', 'film', 'i', 'was', 'at', 'least', 'hoping', 'for', 'a', 'cool', 'ending', 'if', 'nothing', 'else', 'occurred', 'but', 'once', 'again', 'i', 'was', 'let', 'down', 'i', 'also', 'do', 'nt', 'know', 'why', 'the', 'film', 'took', 'so', 'long', 'and', 'cost', 'so', 'much', 'there', 'was', 'really', 'no', 'super', 'affects', 'at', 'all', 'unless', 'you', 'consider', 'an', 'invisible', 'devil', 'who', 'was', 'in', 'it', 'for', '5', 'minutes', 'tops', 'worth', 'the', 'overpriced', 'budget', 'the', 'budget', 'should', 'have', 'gone', 'into', 'a', 'better', 'script', 'where', 'at', 'least', 'audiences', 'could', 'be', 'somewhat', 'entertained', 'instead', 'of', 'facing', 'boredom', 'it', 'pitiful', 'to', 'see', 'how', 'scripts', 'like', 'these', 'get', 'bought', 'and', 'made', 'into', 'a', 'movie', 'do', 'they', 'even', 'read', 'these', 'things', 'anymore', 'it', 'sure', 'does', 'nt', 'seem', 'like', 'it', 'thankfully', 'gabriel', 'performance', 'gave', 'some', 'light', 'to', 'this', 'poor', 'film', 'when', 'he', 'walks', 'down', 'the', 'street', 'searching', 'for', 'robin', 'tunney', 'you', 'ca', 'nt', 'help', 'but', 'feel', 'that', 'he', 'looked', 'like', 'a', 'devil', 'the', 'guy', 'is', 'creepy', 'looking', 'anyway', 'when', 'it', 'all', 'over', 'you', 're', 'just', 'glad', 'it', 'the', 'end', 'of', 'the', 'movie', 'do', 'nt', 'bother', 'to', 'see', 'this', 'if', 'you', 're', 'expecting', 'a', 'solid', 'action', 'flick', 'because', 'it', 'neither', 'solid', 'nor', 'does', 'it', 'have', 'action', 'it', 'just', 'another', 'movie', 'that', 'we', 'are', 'suckered', 'in', 'to', 'seeing', 'due', 'to', 'a', 'strategic', 'marketing', 'campaign', 'save', 'your', 'money', 'and', 'see', 'the', 'world', 'is', 'not', 'enough', 'for', 'an', 'entertaining', 'experience']\n",
            "Cantidad de caracteres texto limpio:  2361 \n",
            "\n",
            "\n",
            "Texto limpio y sin stopwords ->  ['arnold', 'schwarzenegger', 'icon', 'action', 'enthusiasts', 'since', 'late', '80', 'lately', 'films', 'sloppy', 'oneliners', 'getting', 'worse', 'hard', 'seeing', 'arnold', 'mr', 'freeze', 'batman', 'robin', 'especially', 'says', 'tons', 'ice', 'jokes', 'hey', 'got', '15', 'million', 'matter', 'arnold', 'signed', 'another', 'expensive', 'blockbuster', 'ca', 'nt', 'compare', 'likes', 'terminator', 'series', 'true', 'lies', 'even', 'eraser', 'called', 'dark', 'thriller', 'devil', 'gabriel', 'byrne', 'come', 'upon', 'earth', 'impregnate', 'woman', 'robin', 'tunney', 'happens', 'every', '1000', 'years', 'basically', 'destroy', 'world', 'apparently', 'god', 'chosen', 'one', 'man', 'one', 'man', 'jericho', 'cane', 'arnold', 'help', 'trusty', 'sidekick', 'kevin', 'pollack', 'stop', 'nothing', 'let', 'devil', 'take', 'world', 'parts', 'actually', 'absurd', 'would', 'fit', 'right', 'dogma', 'yes', 'film', 'weak', 'better', 'blockbuster', 'right', 'sleepy', 'hollow', 'makes', 'world', 'enough', 'look', 'like', '4', 'star', 'film', 'anyway', 'definitely', 'nt', 'seem', 'like', 'arnold', 'movie', 'nt', 'type', 'film', 'see', 'sure', 'gave', 'us', 'chuckles', 'well', 'known', 'oneliners', 'seemed', 'confused', 'character', 'film', 'going', 'understandable', 'especially', 'ending', 'changed', 'according', 'sources', 'aside', 'form', 'still', 'walked', 'much', 'like', 'past', 'films', 'sorry', 'say', 'arnold', 'maybe', 'end', 'action', 'days', 'speaking', 'action', 'film', 'hardly', 'explosions', 'fights', 'devil', 'made', 'places', 'explode', 'arnold', 'nt', 'kicking', 'devil', 'butt', 'ending', 'changed', 'make', 'spiritual', 'undoubtedly', 'ruined', 'film', 'least', 'hoping', 'cool', 'ending', 'nothing', 'else', 'occurred', 'let', 'also', 'nt', 'know', 'film', 'took', 'long', 'cost', 'much', 'really', 'super', 'affects', 'unless', 'consider', 'invisible', 'devil', '5', 'minutes', 'tops', 'worth', 'overpriced', 'budget', 'budget', 'gone', 'better', 'script', 'least', 'audiences', 'could', 'somewhat', 'entertained', 'instead', 'facing', 'boredom', 'pitiful', 'see', 'scripts', 'like', 'get', 'bought', 'made', 'movie', 'even', 'read', 'things', 'anymore', 'sure', 'nt', 'seem', 'like', 'thankfully', 'gabriel', 'performance', 'gave', 'light', 'poor', 'film', 'walks', 'street', 'searching', 'robin', 'tunney', 'ca', 'nt', 'help', 'feel', 'looked', 'like', 'devil', 'guy', 'creepy', 'looking', 'anyway', 'glad', 'end', 'movie', 'nt', 'bother', 'see', 'expecting', 'solid', 'action', 'flick', 'neither', 'solid', 'action', 'another', 'movie', 'suckered', 'seeing', 'due', 'strategic', 'marketing', 'campaign', 'save', 'money', 'see', 'world', 'enough', 'entertaining', 'experience']\n",
            "Cantidad de caracteres final sin stopwords:  1568 \n",
            "\n",
            "\n",
            "Texto original reducido en un ->  0.4962025316455696\n",
            "\n",
            "----------------------------------------------------------------------------------------\n",
            "\n",
            "Texto original ->  b\"good films are hard to find these days . \\ngreat films are beyond rare . \\nproof of life , russell crowe's one-two punch of a deft kidnap and rescue thriller , is one of those rare gems . \\na taut drama laced with strong and subtle acting , an intelligent script , and masterful directing , together it delivers something virtually unheard of in the film industry these days , genuine motivation in a story that rings true . \\nconsider the strange coincidence of russell crowe's character in proof of life making the moves on a distraught wife played by meg ryan's character in the film -- all while the real russell crowe was hitching up with married woman meg ryan in the outside world . \\ni haven't seen this much chemistry between actors since mcqueen and mcgraw teamed up in peckinpah's masterpiece , the getaway . \\nbut enough with the gossip , let's get to the review . \\nthe film revolves around the kidnapping of peter bowman ( david morse ) , an american engineer working in south america who is kidnapped during a mass ambush of civilians by anti-government soldiers . \\nupon discovering his identity , the rebel soldiers decide to ransom him for $6 million . \\nthe only problem is that the company peter bowman works for is being auctioned off , and no one will step forward with the money . \\nwith no choice available to her , bowman's wife alice ( ryan ) hires terry thorne ( crowe ) , a highly skilled negotiator and rescue operative , to arrange the return of her husband . \\nbut when things go wrong -- as they always do in these situations -- terry and his team ( which includes the most surprising casting choice of the year : david caruso ) take matters into their own hands . \\nthe film is notable in that it takes this very simple story line and creates a complex and intelligent character-driven vehicle filled with well-written dialogue , shades of motivation , and convincing acting by all the actors . \\nthe script is based on both a book ( the long march to freedom ) and a magazine article pertaining to kidnap/ransom situations , and the story has been sharply pieced together by tony gilroy , screenwriter of the devil's advocate and dolores claiborne . \\nthe biggest surprise for me was not the chemistry between crowe and ryan , but that between crowe and david caruso . \\ndug out from b-movie hell , caruso pulls off a gutsy performance as crowe's right hand gun while providing most of the film's humor . \\nryan cries a lot and smokes too many cigarettes , david morse ends up getting everyone at the guerilla camp to hate him , and crowe provides another memorable acting turn as the stoic , gunslinger character of terry thorne . \\nthe most memorable pieces of the film lie in its action scenes . \\nthe bulk of those scenes , which bookend the movie , work extremely well as establishment and closure devices for all of the story's characters . \\nthe scenes are skillfully crafted and executed with amazing accuracy and poise . \\ndirector taylor hackford mixes both his old-school style of filmmaking with the dizziness of a lars von trier film . \\nproof of life is a thinking man's action movie . \\nit is a film about the choices men and women make in the face of love and war , and the sacrifices one makes for those choices -- the sacrifices that help you sleep at night . \\n\"\n",
            "Cantidad de caracteres inicial:  3317  \n",
            "\n",
            "\n",
            "Texto tokenizado en palabras ->  ['good', 'films', 'are', 'hard', 'to', 'find', 'these', 'days', '.', '\\\\ngreat', 'films', 'are', 'beyond', 'rare', '.', '\\\\nproof', 'of', 'life', ',', 'russell', 'crowe', \"'s\", 'one-two', 'punch', 'of', 'a', 'deft', 'kidnap', 'and', 'rescue', 'thriller', ',', 'is', 'one', 'of', 'those', 'rare', 'gems', '.', '\\\\na', 'taut', 'drama', 'laced', 'with', 'strong', 'and', 'subtle', 'acting', ',', 'an', 'intelligent', 'script', ',', 'and', 'masterful', 'directing', ',', 'together', 'it', 'delivers', 'something', 'virtually', 'unheard', 'of', 'in', 'the', 'film', 'industry', 'these', 'days', ',', 'genuine', 'motivation', 'in', 'a', 'story', 'that', 'rings', 'true', '.', '\\\\nconsider', 'the', 'strange', 'coincidence', 'of', 'russell', 'crowe', \"'s\", 'character', 'in', 'proof', 'of', 'life', 'making', 'the', 'moves', 'on', 'a', 'distraught', 'wife', 'played', 'by', 'meg', 'ryan', \"'s\", 'character', 'in', 'the', 'film', '--', 'all', 'while', 'the', 'real', 'russell', 'crowe', 'was', 'hitching', 'up', 'with', 'married', 'woman', 'meg', 'ryan', 'in', 'the', 'outside', 'world', '.', '\\\\ni', 'have', \"n't\", 'seen', 'this', 'much', 'chemistry', 'between', 'actors', 'since', 'mcqueen', 'and', 'mcgraw', 'teamed', 'up', 'in', 'peckinpah', \"'s\", 'masterpiece', ',', 'the', 'getaway', '.', '\\\\nbut', 'enough', 'with', 'the', 'gossip', ',', 'let', \"'s\", 'get', 'to', 'the', 'review', '.', '\\\\nthe', 'film', 'revolves', 'around', 'the', 'kidnapping', 'of', 'peter', 'bowman', '(', 'david', 'morse', ')', ',', 'an', 'american', 'engineer', 'working', 'in', 'south', 'america', 'who', 'is', 'kidnapped', 'during', 'a', 'mass', 'ambush', 'of', 'civilians', 'by', 'anti-government', 'soldiers', '.', '\\\\nupon', 'discovering', 'his', 'identity', ',', 'the', 'rebel', 'soldiers', 'decide', 'to', 'ransom', 'him', 'for', '$', '6', 'million', '.', '\\\\nthe', 'only', 'problem', 'is', 'that', 'the', 'company', 'peter', 'bowman', 'works', 'for', 'is', 'being', 'auctioned', 'off', ',', 'and', 'no', 'one', 'will', 'step', 'forward', 'with', 'the', 'money', '.', '\\\\nwith', 'no', 'choice', 'available', 'to', 'her', ',', 'bowman', \"'s\", 'wife', 'alice', '(', 'ryan', ')', 'hires', 'terry', 'thorne', '(', 'crowe', ')', ',', 'a', 'highly', 'skilled', 'negotiator', 'and', 'rescue', 'operative', ',', 'to', 'arrange', 'the', 'return', 'of', 'her', 'husband', '.', '\\\\nbut', 'when', 'things', 'go', 'wrong', '--', 'as', 'they', 'always', 'do', 'in', 'these', 'situations', '--', 'terry', 'and', 'his', 'team', '(', 'which', 'includes', 'the', 'most', 'surprising', 'casting', 'choice', 'of', 'the', 'year', ':', 'david', 'caruso', ')', 'take', 'matters', 'into', 'their', 'own', 'hands', '.', '\\\\nthe', 'film', 'is', 'notable', 'in', 'that', 'it', 'takes', 'this', 'very', 'simple', 'story', 'line', 'and', 'creates', 'a', 'complex', 'and', 'intelligent', 'character-driven', 'vehicle', 'filled', 'with', 'well-written', 'dialogue', ',', 'shades', 'of', 'motivation', ',', 'and', 'convincing', 'acting', 'by', 'all', 'the', 'actors', '.', '\\\\nthe', 'script', 'is', 'based', 'on', 'both', 'a', 'book', '(', 'the', 'long', 'march', 'to', 'freedom', ')', 'and', 'a', 'magazine', 'article', 'pertaining', 'to', 'kidnap/ransom', 'situations', ',', 'and', 'the', 'story', 'has', 'been', 'sharply', 'pieced', 'together', 'by', 'tony', 'gilroy', ',', 'screenwriter', 'of', 'the', 'devil', \"'s\", 'advocate', 'and', 'dolores', 'claiborne', '.', '\\\\nthe', 'biggest', 'surprise', 'for', 'me', 'was', 'not', 'the', 'chemistry', 'between', 'crowe', 'and', 'ryan', ',', 'but', 'that', 'between', 'crowe', 'and', 'david', 'caruso', '.', '\\\\ndug', 'out', 'from', 'b-movie', 'hell', ',', 'caruso', 'pulls', 'off', 'a', 'gutsy', 'performance', 'as', 'crowe', \"'s\", 'right', 'hand', 'gun', 'while', 'providing', 'most', 'of', 'the', 'film', \"'s\", 'humor', '.', '\\\\nryan', 'cries', 'a', 'lot', 'and', 'smokes', 'too', 'many', 'cigarettes', ',', 'david', 'morse', 'ends', 'up', 'getting', 'everyone', 'at', 'the', 'guerilla', 'camp', 'to', 'hate', 'him', ',', 'and', 'crowe', 'provides', 'another', 'memorable', 'acting', 'turn', 'as', 'the', 'stoic', ',', 'gunslinger', 'character', 'of', 'terry', 'thorne', '.', '\\\\nthe', 'most', 'memorable', 'pieces', 'of', 'the', 'film', 'lie', 'in', 'its', 'action', 'scenes', '.', '\\\\nthe', 'bulk', 'of', 'those', 'scenes', ',', 'which', 'bookend', 'the', 'movie', ',', 'work', 'extremely', 'well', 'as', 'establishment', 'and', 'closure', 'devices', 'for', 'all', 'of', 'the', 'story', \"'s\", 'characters', '.', '\\\\nthe', 'scenes', 'are', 'skillfully', 'crafted', 'and', 'executed', 'with', 'amazing', 'accuracy', 'and', 'poise', '.', '\\\\ndirector', 'taylor', 'hackford', 'mixes', 'both', 'his', 'old-school', 'style', 'of', 'filmmaking', 'with', 'the', 'dizziness', 'of', 'a', 'lars', 'von', 'trier', 'film', '.', '\\\\nproof', 'of', 'life', 'is', 'a', 'thinking', 'man', \"'s\", 'action', 'movie', '.', '\\\\nit', 'is', 'a', 'film', 'about', 'the', 'choices', 'men', 'and', 'women', 'make', 'in', 'the', 'face', 'of', 'love', 'and', 'war', ',', 'and', 'the', 'sacrifices', 'one', 'makes', 'for', 'those', 'choices', '--', 'the', 'sacrifices', 'that', 'help', 'you', 'sleep', 'at', 'night', '.', '\\\\n', \"''\"] \n",
            "\n",
            "\n",
            "Texto limpio ->  ['good', 'films', 'are', 'hard', 'to', 'find', 'these', 'days', 'great', 'films', 'are', 'beyond', 'rare', 'proof', 'of', 'life', 'russell', 'crowe', 'onetwo', 'punch', 'of', 'a', 'deft', 'kidnap', 'and', 'rescue', 'thriller', 'is', 'one', 'of', 'those', 'rare', 'gems', 'a', 'taut', 'drama', 'laced', 'with', 'strong', 'and', 'subtle', 'acting', 'an', 'intelligent', 'script', 'and', 'masterful', 'directing', 'together', 'it', 'delivers', 'something', 'virtually', 'unheard', 'of', 'in', 'the', 'film', 'industry', 'these', 'days', 'genuine', 'motivation', 'in', 'a', 'story', 'that', 'rings', 'true', 'consider', 'the', 'strange', 'coincidence', 'of', 'russell', 'crowe', 'character', 'in', 'proof', 'of', 'life', 'making', 'the', 'moves', 'on', 'a', 'distraught', 'wife', 'played', 'by', 'meg', 'ryan', 'character', 'in', 'the', 'film', 'all', 'while', 'the', 'real', 'russell', 'crowe', 'was', 'hitching', 'up', 'with', 'married', 'woman', 'meg', 'ryan', 'in', 'the', 'outside', 'world', 'i', 'have', 'nt', 'seen', 'this', 'much', 'chemistry', 'between', 'actors', 'since', 'mcqueen', 'and', 'mcgraw', 'teamed', 'up', 'in', 'peckinpah', 'masterpiece', 'the', 'getaway', 'but', 'enough', 'with', 'the', 'gossip', 'let', 'get', 'to', 'the', 'review', 'the', 'film', 'revolves', 'around', 'the', 'kidnapping', 'of', 'peter', 'bowman', 'david', 'morse', 'an', 'american', 'engineer', 'working', 'in', 'south', 'america', 'who', 'is', 'kidnapped', 'during', 'a', 'mass', 'ambush', 'of', 'civilians', 'by', 'antigovernment', 'soldiers', 'upon', 'discovering', 'his', 'identity', 'the', 'rebel', 'soldiers', 'decide', 'to', 'ransom', 'him', 'for', '6', 'million', 'the', 'only', 'problem', 'is', 'that', 'the', 'company', 'peter', 'bowman', 'works', 'for', 'is', 'being', 'auctioned', 'off', 'and', 'no', 'one', 'will', 'step', 'forward', 'with', 'the', 'money', 'with', 'no', 'choice', 'available', 'to', 'her', 'bowman', 'wife', 'alice', 'ryan', 'hires', 'terry', 'thorne', 'crowe', 'a', 'highly', 'skilled', 'negotiator', 'and', 'rescue', 'operative', 'to', 'arrange', 'the', 'return', 'of', 'her', 'husband', 'but', 'when', 'things', 'go', 'wrong', 'as', 'they', 'always', 'do', 'in', 'these', 'situations', 'terry', 'and', 'his', 'team', 'which', 'includes', 'the', 'most', 'surprising', 'casting', 'choice', 'of', 'the', 'year', 'david', 'caruso', 'take', 'matters', 'into', 'their', 'own', 'hands', 'the', 'film', 'is', 'notable', 'in', 'that', 'it', 'takes', 'this', 'very', 'simple', 'story', 'line', 'and', 'creates', 'a', 'complex', 'and', 'intelligent', 'characterdriven', 'vehicle', 'filled', 'with', 'wellwritten', 'dialogue', 'shades', 'of', 'motivation', 'and', 'convincing', 'acting', 'by', 'all', 'the', 'actors', 'the', 'script', 'is', 'based', 'on', 'both', 'a', 'book', 'the', 'long', 'march', 'to', 'freedom', 'and', 'a', 'magazine', 'article', 'pertaining', 'to', 'kidnapransom', 'situations', 'and', 'the', 'story', 'has', 'been', 'sharply', 'pieced', 'together', 'by', 'tony', 'gilroy', 'screenwriter', 'of', 'the', 'devil', 'advocate', 'and', 'dolores', 'claiborne', 'the', 'biggest', 'surprise', 'for', 'me', 'was', 'not', 'the', 'chemistry', 'between', 'crowe', 'and', 'ryan', 'but', 'that', 'between', 'crowe', 'and', 'david', 'caruso', 'dug', 'out', 'from', 'bmovie', 'hell', 'caruso', 'pulls', 'off', 'a', 'gutsy', 'performance', 'as', 'crowe', 'right', 'hand', 'gun', 'while', 'providing', 'most', 'of', 'the', 'film', 'humor', 'ryan', 'cries', 'a', 'lot', 'and', 'smokes', 'too', 'many', 'cigarettes', 'david', 'morse', 'ends', 'up', 'getting', 'everyone', 'at', 'the', 'guerilla', 'camp', 'to', 'hate', 'him', 'and', 'crowe', 'provides', 'another', 'memorable', 'acting', 'turn', 'as', 'the', 'stoic', 'gunslinger', 'character', 'of', 'terry', 'thorne', 'the', 'most', 'memorable', 'pieces', 'of', 'the', 'film', 'lie', 'in', 'its', 'action', 'scenes', 'the', 'bulk', 'of', 'those', 'scenes', 'which', 'bookend', 'the', 'movie', 'work', 'extremely', 'well', 'as', 'establishment', 'and', 'closure', 'devices', 'for', 'all', 'of', 'the', 'story', 'characters', 'the', 'scenes', 'are', 'skillfully', 'crafted', 'and', 'executed', 'with', 'amazing', 'accuracy', 'and', 'poise', 'director', 'taylor', 'hackford', 'mixes', 'both', 'his', 'oldschool', 'style', 'of', 'filmmaking', 'with', 'the', 'dizziness', 'of', 'a', 'lars', 'von', 'trier', 'film', 'proof', 'of', 'life', 'is', 'a', 'thinking', 'man', 'action', 'movie', 'it', 'is', 'a', 'film', 'about', 'the', 'choices', 'men', 'and', 'women', 'make', 'in', 'the', 'face', 'of', 'love', 'and', 'war', 'and', 'the', 'sacrifices', 'one', 'makes', 'for', 'those', 'choices', 'the', 'sacrifices', 'that', 'help', 'you', 'sleep', 'at', 'night']\n",
            "Cantidad de caracteres texto limpio:  2568 \n",
            "\n",
            "\n",
            "Texto limpio y sin stopwords ->  ['good', 'films', 'hard', 'find', 'days', 'great', 'films', 'beyond', 'rare', 'proof', 'life', 'russell', 'crowe', 'onetwo', 'punch', 'deft', 'kidnap', 'rescue', 'thriller', 'one', 'rare', 'gems', 'taut', 'drama', 'laced', 'strong', 'subtle', 'acting', 'intelligent', 'script', 'masterful', 'directing', 'together', 'delivers', 'something', 'virtually', 'unheard', 'film', 'industry', 'days', 'genuine', 'motivation', 'story', 'rings', 'true', 'consider', 'strange', 'coincidence', 'russell', 'crowe', 'character', 'proof', 'life', 'making', 'moves', 'distraught', 'wife', 'played', 'meg', 'ryan', 'character', 'film', 'real', 'russell', 'crowe', 'hitching', 'married', 'woman', 'meg', 'ryan', 'outside', 'world', 'nt', 'seen', 'much', 'chemistry', 'actors', 'since', 'mcqueen', 'mcgraw', 'teamed', 'peckinpah', 'masterpiece', 'getaway', 'enough', 'gossip', 'let', 'get', 'review', 'film', 'revolves', 'around', 'kidnapping', 'peter', 'bowman', 'david', 'morse', 'american', 'engineer', 'working', 'south', 'america', 'kidnapped', 'mass', 'ambush', 'civilians', 'antigovernment', 'soldiers', 'upon', 'discovering', 'identity', 'rebel', 'soldiers', 'decide', 'ransom', '6', 'million', 'problem', 'company', 'peter', 'bowman', 'works', 'auctioned', 'one', 'step', 'forward', 'money', 'choice', 'available', 'bowman', 'wife', 'alice', 'ryan', 'hires', 'terry', 'thorne', 'crowe', 'highly', 'skilled', 'negotiator', 'rescue', 'operative', 'arrange', 'return', 'husband', 'things', 'go', 'wrong', 'always', 'situations', 'terry', 'team', 'includes', 'surprising', 'casting', 'choice', 'year', 'david', 'caruso', 'take', 'matters', 'hands', 'film', 'notable', 'takes', 'simple', 'story', 'line', 'creates', 'complex', 'intelligent', 'characterdriven', 'vehicle', 'filled', 'wellwritten', 'dialogue', 'shades', 'motivation', 'convincing', 'acting', 'actors', 'script', 'based', 'book', 'long', 'march', 'freedom', 'magazine', 'article', 'pertaining', 'kidnapransom', 'situations', 'story', 'sharply', 'pieced', 'together', 'tony', 'gilroy', 'screenwriter', 'devil', 'advocate', 'dolores', 'claiborne', 'biggest', 'surprise', 'chemistry', 'crowe', 'ryan', 'crowe', 'david', 'caruso', 'dug', 'bmovie', 'hell', 'caruso', 'pulls', 'gutsy', 'performance', 'crowe', 'right', 'hand', 'gun', 'providing', 'film', 'humor', 'ryan', 'cries', 'lot', 'smokes', 'many', 'cigarettes', 'david', 'morse', 'ends', 'getting', 'everyone', 'guerilla', 'camp', 'hate', 'crowe', 'provides', 'another', 'memorable', 'acting', 'turn', 'stoic', 'gunslinger', 'character', 'terry', 'thorne', 'memorable', 'pieces', 'film', 'lie', 'action', 'scenes', 'bulk', 'scenes', 'bookend', 'movie', 'work', 'extremely', 'well', 'establishment', 'closure', 'devices', 'story', 'characters', 'scenes', 'skillfully', 'crafted', 'executed', 'amazing', 'accuracy', 'poise', 'director', 'taylor', 'hackford', 'mixes', 'oldschool', 'style', 'filmmaking', 'dizziness', 'lars', 'von', 'trier', 'film', 'proof', 'life', 'thinking', 'man', 'action', 'movie', 'film', 'choices', 'men', 'women', 'make', 'face', 'love', 'war', 'sacrifices', 'one', 'makes', 'choices', 'sacrifices', 'help', 'sleep', 'night']\n",
            "Cantidad de caracteres final sin stopwords:  1913 \n",
            "\n",
            "\n",
            "Texto original reducido en un ->  0.5767259571902321\n",
            "\n",
            "----------------------------------------------------------------------------------------\n",
            "\n",
            "Texto original ->  b\"quaid stars as a man who has taken up the proffesion of dragonslayer after he feels he is betrayed by a dragon early in the movie . \\nhe runs into the last dragon in existence , and there is a genuinely amusing battle between the two which results in a standoff where quaid is in the dragons mouth , but has his sword pointed at the dragons brain . \\neventually , they decide to call a truce , and they work out a deal . \\nsince he is the last dragon , he will pretend to die and quaid will be able to get paid for it . \\ntheir scam works at first , until they come to a town without any money . \\ninstead the town sacrifices a girl to the dragon , but of course , draco is a nice droagon , so he won't eat her . there is however a very amusing scene where draco is hitting on the young girl . \\nof course , as you can probably tell by the plot , this is a silly movie , but it does know when to take itself seriously at the right times , unlike eddie , which was serious all the time . \\nyou could probably call this a medieval comedy , because there are more laughs here than in eddie and spy hard combined . \\ndennis quaid makes a fine hero . \\npete posthlewaite provides some ghreat comedy as a monk who journeys with them . \\ndina meyer is appealing as the sacrificed girl . \\nbut lets face it , the movie is really about the dragon , and what an amazing creation he is . \\nconnery's voice and ilm team up to provide us with a truly magnificent dragon . \\nso , if you are going to see this movie for a strong hard core medieval epic , you are going to the wrong movie . \\nif you are going because of the dragon , you will not be dissapointed , and you will be provided with plenty of laughs that smooth out the boring parts in the script . \\n\"\n",
            "Cantidad de caracteres inicial:  1750  \n",
            "\n",
            "\n",
            "Texto tokenizado en palabras ->  ['quaid', 'stars', 'as', 'a', 'man', 'who', 'has', 'taken', 'up', 'the', 'proffesion', 'of', 'dragonslayer', 'after', 'he', 'feels', 'he', 'is', 'betrayed', 'by', 'a', 'dragon', 'early', 'in', 'the', 'movie', '.', '\\\\nhe', 'runs', 'into', 'the', 'last', 'dragon', 'in', 'existence', ',', 'and', 'there', 'is', 'a', 'genuinely', 'amusing', 'battle', 'between', 'the', 'two', 'which', 'results', 'in', 'a', 'standoff', 'where', 'quaid', 'is', 'in', 'the', 'dragons', 'mouth', ',', 'but', 'has', 'his', 'sword', 'pointed', 'at', 'the', 'dragons', 'brain', '.', '\\\\neventually', ',', 'they', 'decide', 'to', 'call', 'a', 'truce', ',', 'and', 'they', 'work', 'out', 'a', 'deal', '.', '\\\\nsince', 'he', 'is', 'the', 'last', 'dragon', ',', 'he', 'will', 'pretend', 'to', 'die', 'and', 'quaid', 'will', 'be', 'able', 'to', 'get', 'paid', 'for', 'it', '.', '\\\\ntheir', 'scam', 'works', 'at', 'first', ',', 'until', 'they', 'come', 'to', 'a', 'town', 'without', 'any', 'money', '.', '\\\\ninstead', 'the', 'town', 'sacrifices', 'a', 'girl', 'to', 'the', 'dragon', ',', 'but', 'of', 'course', ',', 'draco', 'is', 'a', 'nice', 'droagon', ',', 'so', 'he', 'wo', \"n't\", 'eat', 'her', '.', 'there', 'is', 'however', 'a', 'very', 'amusing', 'scene', 'where', 'draco', 'is', 'hitting', 'on', 'the', 'young', 'girl', '.', '\\\\nof', 'course', ',', 'as', 'you', 'can', 'probably', 'tell', 'by', 'the', 'plot', ',', 'this', 'is', 'a', 'silly', 'movie', ',', 'but', 'it', 'does', 'know', 'when', 'to', 'take', 'itself', 'seriously', 'at', 'the', 'right', 'times', ',', 'unlike', 'eddie', ',', 'which', 'was', 'serious', 'all', 'the', 'time', '.', '\\\\nyou', 'could', 'probably', 'call', 'this', 'a', 'medieval', 'comedy', ',', 'because', 'there', 'are', 'more', 'laughs', 'here', 'than', 'in', 'eddie', 'and', 'spy', 'hard', 'combined', '.', '\\\\ndennis', 'quaid', 'makes', 'a', 'fine', 'hero', '.', '\\\\npete', 'posthlewaite', 'provides', 'some', 'ghreat', 'comedy', 'as', 'a', 'monk', 'who', 'journeys', 'with', 'them', '.', '\\\\ndina', 'meyer', 'is', 'appealing', 'as', 'the', 'sacrificed', 'girl', '.', '\\\\nbut', 'lets', 'face', 'it', ',', 'the', 'movie', 'is', 'really', 'about', 'the', 'dragon', ',', 'and', 'what', 'an', 'amazing', 'creation', 'he', 'is', '.', '\\\\nconnery', \"'s\", 'voice', 'and', 'ilm', 'team', 'up', 'to', 'provide', 'us', 'with', 'a', 'truly', 'magnificent', 'dragon', '.', '\\\\nso', ',', 'if', 'you', 'are', 'going', 'to', 'see', 'this', 'movie', 'for', 'a', 'strong', 'hard', 'core', 'medieval', 'epic', ',', 'you', 'are', 'going', 'to', 'the', 'wrong', 'movie', '.', '\\\\nif', 'you', 'are', 'going', 'because', 'of', 'the', 'dragon', ',', 'you', 'will', 'not', 'be', 'dissapointed', ',', 'and', 'you', 'will', 'be', 'provided', 'with', 'plenty', 'of', 'laughs', 'that', 'smooth', 'out', 'the', 'boring', 'parts', 'in', 'the', 'script', '.', '\\\\n', \"''\"] \n",
            "\n",
            "\n",
            "Texto limpio ->  ['quaid', 'stars', 'as', 'a', 'man', 'who', 'has', 'taken', 'up', 'the', 'proffesion', 'of', 'dragonslayer', 'after', 'he', 'feels', 'he', 'is', 'betrayed', 'by', 'a', 'dragon', 'early', 'in', 'the', 'movie', 'he', 'runs', 'into', 'the', 'last', 'dragon', 'in', 'existence', 'and', 'there', 'is', 'a', 'genuinely', 'amusing', 'battle', 'between', 'the', 'two', 'which', 'results', 'in', 'a', 'standoff', 'where', 'quaid', 'is', 'in', 'the', 'dragons', 'mouth', 'but', 'has', 'his', 'sword', 'pointed', 'at', 'the', 'dragons', 'brain', 'eventually', 'they', 'decide', 'to', 'call', 'a', 'truce', 'and', 'they', 'work', 'out', 'a', 'deal', 'since', 'he', 'is', 'the', 'last', 'dragon', 'he', 'will', 'pretend', 'to', 'die', 'and', 'quaid', 'will', 'be', 'able', 'to', 'get', 'paid', 'for', 'it', 'their', 'scam', 'works', 'at', 'first', 'until', 'they', 'come', 'to', 'a', 'town', 'without', 'any', 'money', 'instead', 'the', 'town', 'sacrifices', 'a', 'girl', 'to', 'the', 'dragon', 'but', 'of', 'course', 'draco', 'is', 'a', 'nice', 'droagon', 'so', 'he', 'wo', 'nt', 'eat', 'her', 'there', 'is', 'however', 'a', 'very', 'amusing', 'scene', 'where', 'draco', 'is', 'hitting', 'on', 'the', 'young', 'girl', 'of', 'course', 'as', 'you', 'can', 'probably', 'tell', 'by', 'the', 'plot', 'this', 'is', 'a', 'silly', 'movie', 'but', 'it', 'does', 'know', 'when', 'to', 'take', 'itself', 'seriously', 'at', 'the', 'right', 'times', 'unlike', 'eddie', 'which', 'was', 'serious', 'all', 'the', 'time', 'you', 'could', 'probably', 'call', 'this', 'a', 'medieval', 'comedy', 'because', 'there', 'are', 'more', 'laughs', 'here', 'than', 'in', 'eddie', 'and', 'spy', 'hard', 'combined', 'dennis', 'quaid', 'makes', 'a', 'fine', 'hero', 'pete', 'posthlewaite', 'provides', 'some', 'ghreat', 'comedy', 'as', 'a', 'monk', 'who', 'journeys', 'with', 'them', 'dina', 'meyer', 'is', 'appealing', 'as', 'the', 'sacrificed', 'girl', 'but', 'lets', 'face', 'it', 'the', 'movie', 'is', 'really', 'about', 'the', 'dragon', 'and', 'what', 'an', 'amazing', 'creation', 'he', 'is', 'connery', 'voice', 'and', 'ilm', 'team', 'up', 'to', 'provide', 'us', 'with', 'a', 'truly', 'magnificent', 'dragon', 'so', 'if', 'you', 'are', 'going', 'to', 'see', 'this', 'movie', 'for', 'a', 'strong', 'hard', 'core', 'medieval', 'epic', 'you', 'are', 'going', 'to', 'the', 'wrong', 'movie', 'if', 'you', 'are', 'going', 'because', 'of', 'the', 'dragon', 'you', 'will', 'not', 'be', 'dissapointed', 'and', 'you', 'will', 'be', 'provided', 'with', 'plenty', 'of', 'laughs', 'that', 'smooth', 'out', 'the', 'boring', 'parts', 'in', 'the', 'script']\n",
            "Cantidad de caracteres texto limpio:  1320 \n",
            "\n",
            "\n",
            "Texto limpio y sin stopwords ->  ['quaid', 'stars', 'man', 'taken', 'proffesion', 'dragonslayer', 'feels', 'betrayed', 'dragon', 'early', 'movie', 'runs', 'last', 'dragon', 'existence', 'genuinely', 'amusing', 'battle', 'two', 'results', 'standoff', 'quaid', 'dragons', 'mouth', 'sword', 'pointed', 'dragons', 'brain', 'eventually', 'decide', 'call', 'truce', 'work', 'deal', 'since', 'last', 'dragon', 'pretend', 'die', 'quaid', 'able', 'get', 'paid', 'scam', 'works', 'first', 'come', 'town', 'without', 'money', 'instead', 'town', 'sacrifices', 'girl', 'dragon', 'course', 'draco', 'nice', 'droagon', 'wo', 'nt', 'eat', 'however', 'amusing', 'scene', 'draco', 'hitting', 'young', 'girl', 'course', 'probably', 'tell', 'plot', 'silly', 'movie', 'know', 'take', 'seriously', 'right', 'times', 'unlike', 'eddie', 'serious', 'time', 'could', 'probably', 'call', 'medieval', 'comedy', 'laughs', 'eddie', 'spy', 'hard', 'combined', 'dennis', 'quaid', 'makes', 'fine', 'hero', 'pete', 'posthlewaite', 'provides', 'ghreat', 'comedy', 'monk', 'journeys', 'dina', 'meyer', 'appealing', 'sacrificed', 'girl', 'lets', 'face', 'movie', 'really', 'dragon', 'amazing', 'creation', 'connery', 'voice', 'ilm', 'team', 'provide', 'us', 'truly', 'magnificent', 'dragon', 'going', 'see', 'movie', 'strong', 'hard', 'core', 'medieval', 'epic', 'going', 'wrong', 'movie', 'going', 'dragon', 'dissapointed', 'provided', 'plenty', 'laughs', 'smooth', 'boring', 'parts', 'script']\n",
            "Cantidad de caracteres final sin stopwords:  833 \n",
            "\n",
            "\n",
            "Texto original reducido en un ->  0.476\n",
            "\n",
            "----------------------------------------------------------------------------------------\n",
            "\n",
            "Texto original ->  b'we could paraphrase michelle pfieffer\\'s character in dangerous minds and say that beyond rangoon starts with an \" a . \" \\nthat\\'s fair enough . \\nall movies , like all school children , should be given the benefit of the doubt . \\nthe chance to succeed . \\nafter all , we like to think that the right combination of talent and effort can do wonders . \\nmountains can be moved , and good movies can be made . \\nyeah right . \\nchildren fail , as do films . \\nas does director john boorman\\'s latest . \\nthe success of beyond rangoon hinges on the believability of patricia arquette ( ed wood , true romance ) as the busty westerner-in-peril wandering about 1988 burma without a passport . \\nthough we can stomach the mild plot contrivances that get her there , it\\'s a tougher task to overlook the actress . \\nshe\\'s a lightweight . \\nas the first scene ( with narration ! ) \\ndemonstrates , she doesn\\'t have * nearly * enough range for the emotions that her character--a mother fleeing the memories of a murdered husband and son--is supposed to show . \\nshe may give a stronger performance than , say , keanu reeves in a walk in the clouds , by not by much . \\nbeyond rangoon is a very physically appealing film , thanks to the practiced craftsmanship of john boorman ( deliverance , excalibur , hope and glory ) . \\nhe keeps the narrative moving , no matter how muddy the story--or the heroine--gets . \\nwhy he chose arquette remains a mystery , though . \\nmaybe he was thinking that the dramatic weight of the story would overcome any casting deficiencies . \\nbut even after an hour of half-stated political statements and murky mass killings , we * still * don\\'t know enough of what\\'s happening in this country to feel distressed for the characters or their situations . \\nempty exoticism . \\nthe technical credits in beyond rangoon are a curious mix , combining lush jungle photography with bad blue-screen work . \\nalso odd is the obvious dubbing . \\ndone to make some of the foreign characters sound less foreign ? \\nand , is it my mistake , or do the same extras keep reappearing as different soldiers ? ? \\ndoo doo doo doo . \\n[ \" twilight zone \" theme , or opinion of movie . \\nyou be the judge . ] \\n'\n",
            "Cantidad de caracteres inicial:  2216  \n",
            "\n",
            "\n",
            "Texto tokenizado en palabras ->  ['we', 'could', 'paraphrase', 'michelle', 'pfieffer\\\\', \"'s\", 'character', 'in', 'dangerous', 'minds', 'and', 'say', 'that', 'beyond', 'rangoon', 'starts', 'with', 'an', '``', 'a', '.', '``', '\\\\nthat\\\\', \"'s\", 'fair', 'enough', '.', '\\\\nall', 'movies', ',', 'like', 'all', 'school', 'children', ',', 'should', 'be', 'given', 'the', 'benefit', 'of', 'the', 'doubt', '.', '\\\\nthe', 'chance', 'to', 'succeed', '.', '\\\\nafter', 'all', ',', 'we', 'like', 'to', 'think', 'that', 'the', 'right', 'combination', 'of', 'talent', 'and', 'effort', 'can', 'do', 'wonders', '.', '\\\\nmountains', 'can', 'be', 'moved', ',', 'and', 'good', 'movies', 'can', 'be', 'made', '.', '\\\\nyeah', 'right', '.', '\\\\nchildren', 'fail', ',', 'as', 'do', 'films', '.', '\\\\nas', 'does', 'director', 'john', 'boorman\\\\', \"'s\", 'latest', '.', '\\\\nthe', 'success', 'of', 'beyond', 'rangoon', 'hinges', 'on', 'the', 'believability', 'of', 'patricia', 'arquette', '(', 'ed', 'wood', ',', 'true', 'romance', ')', 'as', 'the', 'busty', 'westerner-in-peril', 'wandering', 'about', '1988', 'burma', 'without', 'a', 'passport', '.', '\\\\nthough', 'we', 'can', 'stomach', 'the', 'mild', 'plot', 'contrivances', 'that', 'get', 'her', 'there', ',', 'it\\\\', \"'s\", 'a', 'tougher', 'task', 'to', 'overlook', 'the', 'actress', '.', '\\\\nshe\\\\', \"'s\", 'a', 'lightweight', '.', '\\\\nas', 'the', 'first', 'scene', '(', 'with', 'narration', '!', ')', '\\\\ndemonstrates', ',', 'she', \"doesn\\\\'t\", 'have', '*', 'nearly', '*', 'enough', 'range', 'for', 'the', 'emotions', 'that', 'her', 'character', '--', 'a', 'mother', 'fleeing', 'the', 'memories', 'of', 'a', 'murdered', 'husband', 'and', 'son', '--', 'is', 'supposed', 'to', 'show', '.', '\\\\nshe', 'may', 'give', 'a', 'stronger', 'performance', 'than', ',', 'say', ',', 'keanu', 'reeves', 'in', 'a', 'walk', 'in', 'the', 'clouds', ',', 'by', 'not', 'by', 'much', '.', '\\\\nbeyond', 'rangoon', 'is', 'a', 'very', 'physically', 'appealing', 'film', ',', 'thanks', 'to', 'the', 'practiced', 'craftsmanship', 'of', 'john', 'boorman', '(', 'deliverance', ',', 'excalibur', ',', 'hope', 'and', 'glory', ')', '.', '\\\\nhe', 'keeps', 'the', 'narrative', 'moving', ',', 'no', 'matter', 'how', 'muddy', 'the', 'story', '--', 'or', 'the', 'heroine', '--', 'gets', '.', '\\\\nwhy', 'he', 'chose', 'arquette', 'remains', 'a', 'mystery', ',', 'though', '.', '\\\\nmaybe', 'he', 'was', 'thinking', 'that', 'the', 'dramatic', 'weight', 'of', 'the', 'story', 'would', 'overcome', 'any', 'casting', 'deficiencies', '.', '\\\\nbut', 'even', 'after', 'an', 'hour', 'of', 'half-stated', 'political', 'statements', 'and', 'murky', 'mass', 'killings', ',', 'we', '*', 'still', '*', \"don\\\\'t\", 'know', 'enough', 'of', 'what\\\\', \"'s\", 'happening', 'in', 'this', 'country', 'to', 'feel', 'distressed', 'for', 'the', 'characters', 'or', 'their', 'situations', '.', '\\\\nempty', 'exoticism', '.', '\\\\nthe', 'technical', 'credits', 'in', 'beyond', 'rangoon', 'are', 'a', 'curious', 'mix', ',', 'combining', 'lush', 'jungle', 'photography', 'with', 'bad', 'blue-screen', 'work', '.', '\\\\nalso', 'odd', 'is', 'the', 'obvious', 'dubbing', '.', '\\\\ndone', 'to', 'make', 'some', 'of', 'the', 'foreign', 'characters', 'sound', 'less', 'foreign', '?', '\\\\nand', ',', 'is', 'it', 'my', 'mistake', ',', 'or', 'do', 'the', 'same', 'extras', 'keep', 'reappearing', 'as', 'different', 'soldiers', '?', '?', '\\\\ndoo', 'doo', 'doo', 'doo', '.', '\\\\n', '[', '``', 'twilight', 'zone', '``', 'theme', ',', 'or', 'opinion', 'of', 'movie', '.', '\\\\nyou', 'be', 'the', 'judge', '.', ']', '\\\\n', \"'\"] \n",
            "\n",
            "\n",
            "Texto limpio ->  ['we', 'could', 'paraphrase', 'michelle', 'pfieffer', 'character', 'in', 'dangerous', 'minds', 'and', 'say', 'that', 'beyond', 'rangoon', 'starts', 'with', 'an', 'a', 'that', 'fair', 'enough', 'all', 'movies', 'like', 'all', 'school', 'children', 'should', 'be', 'given', 'the', 'benefit', 'of', 'the', 'doubt', 'the', 'chance', 'to', 'succeed', 'after', 'all', 'we', 'like', 'to', 'think', 'that', 'the', 'right', 'combination', 'of', 'talent', 'and', 'effort', 'can', 'do', 'wonders', 'mountains', 'can', 'be', 'moved', 'and', 'good', 'movies', 'can', 'be', 'made', 'yeah', 'right', 'children', 'fail', 'as', 'do', 'films', 'as', 'does', 'director', 'john', 'boorman', 'latest', 'the', 'success', 'of', 'beyond', 'rangoon', 'hinges', 'on', 'the', 'believability', 'of', 'patricia', 'arquette', 'ed', 'wood', 'true', 'romance', 'as', 'the', 'busty', 'westernerinperil', 'wandering', 'about', '1988', 'burma', 'without', 'a', 'passport', 'though', 'we', 'can', 'stomach', 'the', 'mild', 'plot', 'contrivances', 'that', 'get', 'her', 'there', 'it', 'a', 'tougher', 'task', 'to', 'overlook', 'the', 'actress', 'she', 'a', 'lightweight', 'as', 'the', 'first', 'scene', 'with', 'narration', 'demonstrates', 'she', 'doesnt', 'have', 'nearly', 'enough', 'range', 'for', 'the', 'emotions', 'that', 'her', 'character', 'a', 'mother', 'fleeing', 'the', 'memories', 'of', 'a', 'murdered', 'husband', 'and', 'son', 'is', 'supposed', 'to', 'show', 'she', 'may', 'give', 'a', 'stronger', 'performance', 'than', 'say', 'keanu', 'reeves', 'in', 'a', 'walk', 'in', 'the', 'clouds', 'by', 'not', 'by', 'much', 'beyond', 'rangoon', 'is', 'a', 'very', 'physically', 'appealing', 'film', 'thanks', 'to', 'the', 'practiced', 'craftsmanship', 'of', 'john', 'boorman', 'deliverance', 'excalibur', 'hope', 'and', 'glory', 'he', 'keeps', 'the', 'narrative', 'moving', 'no', 'matter', 'how', 'muddy', 'the', 'story', 'or', 'the', 'heroine', 'gets', 'why', 'he', 'chose', 'arquette', 'remains', 'a', 'mystery', 'though', 'maybe', 'he', 'was', 'thinking', 'that', 'the', 'dramatic', 'weight', 'of', 'the', 'story', 'would', 'overcome', 'any', 'casting', 'deficiencies', 'but', 'even', 'after', 'an', 'hour', 'of', 'halfstated', 'political', 'statements', 'and', 'murky', 'mass', 'killings', 'we', 'still', 'dont', 'know', 'enough', 'of', 'what', 'happening', 'in', 'this', 'country', 'to', 'feel', 'distressed', 'for', 'the', 'characters', 'or', 'their', 'situations', 'empty', 'exoticism', 'the', 'technical', 'credits', 'in', 'beyond', 'rangoon', 'are', 'a', 'curious', 'mix', 'combining', 'lush', 'jungle', 'photography', 'with', 'bad', 'bluescreen', 'work', 'also', 'odd', 'is', 'the', 'obvious', 'dubbing', 'done', 'to', 'make', 'some', 'of', 'the', 'foreign', 'characters', 'sound', 'less', 'foreign', 'and', 'is', 'it', 'my', 'mistake', 'or', 'do', 'the', 'same', 'extras', 'keep', 'reappearing', 'as', 'different', 'soldiers', 'doo', 'doo', 'doo', 'doo', 'twilight', 'zone', 'theme', 'or', 'opinion', 'of', 'movie', 'you', 'be', 'the', 'judge']\n",
            "Cantidad de caracteres texto limpio:  1652 \n",
            "\n",
            "\n",
            "Texto limpio y sin stopwords ->  ['could', 'paraphrase', 'michelle', 'pfieffer', 'character', 'dangerous', 'minds', 'say', 'beyond', 'rangoon', 'starts', 'fair', 'enough', 'movies', 'like', 'school', 'children', 'given', 'benefit', 'doubt', 'chance', 'succeed', 'like', 'think', 'right', 'combination', 'talent', 'effort', 'wonders', 'mountains', 'moved', 'good', 'movies', 'made', 'yeah', 'right', 'children', 'fail', 'films', 'director', 'john', 'boorman', 'latest', 'success', 'beyond', 'rangoon', 'hinges', 'believability', 'patricia', 'arquette', 'ed', 'wood', 'true', 'romance', 'busty', 'westernerinperil', 'wandering', '1988', 'burma', 'without', 'passport', 'though', 'stomach', 'mild', 'plot', 'contrivances', 'get', 'tougher', 'task', 'overlook', 'actress', 'lightweight', 'first', 'scene', 'narration', 'demonstrates', 'doesnt', 'nearly', 'enough', 'range', 'emotions', 'character', 'mother', 'fleeing', 'memories', 'murdered', 'husband', 'son', 'supposed', 'show', 'may', 'give', 'stronger', 'performance', 'say', 'keanu', 'reeves', 'walk', 'clouds', 'much', 'beyond', 'rangoon', 'physically', 'appealing', 'film', 'thanks', 'practiced', 'craftsmanship', 'john', 'boorman', 'deliverance', 'excalibur', 'hope', 'glory', 'keeps', 'narrative', 'moving', 'matter', 'muddy', 'story', 'heroine', 'gets', 'chose', 'arquette', 'remains', 'mystery', 'though', 'maybe', 'thinking', 'dramatic', 'weight', 'story', 'would', 'overcome', 'casting', 'deficiencies', 'even', 'hour', 'halfstated', 'political', 'statements', 'murky', 'mass', 'killings', 'still', 'dont', 'know', 'enough', 'happening', 'country', 'feel', 'distressed', 'characters', 'situations', 'empty', 'exoticism', 'technical', 'credits', 'beyond', 'rangoon', 'curious', 'mix', 'combining', 'lush', 'jungle', 'photography', 'bad', 'bluescreen', 'work', 'also', 'odd', 'obvious', 'dubbing', 'done', 'make', 'foreign', 'characters', 'sound', 'less', 'foreign', 'mistake', 'extras', 'keep', 'reappearing', 'different', 'soldiers', 'doo', 'doo', 'doo', 'doo', 'twilight', 'zone', 'theme', 'opinion', 'movie', 'judge']\n",
            "Cantidad de caracteres final sin stopwords:  1262 \n",
            "\n",
            "\n",
            "Texto original reducido en un ->  0.5694945848375451\n",
            "\n",
            "----------------------------------------------------------------------------------------\n",
            "\n",
            "Texto original ->  b\"kolya is one of the richest films i've seen in some time . \\nzdenek sverak plays a confirmed old bachelor ( who's likely to remain so ) , who finds his life as a czech cellist increasingly impacted by the five-year old boy that he's taking care of . \\nthough it ends rather abruptly-- and i'm whining , 'cause i wanted to spend more time with these characters-- the acting , writing , and production values are as high as , if not higher than , comparable american dramas . \\nthis father-and-son delight-- sverak also wrote the script , while his son , jan , directed-- won a golden globe for best foreign language film and , a couple days after i saw it , walked away an oscar . \\nin czech and russian , with english subtitles . \\n\"\n",
            "Cantidad de caracteres inicial:  735  \n",
            "\n",
            "\n",
            "Texto tokenizado en palabras ->  ['kolya', 'is', 'one', 'of', 'the', 'richest', 'films', 'i', \"'ve\", 'seen', 'in', 'some', 'time', '.', '\\\\nzdenek', 'sverak', 'plays', 'a', 'confirmed', 'old', 'bachelor', '(', 'who', \"'s\", 'likely', 'to', 'remain', 'so', ')', ',', 'who', 'finds', 'his', 'life', 'as', 'a', 'czech', 'cellist', 'increasingly', 'impacted', 'by', 'the', 'five-year', 'old', 'boy', 'that', 'he', \"'s\", 'taking', 'care', 'of', '.', '\\\\nthough', 'it', 'ends', 'rather', 'abruptly', '--', 'and', 'i', \"'m\", 'whining', ',', \"'cause\", 'i', 'wanted', 'to', 'spend', 'more', 'time', 'with', 'these', 'characters', '--', 'the', 'acting', ',', 'writing', ',', 'and', 'production', 'values', 'are', 'as', 'high', 'as', ',', 'if', 'not', 'higher', 'than', ',', 'comparable', 'american', 'dramas', '.', '\\\\nthis', 'father-and-son', 'delight', '--', 'sverak', 'also', 'wrote', 'the', 'script', ',', 'while', 'his', 'son', ',', 'jan', ',', 'directed', '--', 'won', 'a', 'golden', 'globe', 'for', 'best', 'foreign', 'language', 'film', 'and', ',', 'a', 'couple', 'days', 'after', 'i', 'saw', 'it', ',', 'walked', 'away', 'an', 'oscar', '.', '\\\\nin', 'czech', 'and', 'russian', ',', 'with', 'english', 'subtitles', '.', '\\\\n', \"''\"] \n",
            "\n",
            "\n",
            "Texto limpio ->  ['kolya', 'is', 'one', 'of', 'the', 'richest', 'films', 'i', 've', 'seen', 'in', 'some', 'time', 'zdenek', 'sverak', 'plays', 'a', 'confirmed', 'old', 'bachelor', 'who', 'likely', 'to', 'remain', 'so', 'who', 'finds', 'his', 'life', 'as', 'a', 'czech', 'cellist', 'increasingly', 'impacted', 'by', 'the', 'fiveyear', 'old', 'boy', 'that', 'he', 'taking', 'care', 'of', 'though', 'it', 'ends', 'rather', 'abruptly', 'and', 'i', 'm', 'whining', 'cause', 'i', 'wanted', 'to', 'spend', 'more', 'time', 'with', 'these', 'characters', 'the', 'acting', 'writing', 'and', 'production', 'values', 'are', 'as', 'high', 'as', 'if', 'not', 'higher', 'than', 'comparable', 'american', 'dramas', 'this', 'fatherandson', 'delight', 'sverak', 'also', 'wrote', 'the', 'script', 'while', 'his', 'son', 'jan', 'directed', 'won', 'a', 'golden', 'globe', 'for', 'best', 'foreign', 'language', 'film', 'and', 'a', 'couple', 'days', 'after', 'i', 'saw', 'it', 'walked', 'away', 'an', 'oscar', 'in', 'czech', 'and', 'russian', 'with', 'english', 'subtitles']\n",
            "Cantidad de caracteres texto limpio:  546 \n",
            "\n",
            "\n",
            "Texto limpio y sin stopwords ->  ['kolya', 'one', 'richest', 'films', 'seen', 'time', 'zdenek', 'sverak', 'plays', 'confirmed', 'old', 'bachelor', 'likely', 'remain', 'finds', 'life', 'czech', 'cellist', 'increasingly', 'impacted', 'fiveyear', 'old', 'boy', 'taking', 'care', 'though', 'ends', 'rather', 'abruptly', 'whining', 'cause', 'wanted', 'spend', 'time', 'characters', 'acting', 'writing', 'production', 'values', 'high', 'higher', 'comparable', 'american', 'dramas', 'fatherandson', 'delight', 'sverak', 'also', 'wrote', 'script', 'son', 'jan', 'directed', 'golden', 'globe', 'best', 'foreign', 'language', 'film', 'couple', 'days', 'saw', 'walked', 'away', 'oscar', 'czech', 'russian', 'english', 'subtitles']\n",
            "Cantidad de caracteres final sin stopwords:  410 \n",
            "\n",
            "\n",
            "Texto original reducido en un ->  0.5578231292517006\n",
            "\n",
            "----------------------------------------------------------------------------------------\n",
            "\n",
            "Texto original ->  b'i don\\'t know how many other people have had the idea cross their mind that their life could be an ongoing television show watched by another world of people , but it\\'s something i used to wonder about when i was younger . \\ni can\\'t decide if i first thought it because i watched a lot of tv or because my brother hit me in the head with a baseball bat , but i\\'m pretty sure andrew niccol , screenwriter for the truman show , has had the same curious thought . \\nthe truman show is about a man ( jim carrey ) whose entire life has been engineered by a corporation and marketed to the public . \\nsince birth , he\\'s been living in the fictional island town of seahaven , fla . , which actually exists as a giant domed set just beyond the hollywood sign . \\nall the people in truman burbank\\'s life are actors , and the anonymous townfolk paid extras . \\npeople watch truman\\'s life 24 hours a day , live , with no commercial interruptions . \\nrevenue comes instead from product placement , a staple of contemporary hollywood , with truman\\'s friends and relatives describing their consumer items in cheerful and optimistic tones . \\nthe sun rises and sets on cue and everyone likes everyone else . \\neven if you haven\\'t seen the truman show , you\\'ve probably learned most of the crucial details from the commercials , the trailer and other promotion blitzes . \\nif anything i\\'ve written so far is a surprise to you , then i pity you for making me a primary source for your entertainment news . \\neither way , you should probably know the premise of the truman show going into it , because otherwise you\\'ll probably think it sucks . \\nit begins with jim carrey looking into a mirror , reciting the crucial \" eat me \" scene from alive , wishing his neighbors a good day , afternoon and evening , and living in domestic bliss with his wife ( laura linney ) . \\nbut weird things start happening . \\na stage light comes falling out of the sky , truman hears people tracking his movements on the radio and he swears he sees his dead father . \\nwe learn through a flashback that his father drowned when truman was a child , sailing through a rainstorm . \\nthe death was staged by director christof ( ed harris ) , who wanted to put a fear of water into truman to keep him from leaving the island . \\nsimilar cruel manipulations keep him from stumbling upon the truth , not the least of them truman\\'s best friend marlon ( noah emmerich ) , who assures him he\\'s not in on any conspiracy because the last thing he\\'d ever do is hurt him . \\nas truman\\'s trusting eyes tear over , christof fades up emotional synthesizer music for a worldwide audience of people who apparently never watch anything else . \\nthere\\'s even a daily behind-the-scenes update from harry shearer that captures the highlights of truman\\'s existence . \\nthe key to a movie like this is in finding the right balance between humor and drama , because a premise like this has its obvious implications in both directions . \\nand it all hinges on carrey , who has to balance comic naivet with a real sense of longing and drive to find out what the hell is going on . \\nhe\\'s come a long way from talking butt cheeks in ace ventura . \\nmost fundamentally , it\\'s just plain interesting to follow along as director peter weir shows us just how they can capture a person\\'s life without the person realizing it -- how they coordinate extras , hide cameras and feed automatic lines to actors . \\nthe most interesting thing about the truman show is that most of us can probably imagine some ambitious director pitching a show like this . \\nsure , the most interesting tv genre of the \\'90s has been reality programming and jerry springer\\'s popularity is through the roof , but those people deserve to be humiliated for turning their intimate details over to the airwaves . \\nand when news shows use hidden cameras , it\\'s done in the name of the greater good , not entertainment . \\nbut merge the two and you\\'ve got the truman show . \\nright now , it\\'s implausible -- i mean , the fcc won\\'t let you say the s-word on the air ; do you think they\\'d let you broadcast every detail of a man\\'s life to the entire world without his consent ? \\none day , though , it could happen . \\nand , even though it would mean the end of privacy , people would eat it up . \\nyou know they would . \\n'\n",
            "Cantidad de caracteres inicial:  4352  \n",
            "\n",
            "\n",
            "Texto tokenizado en palabras ->  ['i', \"don\\\\'t\", 'know', 'how', 'many', 'other', 'people', 'have', 'had', 'the', 'idea', 'cross', 'their', 'mind', 'that', 'their', 'life', 'could', 'be', 'an', 'ongoing', 'television', 'show', 'watched', 'by', 'another', 'world', 'of', 'people', ',', 'but', 'it\\\\', \"'s\", 'something', 'i', 'used', 'to', 'wonder', 'about', 'when', 'i', 'was', 'younger', '.', '\\\\ni', \"can\\\\'t\", 'decide', 'if', 'i', 'first', 'thought', 'it', 'because', 'i', 'watched', 'a', 'lot', 'of', 'tv', 'or', 'because', 'my', 'brother', 'hit', 'me', 'in', 'the', 'head', 'with', 'a', 'baseball', 'bat', ',', 'but', 'i\\\\', \"'m\", 'pretty', 'sure', 'andrew', 'niccol', ',', 'screenwriter', 'for', 'the', 'truman', 'show', ',', 'has', 'had', 'the', 'same', 'curious', 'thought', '.', '\\\\nthe', 'truman', 'show', 'is', 'about', 'a', 'man', '(', 'jim', 'carrey', ')', 'whose', 'entire', 'life', 'has', 'been', 'engineered', 'by', 'a', 'corporation', 'and', 'marketed', 'to', 'the', 'public', '.', '\\\\nsince', 'birth', ',', 'he\\\\', \"'s\", 'been', 'living', 'in', 'the', 'fictional', 'island', 'town', 'of', 'seahaven', ',', 'fla', '.', ',', 'which', 'actually', 'exists', 'as', 'a', 'giant', 'domed', 'set', 'just', 'beyond', 'the', 'hollywood', 'sign', '.', '\\\\nall', 'the', 'people', 'in', 'truman', 'burbank\\\\', \"'s\", 'life', 'are', 'actors', ',', 'and', 'the', 'anonymous', 'townfolk', 'paid', 'extras', '.', '\\\\npeople', 'watch', 'truman\\\\', \"'s\", 'life', '24', 'hours', 'a', 'day', ',', 'live', ',', 'with', 'no', 'commercial', 'interruptions', '.', '\\\\nrevenue', 'comes', 'instead', 'from', 'product', 'placement', ',', 'a', 'staple', 'of', 'contemporary', 'hollywood', ',', 'with', 'truman\\\\', \"'s\", 'friends', 'and', 'relatives', 'describing', 'their', 'consumer', 'items', 'in', 'cheerful', 'and', 'optimistic', 'tones', '.', '\\\\nthe', 'sun', 'rises', 'and', 'sets', 'on', 'cue', 'and', 'everyone', 'likes', 'everyone', 'else', '.', '\\\\neven', 'if', 'you', \"haven\\\\'t\", 'seen', 'the', 'truman', 'show', ',', 'you\\\\', \"'ve\", 'probably', 'learned', 'most', 'of', 'the', 'crucial', 'details', 'from', 'the', 'commercials', ',', 'the', 'trailer', 'and', 'other', 'promotion', 'blitzes', '.', '\\\\nif', 'anything', 'i\\\\', \"'ve\", 'written', 'so', 'far', 'is', 'a', 'surprise', 'to', 'you', ',', 'then', 'i', 'pity', 'you', 'for', 'making', 'me', 'a', 'primary', 'source', 'for', 'your', 'entertainment', 'news', '.', '\\\\neither', 'way', ',', 'you', 'should', 'probably', 'know', 'the', 'premise', 'of', 'the', 'truman', 'show', 'going', 'into', 'it', ',', 'because', 'otherwise', 'you\\\\', \"'ll\", 'probably', 'think', 'it', 'sucks', '.', '\\\\nit', 'begins', 'with', 'jim', 'carrey', 'looking', 'into', 'a', 'mirror', ',', 'reciting', 'the', 'crucial', '``', 'eat', 'me', '``', 'scene', 'from', 'alive', ',', 'wishing', 'his', 'neighbors', 'a', 'good', 'day', ',', 'afternoon', 'and', 'evening', ',', 'and', 'living', 'in', 'domestic', 'bliss', 'with', 'his', 'wife', '(', 'laura', 'linney', ')', '.', '\\\\nbut', 'weird', 'things', 'start', 'happening', '.', '\\\\na', 'stage', 'light', 'comes', 'falling', 'out', 'of', 'the', 'sky', ',', 'truman', 'hears', 'people', 'tracking', 'his', 'movements', 'on', 'the', 'radio', 'and', 'he', 'swears', 'he', 'sees', 'his', 'dead', 'father', '.', '\\\\nwe', 'learn', 'through', 'a', 'flashback', 'that', 'his', 'father', 'drowned', 'when', 'truman', 'was', 'a', 'child', ',', 'sailing', 'through', 'a', 'rainstorm', '.', '\\\\nthe', 'death', 'was', 'staged', 'by', 'director', 'christof', '(', 'ed', 'harris', ')', ',', 'who', 'wanted', 'to', 'put', 'a', 'fear', 'of', 'water', 'into', 'truman', 'to', 'keep', 'him', 'from', 'leaving', 'the', 'island', '.', '\\\\nsimilar', 'cruel', 'manipulations', 'keep', 'him', 'from', 'stumbling', 'upon', 'the', 'truth', ',', 'not', 'the', 'least', 'of', 'them', 'truman\\\\', \"'s\", 'best', 'friend', 'marlon', '(', 'noah', 'emmerich', ')', ',', 'who', 'assures', 'him', 'he\\\\', \"'s\", 'not', 'in', 'on', 'any', 'conspiracy', 'because', 'the', 'last', 'thing', 'he\\\\', \"'d\", 'ever', 'do', 'is', 'hurt', 'him', '.', '\\\\nas', 'truman\\\\', \"'s\", 'trusting', 'eyes', 'tear', 'over', ',', 'christof', 'fades', 'up', 'emotional', 'synthesizer', 'music', 'for', 'a', 'worldwide', 'audience', 'of', 'people', 'who', 'apparently', 'never', 'watch', 'anything', 'else', '.', '\\\\nthere\\\\', \"'s\", 'even', 'a', 'daily', 'behind-the-scenes', 'update', 'from', 'harry', 'shearer', 'that', 'captures', 'the', 'highlights', 'of', 'truman\\\\', \"'s\", 'existence', '.', '\\\\nthe', 'key', 'to', 'a', 'movie', 'like', 'this', 'is', 'in', 'finding', 'the', 'right', 'balance', 'between', 'humor', 'and', 'drama', ',', 'because', 'a', 'premise', 'like', 'this', 'has', 'its', 'obvious', 'implications', 'in', 'both', 'directions', '.', '\\\\nand', 'it', 'all', 'hinges', 'on', 'carrey', ',', 'who', 'has', 'to', 'balance', 'comic', 'naivet', 'with', 'a', 'real', 'sense', 'of', 'longing', 'and', 'drive', 'to', 'find', 'out', 'what', 'the', 'hell', 'is', 'going', 'on', '.', '\\\\nhe\\\\', \"'s\", 'come', 'a', 'long', 'way', 'from', 'talking', 'butt', 'cheeks', 'in', 'ace', 'ventura', '.', '\\\\nmost', 'fundamentally', ',', 'it\\\\', \"'s\", 'just', 'plain', 'interesting', 'to', 'follow', 'along', 'as', 'director', 'peter', 'weir', 'shows', 'us', 'just', 'how', 'they', 'can', 'capture', 'a', 'person\\\\', \"'s\", 'life', 'without', 'the', 'person', 'realizing', 'it', '--', 'how', 'they', 'coordinate', 'extras', ',', 'hide', 'cameras', 'and', 'feed', 'automatic', 'lines', 'to', 'actors', '.', '\\\\nthe', 'most', 'interesting', 'thing', 'about', 'the', 'truman', 'show', 'is', 'that', 'most', 'of', 'us', 'can', 'probably', 'imagine', 'some', 'ambitious', 'director', 'pitching', 'a', 'show', 'like', 'this', '.', '\\\\nsure', ',', 'the', 'most', 'interesting', 'tv', 'genre', 'of', 'the', \"\\\\'90s\", 'has', 'been', 'reality', 'programming', 'and', 'jerry', 'springer\\\\', \"'s\", 'popularity', 'is', 'through', 'the', 'roof', ',', 'but', 'those', 'people', 'deserve', 'to', 'be', 'humiliated', 'for', 'turning', 'their', 'intimate', 'details', 'over', 'to', 'the', 'airwaves', '.', '\\\\nand', 'when', 'news', 'shows', 'use', 'hidden', 'cameras', ',', 'it\\\\', \"'s\", 'done', 'in', 'the', 'name', 'of', 'the', 'greater', 'good', ',', 'not', 'entertainment', '.', '\\\\nbut', 'merge', 'the', 'two', 'and', 'you\\\\', \"'ve\", 'got', 'the', 'truman', 'show', '.', '\\\\nright', 'now', ',', 'it\\\\', \"'s\", 'implausible', '--', 'i', 'mean', ',', 'the', 'fcc', \"won\\\\'t\", 'let', 'you', 'say', 'the', 's-word', 'on', 'the', 'air', ';', 'do', 'you', 'think', 'they\\\\', \"'d\", 'let', 'you', 'broadcast', 'every', 'detail', 'of', 'a', 'man\\\\', \"'s\", 'life', 'to', 'the', 'entire', 'world', 'without', 'his', 'consent', '?', '\\\\none', 'day', ',', 'though', ',', 'it', 'could', 'happen', '.', '\\\\nand', ',', 'even', 'though', 'it', 'would', 'mean', 'the', 'end', 'of', 'privacy', ',', 'people', 'would', 'eat', 'it', 'up', '.', '\\\\nyou', 'know', 'they', 'would', '.', '\\\\n', \"'\"] \n",
            "\n",
            "\n",
            "Texto limpio ->  ['i', 'dont', 'know', 'how', 'many', 'other', 'people', 'have', 'had', 'the', 'idea', 'cross', 'their', 'mind', 'that', 'their', 'life', 'could', 'be', 'an', 'ongoing', 'television', 'show', 'watched', 'by', 'another', 'world', 'of', 'people', 'but', 'it', 'something', 'i', 'used', 'to', 'wonder', 'about', 'when', 'i', 'was', 'younger', 'i', 'cant', 'decide', 'if', 'i', 'first', 'thought', 'it', 'because', 'i', 'watched', 'a', 'lot', 'of', 'tv', 'or', 'because', 'my', 'brother', 'hit', 'me', 'in', 'the', 'head', 'with', 'a', 'baseball', 'bat', 'but', 'i', 'm', 'pretty', 'sure', 'andrew', 'niccol', 'screenwriter', 'for', 'the', 'truman', 'show', 'has', 'had', 'the', 'same', 'curious', 'thought', 'the', 'truman', 'show', 'is', 'about', 'a', 'man', 'jim', 'carrey', 'whose', 'entire', 'life', 'has', 'been', 'engineered', 'by', 'a', 'corporation', 'and', 'marketed', 'to', 'the', 'public', 'since', 'birth', 'he', 'been', 'living', 'in', 'the', 'fictional', 'island', 'town', 'of', 'seahaven', 'fla', 'which', 'actually', 'exists', 'as', 'a', 'giant', 'domed', 'set', 'just', 'beyond', 'the', 'hollywood', 'sign', 'all', 'the', 'people', 'in', 'truman', 'burbank', 'life', 'are', 'actors', 'and', 'the', 'anonymous', 'townfolk', 'paid', 'extras', 'people', 'watch', 'truman', 'life', '24', 'hours', 'a', 'day', 'live', 'with', 'no', 'commercial', 'interruptions', 'revenue', 'comes', 'instead', 'from', 'product', 'placement', 'a', 'staple', 'of', 'contemporary', 'hollywood', 'with', 'truman', 'friends', 'and', 'relatives', 'describing', 'their', 'consumer', 'items', 'in', 'cheerful', 'and', 'optimistic', 'tones', 'the', 'sun', 'rises', 'and', 'sets', 'on', 'cue', 'and', 'everyone', 'likes', 'everyone', 'else', 'even', 'if', 'you', 'havent', 'seen', 'the', 'truman', 'show', 'you', 've', 'probably', 'learned', 'most', 'of', 'the', 'crucial', 'details', 'from', 'the', 'commercials', 'the', 'trailer', 'and', 'other', 'promotion', 'blitzes', 'if', 'anything', 'i', 've', 'written', 'so', 'far', 'is', 'a', 'surprise', 'to', 'you', 'then', 'i', 'pity', 'you', 'for', 'making', 'me', 'a', 'primary', 'source', 'for', 'your', 'entertainment', 'news', 'either', 'way', 'you', 'should', 'probably', 'know', 'the', 'premise', 'of', 'the', 'truman', 'show', 'going', 'into', 'it', 'because', 'otherwise', 'you', 'll', 'probably', 'think', 'it', 'sucks', 'it', 'begins', 'with', 'jim', 'carrey', 'looking', 'into', 'a', 'mirror', 'reciting', 'the', 'crucial', 'eat', 'me', 'scene', 'from', 'alive', 'wishing', 'his', 'neighbors', 'a', 'good', 'day', 'afternoon', 'and', 'evening', 'and', 'living', 'in', 'domestic', 'bliss', 'with', 'his', 'wife', 'laura', 'linney', 'but', 'weird', 'things', 'start', 'happening', 'a', 'stage', 'light', 'comes', 'falling', 'out', 'of', 'the', 'sky', 'truman', 'hears', 'people', 'tracking', 'his', 'movements', 'on', 'the', 'radio', 'and', 'he', 'swears', 'he', 'sees', 'his', 'dead', 'father', 'we', 'learn', 'through', 'a', 'flashback', 'that', 'his', 'father', 'drowned', 'when', 'truman', 'was', 'a', 'child', 'sailing', 'through', 'a', 'rainstorm', 'the', 'death', 'was', 'staged', 'by', 'director', 'christof', 'ed', 'harris', 'who', 'wanted', 'to', 'put', 'a', 'fear', 'of', 'water', 'into', 'truman', 'to', 'keep', 'him', 'from', 'leaving', 'the', 'island', 'similar', 'cruel', 'manipulations', 'keep', 'him', 'from', 'stumbling', 'upon', 'the', 'truth', 'not', 'the', 'least', 'of', 'them', 'truman', 'best', 'friend', 'marlon', 'noah', 'emmerich', 'who', 'assures', 'him', 'he', 'not', 'in', 'on', 'any', 'conspiracy', 'because', 'the', 'last', 'thing', 'he', 'd', 'ever', 'do', 'is', 'hurt', 'him', 'as', 'truman', 'trusting', 'eyes', 'tear', 'over', 'christof', 'fades', 'up', 'emotional', 'synthesizer', 'music', 'for', 'a', 'worldwide', 'audience', 'of', 'people', 'who', 'apparently', 'never', 'watch', 'anything', 'else', 'there', 'even', 'a', 'daily', 'behindthescenes', 'update', 'from', 'harry', 'shearer', 'that', 'captures', 'the', 'highlights', 'of', 'truman', 'existence', 'the', 'key', 'to', 'a', 'movie', 'like', 'this', 'is', 'in', 'finding', 'the', 'right', 'balance', 'between', 'humor', 'and', 'drama', 'because', 'a', 'premise', 'like', 'this', 'has', 'its', 'obvious', 'implications', 'in', 'both', 'directions', 'and', 'it', 'all', 'hinges', 'on', 'carrey', 'who', 'has', 'to', 'balance', 'comic', 'naivet', 'with', 'a', 'real', 'sense', 'of', 'longing', 'and', 'drive', 'to', 'find', 'out', 'what', 'the', 'hell', 'is', 'going', 'on', 'he', 'come', 'a', 'long', 'way', 'from', 'talking', 'butt', 'cheeks', 'in', 'ace', 'ventura', 'most', 'fundamentally', 'it', 'just', 'plain', 'interesting', 'to', 'follow', 'along', 'as', 'director', 'peter', 'weir', 'shows', 'us', 'just', 'how', 'they', 'can', 'capture', 'a', 'person', 'life', 'without', 'the', 'person', 'realizing', 'it', 'how', 'they', 'coordinate', 'extras', 'hide', 'cameras', 'and', 'feed', 'automatic', 'lines', 'to', 'actors', 'the', 'most', 'interesting', 'thing', 'about', 'the', 'truman', 'show', 'is', 'that', 'most', 'of', 'us', 'can', 'probably', 'imagine', 'some', 'ambitious', 'director', 'pitching', 'a', 'show', 'like', 'this', 'sure', 'the', 'most', 'interesting', 'tv', 'genre', 'of', 'the', '90s', 'has', 'been', 'reality', 'programming', 'and', 'jerry', 'springer', 'popularity', 'is', 'through', 'the', 'roof', 'but', 'those', 'people', 'deserve', 'to', 'be', 'humiliated', 'for', 'turning', 'their', 'intimate', 'details', 'over', 'to', 'the', 'airwaves', 'and', 'when', 'news', 'shows', 'use', 'hidden', 'cameras', 'it', 'done', 'in', 'the', 'name', 'of', 'the', 'greater', 'good', 'not', 'entertainment', 'but', 'merge', 'the', 'two', 'and', 'you', 've', 'got', 'the', 'truman', 'show', 'right', 'now', 'it', 'implausible', 'i', 'mean', 'the', 'fcc', 'wont', 'let', 'you', 'say', 'the', 'sword', 'on', 'the', 'air', 'do', 'you', 'think', 'they', 'd', 'let', 'you', 'broadcast', 'every', 'detail', 'of', 'a', 'man', 'life', 'to', 'the', 'entire', 'world', 'without', 'his', 'consent', 'one', 'day', 'though', 'it', 'could', 'happen', 'and', 'even', 'though', 'it', 'would', 'mean', 'the', 'end', 'of', 'privacy', 'people', 'would', 'eat', 'it', 'up', 'you', 'know', 'they', 'would']\n",
            "Cantidad de caracteres texto limpio:  3311 \n",
            "\n",
            "\n",
            "Texto limpio y sin stopwords ->  ['dont', 'know', 'many', 'people', 'idea', 'cross', 'mind', 'life', 'could', 'ongoing', 'television', 'show', 'watched', 'another', 'world', 'people', 'something', 'used', 'wonder', 'younger', 'cant', 'decide', 'first', 'thought', 'watched', 'lot', 'tv', 'brother', 'hit', 'head', 'baseball', 'bat', 'pretty', 'sure', 'andrew', 'niccol', 'screenwriter', 'truman', 'show', 'curious', 'thought', 'truman', 'show', 'man', 'jim', 'carrey', 'whose', 'entire', 'life', 'engineered', 'corporation', 'marketed', 'public', 'since', 'birth', 'living', 'fictional', 'island', 'town', 'seahaven', 'fla', 'actually', 'exists', 'giant', 'domed', 'set', 'beyond', 'hollywood', 'sign', 'people', 'truman', 'burbank', 'life', 'actors', 'anonymous', 'townfolk', 'paid', 'extras', 'people', 'watch', 'truman', 'life', '24', 'hours', 'day', 'live', 'commercial', 'interruptions', 'revenue', 'comes', 'instead', 'product', 'placement', 'staple', 'contemporary', 'hollywood', 'truman', 'friends', 'relatives', 'describing', 'consumer', 'items', 'cheerful', 'optimistic', 'tones', 'sun', 'rises', 'sets', 'cue', 'everyone', 'likes', 'everyone', 'else', 'even', 'havent', 'seen', 'truman', 'show', 'probably', 'learned', 'crucial', 'details', 'commercials', 'trailer', 'promotion', 'blitzes', 'anything', 'written', 'far', 'surprise', 'pity', 'making', 'primary', 'source', 'entertainment', 'news', 'either', 'way', 'probably', 'know', 'premise', 'truman', 'show', 'going', 'otherwise', 'probably', 'think', 'sucks', 'begins', 'jim', 'carrey', 'looking', 'mirror', 'reciting', 'crucial', 'eat', 'scene', 'alive', 'wishing', 'neighbors', 'good', 'day', 'afternoon', 'evening', 'living', 'domestic', 'bliss', 'wife', 'laura', 'linney', 'weird', 'things', 'start', 'happening', 'stage', 'light', 'comes', 'falling', 'sky', 'truman', 'hears', 'people', 'tracking', 'movements', 'radio', 'swears', 'sees', 'dead', 'father', 'learn', 'flashback', 'father', 'drowned', 'truman', 'child', 'sailing', 'rainstorm', 'death', 'staged', 'director', 'christof', 'ed', 'harris', 'wanted', 'put', 'fear', 'water', 'truman', 'keep', 'leaving', 'island', 'similar', 'cruel', 'manipulations', 'keep', 'stumbling', 'upon', 'truth', 'least', 'truman', 'best', 'friend', 'marlon', 'noah', 'emmerich', 'assures', 'conspiracy', 'last', 'thing', 'ever', 'hurt', 'truman', 'trusting', 'eyes', 'tear', 'christof', 'fades', 'emotional', 'synthesizer', 'music', 'worldwide', 'audience', 'people', 'apparently', 'never', 'watch', 'anything', 'else', 'even', 'daily', 'behindthescenes', 'update', 'harry', 'shearer', 'captures', 'highlights', 'truman', 'existence', 'key', 'movie', 'like', 'finding', 'right', 'balance', 'humor', 'drama', 'premise', 'like', 'obvious', 'implications', 'directions', 'hinges', 'carrey', 'balance', 'comic', 'naivet', 'real', 'sense', 'longing', 'drive', 'find', 'hell', 'going', 'come', 'long', 'way', 'talking', 'butt', 'cheeks', 'ace', 'ventura', 'fundamentally', 'plain', 'interesting', 'follow', 'along', 'director', 'peter', 'weir', 'shows', 'us', 'capture', 'person', 'life', 'without', 'person', 'realizing', 'coordinate', 'extras', 'hide', 'cameras', 'feed', 'automatic', 'lines', 'actors', 'interesting', 'thing', 'truman', 'show', 'us', 'probably', 'imagine', 'ambitious', 'director', 'pitching', 'show', 'like', 'sure', 'interesting', 'tv', 'genre', '90s', 'reality', 'programming', 'jerry', 'springer', 'popularity', 'roof', 'people', 'deserve', 'humiliated', 'turning', 'intimate', 'details', 'airwaves', 'news', 'shows', 'use', 'hidden', 'cameras', 'done', 'name', 'greater', 'good', 'entertainment', 'merge', 'two', 'got', 'truman', 'show', 'right', 'implausible', 'mean', 'fcc', 'wont', 'let', 'say', 'sword', 'air', 'think', 'let', 'broadcast', 'every', 'detail', 'man', 'life', 'entire', 'world', 'without', 'consent', 'one', 'day', 'though', 'could', 'happen', 'even', 'though', 'would', 'mean', 'end', 'privacy', 'people', 'would', 'eat', 'know', 'would']\n",
            "Cantidad de caracteres final sin stopwords:  2368 \n",
            "\n",
            "\n",
            "Texto original reducido en un ->  0.5441176470588235\n",
            "\n",
            "----------------------------------------------------------------------------------------\n",
            "\n",
            "Texto original ->  b'capsule : trippy , hyperspeed action machine from hong kong\\'s accomplished tsui hark . \\nvan damme and rodman have nice chemistry , the stunts are eyepopping , and stuff gets blowed up real good ; what more do you want ? \\ni admit i was all set to loathe double team ; it reeked of cheapjack timing-oriented marketing ( stick dennis rodman in a movie , quick , while he\\'s hot , and do something about jean-claude van damme\\'s flagging career while we\\'re at it ! ) . \\nsurprise -- double team transcends its dumb roots and turns out to be a mess of fun . \\nbring some friends , get some pretzels , and have a blast . \\nvan damme is jack quinn , an ex-agent who is brought back in for \" one last mission \" -- you\\'d think any spy worth his shoe phone would run like hell when he hears those words . \\nbut van damme\\'s character has a pregnant wife who\\'s also a sculptor , and some unpleasant pressure gets used to get him to come through on this mission . \\nhe\\'s been assigned to take down an old enemy , a terrorist named stavros ( mickey rourke , looking oddly subdued ) , who may be back up to his old tricks . \\nin the first showdown between quinn and stavros , the movie wears its ambitions proudly on its sleeve : nonstop action . \\nan amusement park , a hospital , a private \" retired spy \" \\'s retreat , most of rome , various houses , planes , cars and other modes of transport , and the coliseum ( ! ) \\nall become arenas for some of the most bone-rattling shoot-outs and punch-outs filmed . \\nthey are better seen than described and are reason enough to see the film : one jaw-dropping scene has van damme taking on a man who uses a switchblade with his * feet * . \\n ( van damme is a good , dextrous athlete and fighter , but he is often upstaged . ) \\nthere are other nice touches . \\nstavros and quinn both want the same thing : to retire in peace with their families . \\nthat ambition ties them together in various ways , and also humanizes them a bit . \\none of the things about hk action movies is that there\\'s always some form of human element , and that\\'s carried over into this movie as well . \\nit gives weight to scenes that would otherwise be forgettable . \\nalso good is dennis rodman , playing a weapons dealer named yaz -- a character who sticks out like a fistful of broken fingers and who is funny just standing there . \\nrodman is natural on screen ; he\\'s fun to watch , especially when slinging bad guys like basketballs , and deserves to get a movie of his own , based on what\\'s seen here : a lightweight , fast-moving entertainment that showcases all of its pieces excellently . \\n'\n",
            "Cantidad de caracteres inicial:  2623  \n",
            "\n",
            "\n",
            "Texto tokenizado en palabras ->  ['capsule', ':', 'trippy', ',', 'hyperspeed', 'action', 'machine', 'from', 'hong', 'kong\\\\', \"'s\", 'accomplished', 'tsui', 'hark', '.', '\\\\nvan', 'damme', 'and', 'rodman', 'have', 'nice', 'chemistry', ',', 'the', 'stunts', 'are', 'eyepopping', ',', 'and', 'stuff', 'gets', 'blowed', 'up', 'real', 'good', ';', 'what', 'more', 'do', 'you', 'want', '?', '\\\\ni', 'admit', 'i', 'was', 'all', 'set', 'to', 'loathe', 'double', 'team', ';', 'it', 'reeked', 'of', 'cheapjack', 'timing-oriented', 'marketing', '(', 'stick', 'dennis', 'rodman', 'in', 'a', 'movie', ',', 'quick', ',', 'while', 'he\\\\', \"'s\", 'hot', ',', 'and', 'do', 'something', 'about', 'jean-claude', 'van', 'damme\\\\', \"'s\", 'flagging', 'career', 'while', 'we\\\\', \"'re\", 'at', 'it', '!', ')', '.', '\\\\nsurprise', '--', 'double', 'team', 'transcends', 'its', 'dumb', 'roots', 'and', 'turns', 'out', 'to', 'be', 'a', 'mess', 'of', 'fun', '.', '\\\\nbring', 'some', 'friends', ',', 'get', 'some', 'pretzels', ',', 'and', 'have', 'a', 'blast', '.', '\\\\nvan', 'damme', 'is', 'jack', 'quinn', ',', 'an', 'ex-agent', 'who', 'is', 'brought', 'back', 'in', 'for', '``', 'one', 'last', 'mission', '``', '--', 'you\\\\', \"'d\", 'think', 'any', 'spy', 'worth', 'his', 'shoe', 'phone', 'would', 'run', 'like', 'hell', 'when', 'he', 'hears', 'those', 'words', '.', '\\\\nbut', 'van', 'damme\\\\', \"'s\", 'character', 'has', 'a', 'pregnant', 'wife', 'who\\\\', \"'s\", 'also', 'a', 'sculptor', ',', 'and', 'some', 'unpleasant', 'pressure', 'gets', 'used', 'to', 'get', 'him', 'to', 'come', 'through', 'on', 'this', 'mission', '.', '\\\\nhe\\\\', \"'s\", 'been', 'assigned', 'to', 'take', 'down', 'an', 'old', 'enemy', ',', 'a', 'terrorist', 'named', 'stavros', '(', 'mickey', 'rourke', ',', 'looking', 'oddly', 'subdued', ')', ',', 'who', 'may', 'be', 'back', 'up', 'to', 'his', 'old', 'tricks', '.', '\\\\nin', 'the', 'first', 'showdown', 'between', 'quinn', 'and', 'stavros', ',', 'the', 'movie', 'wears', 'its', 'ambitions', 'proudly', 'on', 'its', 'sleeve', ':', 'nonstop', 'action', '.', '\\\\nan', 'amusement', 'park', ',', 'a', 'hospital', ',', 'a', 'private', '``', 'retired', 'spy', '``', '\\\\', \"'s\", 'retreat', ',', 'most', 'of', 'rome', ',', 'various', 'houses', ',', 'planes', ',', 'cars', 'and', 'other', 'modes', 'of', 'transport', ',', 'and', 'the', 'coliseum', '(', '!', ')', '\\\\nall', 'become', 'arenas', 'for', 'some', 'of', 'the', 'most', 'bone-rattling', 'shoot-outs', 'and', 'punch-outs', 'filmed', '.', '\\\\nthey', 'are', 'better', 'seen', 'than', 'described', 'and', 'are', 'reason', 'enough', 'to', 'see', 'the', 'film', ':', 'one', 'jaw-dropping', 'scene', 'has', 'van', 'damme', 'taking', 'on', 'a', 'man', 'who', 'uses', 'a', 'switchblade', 'with', 'his', '*', 'feet', '*', '.', '\\\\n', '(', 'van', 'damme', 'is', 'a', 'good', ',', 'dextrous', 'athlete', 'and', 'fighter', ',', 'but', 'he', 'is', 'often', 'upstaged', '.', ')', '\\\\nthere', 'are', 'other', 'nice', 'touches', '.', '\\\\nstavros', 'and', 'quinn', 'both', 'want', 'the', 'same', 'thing', ':', 'to', 'retire', 'in', 'peace', 'with', 'their', 'families', '.', '\\\\nthat', 'ambition', 'ties', 'them', 'together', 'in', 'various', 'ways', ',', 'and', 'also', 'humanizes', 'them', 'a', 'bit', '.', '\\\\none', 'of', 'the', 'things', 'about', 'hk', 'action', 'movies', 'is', 'that', 'there\\\\', \"'s\", 'always', 'some', 'form', 'of', 'human', 'element', ',', 'and', 'that\\\\', \"'s\", 'carried', 'over', 'into', 'this', 'movie', 'as', 'well', '.', '\\\\nit', 'gives', 'weight', 'to', 'scenes', 'that', 'would', 'otherwise', 'be', 'forgettable', '.', '\\\\nalso', 'good', 'is', 'dennis', 'rodman', ',', 'playing', 'a', 'weapons', 'dealer', 'named', 'yaz', '--', 'a', 'character', 'who', 'sticks', 'out', 'like', 'a', 'fistful', 'of', 'broken', 'fingers', 'and', 'who', 'is', 'funny', 'just', 'standing', 'there', '.', '\\\\nrodman', 'is', 'natural', 'on', 'screen', ';', 'he\\\\', \"'s\", 'fun', 'to', 'watch', ',', 'especially', 'when', 'slinging', 'bad', 'guys', 'like', 'basketballs', ',', 'and', 'deserves', 'to', 'get', 'a', 'movie', 'of', 'his', 'own', ',', 'based', 'on', 'what\\\\', \"'s\", 'seen', 'here', ':', 'a', 'lightweight', ',', 'fast-moving', 'entertainment', 'that', 'showcases', 'all', 'of', 'its', 'pieces', 'excellently', '.', '\\\\n', \"'\"] \n",
            "\n",
            "\n",
            "Texto limpio ->  ['capsule', 'trippy', 'hyperspeed', 'action', 'machine', 'from', 'hong', 'kong', 'accomplished', 'tsui', 'hark', 'van', 'damme', 'and', 'rodman', 'have', 'nice', 'chemistry', 'the', 'stunts', 'are', 'eyepopping', 'and', 'stuff', 'gets', 'blowed', 'up', 'real', 'good', 'what', 'more', 'do', 'you', 'want', 'i', 'admit', 'i', 'was', 'all', 'set', 'to', 'loathe', 'double', 'team', 'it', 'reeked', 'of', 'cheapjack', 'timingoriented', 'marketing', 'stick', 'dennis', 'rodman', 'in', 'a', 'movie', 'quick', 'while', 'he', 'hot', 'and', 'do', 'something', 'about', 'jeanclaude', 'van', 'damme', 'flagging', 'career', 'while', 'we', 're', 'at', 'it', 'surprise', 'double', 'team', 'transcends', 'its', 'dumb', 'roots', 'and', 'turns', 'out', 'to', 'be', 'a', 'mess', 'of', 'fun', 'bring', 'some', 'friends', 'get', 'some', 'pretzels', 'and', 'have', 'a', 'blast', 'van', 'damme', 'is', 'jack', 'quinn', 'an', 'exagent', 'who', 'is', 'brought', 'back', 'in', 'for', 'one', 'last', 'mission', 'you', 'd', 'think', 'any', 'spy', 'worth', 'his', 'shoe', 'phone', 'would', 'run', 'like', 'hell', 'when', 'he', 'hears', 'those', 'words', 'but', 'van', 'damme', 'character', 'has', 'a', 'pregnant', 'wife', 'who', 'also', 'a', 'sculptor', 'and', 'some', 'unpleasant', 'pressure', 'gets', 'used', 'to', 'get', 'him', 'to', 'come', 'through', 'on', 'this', 'mission', 'he', 'been', 'assigned', 'to', 'take', 'down', 'an', 'old', 'enemy', 'a', 'terrorist', 'named', 'stavros', 'mickey', 'rourke', 'looking', 'oddly', 'subdued', 'who', 'may', 'be', 'back', 'up', 'to', 'his', 'old', 'tricks', 'in', 'the', 'first', 'showdown', 'between', 'quinn', 'and', 'stavros', 'the', 'movie', 'wears', 'its', 'ambitions', 'proudly', 'on', 'its', 'sleeve', 'nonstop', 'action', 'an', 'amusement', 'park', 'a', 'hospital', 'a', 'private', 'retired', 'spy', 'retreat', 'most', 'of', 'rome', 'various', 'houses', 'planes', 'cars', 'and', 'other', 'modes', 'of', 'transport', 'and', 'the', 'coliseum', 'all', 'become', 'arenas', 'for', 'some', 'of', 'the', 'most', 'bonerattling', 'shootouts', 'and', 'punchouts', 'filmed', 'they', 'are', 'better', 'seen', 'than', 'described', 'and', 'are', 'reason', 'enough', 'to', 'see', 'the', 'film', 'one', 'jawdropping', 'scene', 'has', 'van', 'damme', 'taking', 'on', 'a', 'man', 'who', 'uses', 'a', 'switchblade', 'with', 'his', 'feet', 'van', 'damme', 'is', 'a', 'good', 'dextrous', 'athlete', 'and', 'fighter', 'but', 'he', 'is', 'often', 'upstaged', 'there', 'are', 'other', 'nice', 'touches', 'stavros', 'and', 'quinn', 'both', 'want', 'the', 'same', 'thing', 'to', 'retire', 'in', 'peace', 'with', 'their', 'families', 'that', 'ambition', 'ties', 'them', 'together', 'in', 'various', 'ways', 'and', 'also', 'humanizes', 'them', 'a', 'bit', 'one', 'of', 'the', 'things', 'about', 'hk', 'action', 'movies', 'is', 'that', 'there', 'always', 'some', 'form', 'of', 'human', 'element', 'and', 'that', 'carried', 'over', 'into', 'this', 'movie', 'as', 'well', 'it', 'gives', 'weight', 'to', 'scenes', 'that', 'would', 'otherwise', 'be', 'forgettable', 'also', 'good', 'is', 'dennis', 'rodman', 'playing', 'a', 'weapons', 'dealer', 'named', 'yaz', 'a', 'character', 'who', 'sticks', 'out', 'like', 'a', 'fistful', 'of', 'broken', 'fingers', 'and', 'who', 'is', 'funny', 'just', 'standing', 'there', 'rodman', 'is', 'natural', 'on', 'screen', 'he', 'fun', 'to', 'watch', 'especially', 'when', 'slinging', 'bad', 'guys', 'like', 'basketballs', 'and', 'deserves', 'to', 'get', 'a', 'movie', 'of', 'his', 'own', 'based', 'on', 'what', 'seen', 'here', 'a', 'lightweight', 'fastmoving', 'entertainment', 'that', 'showcases', 'all', 'of', 'its', 'pieces', 'excellently']\n",
            "Cantidad de caracteres texto limpio:  1950 \n",
            "\n",
            "\n",
            "Texto limpio y sin stopwords ->  ['capsule', 'trippy', 'hyperspeed', 'action', 'machine', 'hong', 'kong', 'accomplished', 'tsui', 'hark', 'van', 'damme', 'rodman', 'nice', 'chemistry', 'stunts', 'eyepopping', 'stuff', 'gets', 'blowed', 'real', 'good', 'want', 'admit', 'set', 'loathe', 'double', 'team', 'reeked', 'cheapjack', 'timingoriented', 'marketing', 'stick', 'dennis', 'rodman', 'movie', 'quick', 'hot', 'something', 'jeanclaude', 'van', 'damme', 'flagging', 'career', 'surprise', 'double', 'team', 'transcends', 'dumb', 'roots', 'turns', 'mess', 'fun', 'bring', 'friends', 'get', 'pretzels', 'blast', 'van', 'damme', 'jack', 'quinn', 'exagent', 'brought', 'back', 'one', 'last', 'mission', 'think', 'spy', 'worth', 'shoe', 'phone', 'would', 'run', 'like', 'hell', 'hears', 'words', 'van', 'damme', 'character', 'pregnant', 'wife', 'also', 'sculptor', 'unpleasant', 'pressure', 'gets', 'used', 'get', 'come', 'mission', 'assigned', 'take', 'old', 'enemy', 'terrorist', 'named', 'stavros', 'mickey', 'rourke', 'looking', 'oddly', 'subdued', 'may', 'back', 'old', 'tricks', 'first', 'showdown', 'quinn', 'stavros', 'movie', 'wears', 'ambitions', 'proudly', 'sleeve', 'nonstop', 'action', 'amusement', 'park', 'hospital', 'private', 'retired', 'spy', 'retreat', 'rome', 'various', 'houses', 'planes', 'cars', 'modes', 'transport', 'coliseum', 'become', 'arenas', 'bonerattling', 'shootouts', 'punchouts', 'filmed', 'better', 'seen', 'described', 'reason', 'enough', 'see', 'film', 'one', 'jawdropping', 'scene', 'van', 'damme', 'taking', 'man', 'uses', 'switchblade', 'feet', 'van', 'damme', 'good', 'dextrous', 'athlete', 'fighter', 'often', 'upstaged', 'nice', 'touches', 'stavros', 'quinn', 'want', 'thing', 'retire', 'peace', 'families', 'ambition', 'ties', 'together', 'various', 'ways', 'also', 'humanizes', 'bit', 'one', 'things', 'hk', 'action', 'movies', 'always', 'form', 'human', 'element', 'carried', 'movie', 'well', 'gives', 'weight', 'scenes', 'would', 'otherwise', 'forgettable', 'also', 'good', 'dennis', 'rodman', 'playing', 'weapons', 'dealer', 'named', 'yaz', 'character', 'sticks', 'like', 'fistful', 'broken', 'fingers', 'funny', 'standing', 'rodman', 'natural', 'screen', 'fun', 'watch', 'especially', 'slinging', 'bad', 'guys', 'like', 'basketballs', 'deserves', 'get', 'movie', 'based', 'seen', 'lightweight', 'fastmoving', 'entertainment', 'showcases', 'pieces', 'excellently']\n",
            "Cantidad de caracteres final sin stopwords:  1415 \n",
            "\n",
            "\n",
            "Texto original reducido en un ->  0.5394586351505909\n",
            "\n",
            "----------------------------------------------------------------------------------------\n",
            "\n",
            "Texto original ->  b'gothic murder-mystery yarns are not a new conceit . \\nin fact , they\\'ve been around in books and on film for many , many years . \\nwithout the proper handling , they come off as old-fashioned , bland , and outdated . \\n \" the gift , \" directed by sam raimi , is a tried-and-true effort that surprises very little , and includes everything from a wide array of suspects and red herrings , to mansions in the deep south with moss trees out front , to the eventual discovery of a waterlogged corpse found in a nearby pond . \\nit\\'s fairly obvious who the killer is ; in fact , i predicted who it would be before the movie began and was correct in my preliminary suspicions . \\nthe film ultimately shouldn\\'t work , but it does , thanks to a sparkling cast that fills each character with so many memorable nuances , the most fun to be had is in simply watching the people interact with each other . \\nannie wilson ( cate blanchett ) is a recently widowed mother of three sons who makes her living giving psychic readings to the residents of her backwater southern hometown . \\nsome of her mainstay clients include valerie barksdale ( hilary swank ) , who is severely abused by her husband donnie ( keanu reeves ) , and buddy cole ( giovanni ribisi ) , an unstable mechanic who is confused by the nightmares he\\'s been having about a mysterious blue diamond that is somehow linked to his father . \\nfor annie , she does not give the readings merely for money , but uses it as a way of seeking solace in finding the good in everyone\\'s future . \\nher late grandmother ( rosemary harris ) told her as a child that it was a gift she was given , and she should always remember that . \\nwhen annie\\'s eldest son is involved in a fight at school , she meets the nice-guy school principal , wayne collins ( greg kinnear ) , whom she finds herself attracted to . \\nbut wayne is engaged to the wealthy jessica king ( katie holmes ) , whom annie immediately gets a negative vibe about . \\nat a party with her best friend linda ( kim dickens ) , annie stumbles upon jessica in a compromising position with lawyer david duncan ( gary cole ) . \\nsoon after , jessica has disappeared , leaving everyone in a frenzy over what could have possibly happened to her , and annie starts to have nightmares and apparitions linking jessica with the vicious redneck donnie barksdale , and the pond behind his home . \\n \" the gift \" may be cliched on a sheer storytelling level , but the performances and tight direction from raimi ( who has redeemed himself for his embarrassing last film , 1999\\'s \" for love of the game \" ) lift the picture up several notches . \\nslowly enveloping the viewer into the many intriguing characters and their individual plights , the disappearance of jessica at the 30-minute mark divulges the movie\\'s true intentions and transforms the proceedings into a taut , at times frightening , horror-mystery . \\nat the center of the film is the exceptional cate blanchett ( 1999\\'s \" the talented mr . ripley \" ) , who turns annie wilson from what could have been little more than a run-of-the-mill protagonist into a very exact , down-to-earth , realistic person with valid troubles and a caring attitude towards those around her . \\nblanchett takes the unextraordinary material and runs with it , giving the entire film a truly classy aura that it otherwise might not have had . \\nwe follow her at every turn because she is so mesmerizing , both as a character and an actress . \\nblanchett isn\\'t the only bright performer , as she is ably supported by one of the best casts of the year . \\nin her first role following her oscar win for 1999\\'s \" boys don\\'t cry , \" hilary swank is excellent as the confused valerie , who seeks guidance from annie , but is too scared to take her biggest advice of all : to leave the grossly abusive donnie . \\nas donnie , keanu reeves ( 2000\\'s \" the watcher \" ) makes an utterly convincing backwoods meanie , so much so that it is difficult to believe he is an actor at all . \\nfor the often-criticized reeves , whose acting abilities have never been the best , this is the biggest compliment he could possibly get , and it is also one of the better performances he has given . \\ngiovanni ribisi ( 2000\\'s \" the boiler room \" ) is heartbreaking as a mentally slow young man who sees annie as his only friend , and wants her to do nothing but help him understand why he is being plagued by bad dreams about his dad . \\nin the small , but pivotal role of the sleazy jessica king , katie holmes ( 2000\\'s \" wonder boys \" ) has turned in yet another stunning supporting turn . \\nher promiscuous role of jessica is one she has never played before , and she is radiant in her few scenes . \\nfinally , kim dickens ( 2000\\'s \" hollow man \" ) makes her usual strong impression as annie\\'s spicy best friend , linda . \\nthe other notable aspect of \" the gift \" is its moody atmosphere that lays such a thickly foreboding air over every scene it\\'s almost suffocating . \\nthanks to cleverly construed editing by arthur coburn and bob murawski , and the successful use of different eerie sounds effects and a very good music score by christopher young , the movie not only achieves a scary undercurrent , but one that is filled with dread . \\nhelped along by a strong screenplay by billy bob thornton and tom epperson , which makes the most of its setting and delightful cast , \" the gift \" is that rarest of thrillers that actually thrills , and offers up a fair share of chills , too . \\nit may not be groundbreakingly original , but it sure is an entertaining ride for the duration of its running time . \\n'\n",
            "Cantidad de caracteres inicial:  5636  \n",
            "\n",
            "\n",
            "Texto tokenizado en palabras ->  ['gothic', 'murder-mystery', 'yarns', 'are', 'not', 'a', 'new', 'conceit', '.', '\\\\nin', 'fact', ',', 'they\\\\', \"'ve\", 'been', 'around', 'in', 'books', 'and', 'on', 'film', 'for', 'many', ',', 'many', 'years', '.', '\\\\nwithout', 'the', 'proper', 'handling', ',', 'they', 'come', 'off', 'as', 'old-fashioned', ',', 'bland', ',', 'and', 'outdated', '.', '\\\\n', '``', 'the', 'gift', ',', '``', 'directed', 'by', 'sam', 'raimi', ',', 'is', 'a', 'tried-and-true', 'effort', 'that', 'surprises', 'very', 'little', ',', 'and', 'includes', 'everything', 'from', 'a', 'wide', 'array', 'of', 'suspects', 'and', 'red', 'herrings', ',', 'to', 'mansions', 'in', 'the', 'deep', 'south', 'with', 'moss', 'trees', 'out', 'front', ',', 'to', 'the', 'eventual', 'discovery', 'of', 'a', 'waterlogged', 'corpse', 'found', 'in', 'a', 'nearby', 'pond', '.', '\\\\nit\\\\', \"'s\", 'fairly', 'obvious', 'who', 'the', 'killer', 'is', ';', 'in', 'fact', ',', 'i', 'predicted', 'who', 'it', 'would', 'be', 'before', 'the', 'movie', 'began', 'and', 'was', 'correct', 'in', 'my', 'preliminary', 'suspicions', '.', '\\\\nthe', 'film', 'ultimately', \"shouldn\\\\'t\", 'work', ',', 'but', 'it', 'does', ',', 'thanks', 'to', 'a', 'sparkling', 'cast', 'that', 'fills', 'each', 'character', 'with', 'so', 'many', 'memorable', 'nuances', ',', 'the', 'most', 'fun', 'to', 'be', 'had', 'is', 'in', 'simply', 'watching', 'the', 'people', 'interact', 'with', 'each', 'other', '.', '\\\\nannie', 'wilson', '(', 'cate', 'blanchett', ')', 'is', 'a', 'recently', 'widowed', 'mother', 'of', 'three', 'sons', 'who', 'makes', 'her', 'living', 'giving', 'psychic', 'readings', 'to', 'the', 'residents', 'of', 'her', 'backwater', 'southern', 'hometown', '.', '\\\\nsome', 'of', 'her', 'mainstay', 'clients', 'include', 'valerie', 'barksdale', '(', 'hilary', 'swank', ')', ',', 'who', 'is', 'severely', 'abused', 'by', 'her', 'husband', 'donnie', '(', 'keanu', 'reeves', ')', ',', 'and', 'buddy', 'cole', '(', 'giovanni', 'ribisi', ')', ',', 'an', 'unstable', 'mechanic', 'who', 'is', 'confused', 'by', 'the', 'nightmares', 'he\\\\', \"'s\", 'been', 'having', 'about', 'a', 'mysterious', 'blue', 'diamond', 'that', 'is', 'somehow', 'linked', 'to', 'his', 'father', '.', '\\\\nfor', 'annie', ',', 'she', 'does', 'not', 'give', 'the', 'readings', 'merely', 'for', 'money', ',', 'but', 'uses', 'it', 'as', 'a', 'way', 'of', 'seeking', 'solace', 'in', 'finding', 'the', 'good', 'in', 'everyone\\\\', \"'s\", 'future', '.', '\\\\nher', 'late', 'grandmother', '(', 'rosemary', 'harris', ')', 'told', 'her', 'as', 'a', 'child', 'that', 'it', 'was', 'a', 'gift', 'she', 'was', 'given', ',', 'and', 'she', 'should', 'always', 'remember', 'that', '.', '\\\\nwhen', 'annie\\\\', \"'s\", 'eldest', 'son', 'is', 'involved', 'in', 'a', 'fight', 'at', 'school', ',', 'she', 'meets', 'the', 'nice-guy', 'school', 'principal', ',', 'wayne', 'collins', '(', 'greg', 'kinnear', ')', ',', 'whom', 'she', 'finds', 'herself', 'attracted', 'to', '.', '\\\\nbut', 'wayne', 'is', 'engaged', 'to', 'the', 'wealthy', 'jessica', 'king', '(', 'katie', 'holmes', ')', ',', 'whom', 'annie', 'immediately', 'gets', 'a', 'negative', 'vibe', 'about', '.', '\\\\nat', 'a', 'party', 'with', 'her', 'best', 'friend', 'linda', '(', 'kim', 'dickens', ')', ',', 'annie', 'stumbles', 'upon', 'jessica', 'in', 'a', 'compromising', 'position', 'with', 'lawyer', 'david', 'duncan', '(', 'gary', 'cole', ')', '.', '\\\\nsoon', 'after', ',', 'jessica', 'has', 'disappeared', ',', 'leaving', 'everyone', 'in', 'a', 'frenzy', 'over', 'what', 'could', 'have', 'possibly', 'happened', 'to', 'her', ',', 'and', 'annie', 'starts', 'to', 'have', 'nightmares', 'and', 'apparitions', 'linking', 'jessica', 'with', 'the', 'vicious', 'redneck', 'donnie', 'barksdale', ',', 'and', 'the', 'pond', 'behind', 'his', 'home', '.', '\\\\n', '``', 'the', 'gift', '``', 'may', 'be', 'cliched', 'on', 'a', 'sheer', 'storytelling', 'level', ',', 'but', 'the', 'performances', 'and', 'tight', 'direction', 'from', 'raimi', '(', 'who', 'has', 'redeemed', 'himself', 'for', 'his', 'embarrassing', 'last', 'film', ',', '1999\\\\', \"'s\", '``', 'for', 'love', 'of', 'the', 'game', '``', ')', 'lift', 'the', 'picture', 'up', 'several', 'notches', '.', '\\\\nslowly', 'enveloping', 'the', 'viewer', 'into', 'the', 'many', 'intriguing', 'characters', 'and', 'their', 'individual', 'plights', ',', 'the', 'disappearance', 'of', 'jessica', 'at', 'the', '30-minute', 'mark', 'divulges', 'the', 'movie\\\\', \"'s\", 'true', 'intentions', 'and', 'transforms', 'the', 'proceedings', 'into', 'a', 'taut', ',', 'at', 'times', 'frightening', ',', 'horror-mystery', '.', '\\\\nat', 'the', 'center', 'of', 'the', 'film', 'is', 'the', 'exceptional', 'cate', 'blanchett', '(', '1999\\\\', \"'s\", '``', 'the', 'talented', 'mr', '.', 'ripley', '``', ')', ',', 'who', 'turns', 'annie', 'wilson', 'from', 'what', 'could', 'have', 'been', 'little', 'more', 'than', 'a', 'run-of-the-mill', 'protagonist', 'into', 'a', 'very', 'exact', ',', 'down-to-earth', ',', 'realistic', 'person', 'with', 'valid', 'troubles', 'and', 'a', 'caring', 'attitude', 'towards', 'those', 'around', 'her', '.', '\\\\nblanchett', 'takes', 'the', 'unextraordinary', 'material', 'and', 'runs', 'with', 'it', ',', 'giving', 'the', 'entire', 'film', 'a', 'truly', 'classy', 'aura', 'that', 'it', 'otherwise', 'might', 'not', 'have', 'had', '.', '\\\\nwe', 'follow', 'her', 'at', 'every', 'turn', 'because', 'she', 'is', 'so', 'mesmerizing', ',', 'both', 'as', 'a', 'character', 'and', 'an', 'actress', '.', '\\\\nblanchett', \"isn\\\\'t\", 'the', 'only', 'bright', 'performer', ',', 'as', 'she', 'is', 'ably', 'supported', 'by', 'one', 'of', 'the', 'best', 'casts', 'of', 'the', 'year', '.', '\\\\nin', 'her', 'first', 'role', 'following', 'her', 'oscar', 'win', 'for', '1999\\\\', \"'s\", '``', 'boys', \"don\\\\'t\", 'cry', ',', '``', 'hilary', 'swank', 'is', 'excellent', 'as', 'the', 'confused', 'valerie', ',', 'who', 'seeks', 'guidance', 'from', 'annie', ',', 'but', 'is', 'too', 'scared', 'to', 'take', 'her', 'biggest', 'advice', 'of', 'all', ':', 'to', 'leave', 'the', 'grossly', 'abusive', 'donnie', '.', '\\\\nas', 'donnie', ',', 'keanu', 'reeves', '(', '2000\\\\', \"'s\", '``', 'the', 'watcher', '``', ')', 'makes', 'an', 'utterly', 'convincing', 'backwoods', 'meanie', ',', 'so', 'much', 'so', 'that', 'it', 'is', 'difficult', 'to', 'believe', 'he', 'is', 'an', 'actor', 'at', 'all', '.', '\\\\nfor', 'the', 'often-criticized', 'reeves', ',', 'whose', 'acting', 'abilities', 'have', 'never', 'been', 'the', 'best', ',', 'this', 'is', 'the', 'biggest', 'compliment', 'he', 'could', 'possibly', 'get', ',', 'and', 'it', 'is', 'also', 'one', 'of', 'the', 'better', 'performances', 'he', 'has', 'given', '.', '\\\\ngiovanni', 'ribisi', '(', '2000\\\\', \"'s\", '``', 'the', 'boiler', 'room', '``', ')', 'is', 'heartbreaking', 'as', 'a', 'mentally', 'slow', 'young', 'man', 'who', 'sees', 'annie', 'as', 'his', 'only', 'friend', ',', 'and', 'wants', 'her', 'to', 'do', 'nothing', 'but', 'help', 'him', 'understand', 'why', 'he', 'is', 'being', 'plagued', 'by', 'bad', 'dreams', 'about', 'his', 'dad', '.', '\\\\nin', 'the', 'small', ',', 'but', 'pivotal', 'role', 'of', 'the', 'sleazy', 'jessica', 'king', ',', 'katie', 'holmes', '(', '2000\\\\', \"'s\", '``', 'wonder', 'boys', '``', ')', 'has', 'turned', 'in', 'yet', 'another', 'stunning', 'supporting', 'turn', '.', '\\\\nher', 'promiscuous', 'role', 'of', 'jessica', 'is', 'one', 'she', 'has', 'never', 'played', 'before', ',', 'and', 'she', 'is', 'radiant', 'in', 'her', 'few', 'scenes', '.', '\\\\nfinally', ',', 'kim', 'dickens', '(', '2000\\\\', \"'s\", '``', 'hollow', 'man', '``', ')', 'makes', 'her', 'usual', 'strong', 'impression', 'as', 'annie\\\\', \"'s\", 'spicy', 'best', 'friend', ',', 'linda', '.', '\\\\nthe', 'other', 'notable', 'aspect', 'of', '``', 'the', 'gift', '``', 'is', 'its', 'moody', 'atmosphere', 'that', 'lays', 'such', 'a', 'thickly', 'foreboding', 'air', 'over', 'every', 'scene', 'it\\\\', \"'s\", 'almost', 'suffocating', '.', '\\\\nthanks', 'to', 'cleverly', 'construed', 'editing', 'by', 'arthur', 'coburn', 'and', 'bob', 'murawski', ',', 'and', 'the', 'successful', 'use', 'of', 'different', 'eerie', 'sounds', 'effects', 'and', 'a', 'very', 'good', 'music', 'score', 'by', 'christopher', 'young', ',', 'the', 'movie', 'not', 'only', 'achieves', 'a', 'scary', 'undercurrent', ',', 'but', 'one', 'that', 'is', 'filled', 'with', 'dread', '.', '\\\\nhelped', 'along', 'by', 'a', 'strong', 'screenplay', 'by', 'billy', 'bob', 'thornton', 'and', 'tom', 'epperson', ',', 'which', 'makes', 'the', 'most', 'of', 'its', 'setting', 'and', 'delightful', 'cast', ',', '``', 'the', 'gift', '``', 'is', 'that', 'rarest', 'of', 'thrillers', 'that', 'actually', 'thrills', ',', 'and', 'offers', 'up', 'a', 'fair', 'share', 'of', 'chills', ',', 'too', '.', '\\\\nit', 'may', 'not', 'be', 'groundbreakingly', 'original', ',', 'but', 'it', 'sure', 'is', 'an', 'entertaining', 'ride', 'for', 'the', 'duration', 'of', 'its', 'running', 'time', '.', '\\\\n', \"'\"] \n",
            "\n",
            "\n",
            "Texto limpio ->  ['gothic', 'murdermystery', 'yarns', 'are', 'not', 'a', 'new', 'conceit', 'in', 'fact', 'they', 've', 'been', 'around', 'in', 'books', 'and', 'on', 'film', 'for', 'many', 'many', 'years', 'without', 'the', 'proper', 'handling', 'they', 'come', 'off', 'as', 'oldfashioned', 'bland', 'and', 'outdated', 'the', 'gift', 'directed', 'by', 'sam', 'raimi', 'is', 'a', 'triedandtrue', 'effort', 'that', 'surprises', 'very', 'little', 'and', 'includes', 'everything', 'from', 'a', 'wide', 'array', 'of', 'suspects', 'and', 'red', 'herrings', 'to', 'mansions', 'in', 'the', 'deep', 'south', 'with', 'moss', 'trees', 'out', 'front', 'to', 'the', 'eventual', 'discovery', 'of', 'a', 'waterlogged', 'corpse', 'found', 'in', 'a', 'nearby', 'pond', 'it', 'fairly', 'obvious', 'who', 'the', 'killer', 'is', 'in', 'fact', 'i', 'predicted', 'who', 'it', 'would', 'be', 'before', 'the', 'movie', 'began', 'and', 'was', 'correct', 'in', 'my', 'preliminary', 'suspicions', 'the', 'film', 'ultimately', 'shouldnt', 'work', 'but', 'it', 'does', 'thanks', 'to', 'a', 'sparkling', 'cast', 'that', 'fills', 'each', 'character', 'with', 'so', 'many', 'memorable', 'nuances', 'the', 'most', 'fun', 'to', 'be', 'had', 'is', 'in', 'simply', 'watching', 'the', 'people', 'interact', 'with', 'each', 'other', 'annie', 'wilson', 'cate', 'blanchett', 'is', 'a', 'recently', 'widowed', 'mother', 'of', 'three', 'sons', 'who', 'makes', 'her', 'living', 'giving', 'psychic', 'readings', 'to', 'the', 'residents', 'of', 'her', 'backwater', 'southern', 'hometown', 'some', 'of', 'her', 'mainstay', 'clients', 'include', 'valerie', 'barksdale', 'hilary', 'swank', 'who', 'is', 'severely', 'abused', 'by', 'her', 'husband', 'donnie', 'keanu', 'reeves', 'and', 'buddy', 'cole', 'giovanni', 'ribisi', 'an', 'unstable', 'mechanic', 'who', 'is', 'confused', 'by', 'the', 'nightmares', 'he', 'been', 'having', 'about', 'a', 'mysterious', 'blue', 'diamond', 'that', 'is', 'somehow', 'linked', 'to', 'his', 'father', 'for', 'annie', 'she', 'does', 'not', 'give', 'the', 'readings', 'merely', 'for', 'money', 'but', 'uses', 'it', 'as', 'a', 'way', 'of', 'seeking', 'solace', 'in', 'finding', 'the', 'good', 'in', 'everyone', 'future', 'her', 'late', 'grandmother', 'rosemary', 'harris', 'told', 'her', 'as', 'a', 'child', 'that', 'it', 'was', 'a', 'gift', 'she', 'was', 'given', 'and', 'she', 'should', 'always', 'remember', 'that', 'when', 'annie', 'eldest', 'son', 'is', 'involved', 'in', 'a', 'fight', 'at', 'school', 'she', 'meets', 'the', 'niceguy', 'school', 'principal', 'wayne', 'collins', 'greg', 'kinnear', 'whom', 'she', 'finds', 'herself', 'attracted', 'to', 'but', 'wayne', 'is', 'engaged', 'to', 'the', 'wealthy', 'jessica', 'king', 'katie', 'holmes', 'whom', 'annie', 'immediately', 'gets', 'a', 'negative', 'vibe', 'about', 'at', 'a', 'party', 'with', 'her', 'best', 'friend', 'linda', 'kim', 'dickens', 'annie', 'stumbles', 'upon', 'jessica', 'in', 'a', 'compromising', 'position', 'with', 'lawyer', 'david', 'duncan', 'gary', 'cole', 'soon', 'after', 'jessica', 'has', 'disappeared', 'leaving', 'everyone', 'in', 'a', 'frenzy', 'over', 'what', 'could', 'have', 'possibly', 'happened', 'to', 'her', 'and', 'annie', 'starts', 'to', 'have', 'nightmares', 'and', 'apparitions', 'linking', 'jessica', 'with', 'the', 'vicious', 'redneck', 'donnie', 'barksdale', 'and', 'the', 'pond', 'behind', 'his', 'home', 'the', 'gift', 'may', 'be', 'cliched', 'on', 'a', 'sheer', 'storytelling', 'level', 'but', 'the', 'performances', 'and', 'tight', 'direction', 'from', 'raimi', 'who', 'has', 'redeemed', 'himself', 'for', 'his', 'embarrassing', 'last', 'film', '1999', 'for', 'love', 'of', 'the', 'game', 'lift', 'the', 'picture', 'up', 'several', 'notches', 'slowly', 'enveloping', 'the', 'viewer', 'into', 'the', 'many', 'intriguing', 'characters', 'and', 'their', 'individual', 'plights', 'the', 'disappearance', 'of', 'jessica', 'at', 'the', '30minute', 'mark', 'divulges', 'the', 'movie', 'true', 'intentions', 'and', 'transforms', 'the', 'proceedings', 'into', 'a', 'taut', 'at', 'times', 'frightening', 'horrormystery', 'at', 'the', 'center', 'of', 'the', 'film', 'is', 'the', 'exceptional', 'cate', 'blanchett', '1999', 'the', 'talented', 'mr', 'ripley', 'who', 'turns', 'annie', 'wilson', 'from', 'what', 'could', 'have', 'been', 'little', 'more', 'than', 'a', 'runofthemill', 'protagonist', 'into', 'a', 'very', 'exact', 'downtoearth', 'realistic', 'person', 'with', 'valid', 'troubles', 'and', 'a', 'caring', 'attitude', 'towards', 'those', 'around', 'her', 'blanchett', 'takes', 'the', 'unextraordinary', 'material', 'and', 'runs', 'with', 'it', 'giving', 'the', 'entire', 'film', 'a', 'truly', 'classy', 'aura', 'that', 'it', 'otherwise', 'might', 'not', 'have', 'had', 'we', 'follow', 'her', 'at', 'every', 'turn', 'because', 'she', 'is', 'so', 'mesmerizing', 'both', 'as', 'a', 'character', 'and', 'an', 'actress', 'blanchett', 'isnt', 'the', 'only', 'bright', 'performer', 'as', 'she', 'is', 'ably', 'supported', 'by', 'one', 'of', 'the', 'best', 'casts', 'of', 'the', 'year', 'in', 'her', 'first', 'role', 'following', 'her', 'oscar', 'win', 'for', '1999', 'boys', 'dont', 'cry', 'hilary', 'swank', 'is', 'excellent', 'as', 'the', 'confused', 'valerie', 'who', 'seeks', 'guidance', 'from', 'annie', 'but', 'is', 'too', 'scared', 'to', 'take', 'her', 'biggest', 'advice', 'of', 'all', 'to', 'leave', 'the', 'grossly', 'abusive', 'donnie', 'as', 'donnie', 'keanu', 'reeves', '2000', 'the', 'watcher', 'makes', 'an', 'utterly', 'convincing', 'backwoods', 'meanie', 'so', 'much', 'so', 'that', 'it', 'is', 'difficult', 'to', 'believe', 'he', 'is', 'an', 'actor', 'at', 'all', 'for', 'the', 'oftencriticized', 'reeves', 'whose', 'acting', 'abilities', 'have', 'never', 'been', 'the', 'best', 'this', 'is', 'the', 'biggest', 'compliment', 'he', 'could', 'possibly', 'get', 'and', 'it', 'is', 'also', 'one', 'of', 'the', 'better', 'performances', 'he', 'has', 'given', 'giovanni', 'ribisi', '2000', 'the', 'boiler', 'room', 'is', 'heartbreaking', 'as', 'a', 'mentally', 'slow', 'young', 'man', 'who', 'sees', 'annie', 'as', 'his', 'only', 'friend', 'and', 'wants', 'her', 'to', 'do', 'nothing', 'but', 'help', 'him', 'understand', 'why', 'he', 'is', 'being', 'plagued', 'by', 'bad', 'dreams', 'about', 'his', 'dad', 'in', 'the', 'small', 'but', 'pivotal', 'role', 'of', 'the', 'sleazy', 'jessica', 'king', 'katie', 'holmes', '2000', 'wonder', 'boys', 'has', 'turned', 'in', 'yet', 'another', 'stunning', 'supporting', 'turn', 'her', 'promiscuous', 'role', 'of', 'jessica', 'is', 'one', 'she', 'has', 'never', 'played', 'before', 'and', 'she', 'is', 'radiant', 'in', 'her', 'few', 'scenes', 'finally', 'kim', 'dickens', '2000', 'hollow', 'man', 'makes', 'her', 'usual', 'strong', 'impression', 'as', 'annie', 'spicy', 'best', 'friend', 'linda', 'the', 'other', 'notable', 'aspect', 'of', 'the', 'gift', 'is', 'its', 'moody', 'atmosphere', 'that', 'lays', 'such', 'a', 'thickly', 'foreboding', 'air', 'over', 'every', 'scene', 'it', 'almost', 'suffocating', 'thanks', 'to', 'cleverly', 'construed', 'editing', 'by', 'arthur', 'coburn', 'and', 'bob', 'murawski', 'and', 'the', 'successful', 'use', 'of', 'different', 'eerie', 'sounds', 'effects', 'and', 'a', 'very', 'good', 'music', 'score', 'by', 'christopher', 'young', 'the', 'movie', 'not', 'only', 'achieves', 'a', 'scary', 'undercurrent', 'but', 'one', 'that', 'is', 'filled', 'with', 'dread', 'helped', 'along', 'by', 'a', 'strong', 'screenplay', 'by', 'billy', 'bob', 'thornton', 'and', 'tom', 'epperson', 'which', 'makes', 'the', 'most', 'of', 'its', 'setting', 'and', 'delightful', 'cast', 'the', 'gift', 'is', 'that', 'rarest', 'of', 'thrillers', 'that', 'actually', 'thrills', 'and', 'offers', 'up', 'a', 'fair', 'share', 'of', 'chills', 'too', 'it', 'may', 'not', 'be', 'groundbreakingly', 'original', 'but', 'it', 'sure', 'is', 'an', 'entertaining', 'ride', 'for', 'the', 'duration', 'of', 'its', 'running', 'time']\n",
            "Cantidad de caracteres texto limpio:  4301 \n",
            "\n",
            "\n",
            "Texto limpio y sin stopwords ->  ['gothic', 'murdermystery', 'yarns', 'new', 'conceit', 'fact', 'around', 'books', 'film', 'many', 'many', 'years', 'without', 'proper', 'handling', 'come', 'oldfashioned', 'bland', 'outdated', 'gift', 'directed', 'sam', 'raimi', 'triedandtrue', 'effort', 'surprises', 'little', 'includes', 'everything', 'wide', 'array', 'suspects', 'red', 'herrings', 'mansions', 'deep', 'south', 'moss', 'trees', 'front', 'eventual', 'discovery', 'waterlogged', 'corpse', 'found', 'nearby', 'pond', 'fairly', 'obvious', 'killer', 'fact', 'predicted', 'would', 'movie', 'began', 'correct', 'preliminary', 'suspicions', 'film', 'ultimately', 'shouldnt', 'work', 'thanks', 'sparkling', 'cast', 'fills', 'character', 'many', 'memorable', 'nuances', 'fun', 'simply', 'watching', 'people', 'interact', 'annie', 'wilson', 'cate', 'blanchett', 'recently', 'widowed', 'mother', 'three', 'sons', 'makes', 'living', 'giving', 'psychic', 'readings', 'residents', 'backwater', 'southern', 'hometown', 'mainstay', 'clients', 'include', 'valerie', 'barksdale', 'hilary', 'swank', 'severely', 'abused', 'husband', 'donnie', 'keanu', 'reeves', 'buddy', 'cole', 'giovanni', 'ribisi', 'unstable', 'mechanic', 'confused', 'nightmares', 'mysterious', 'blue', 'diamond', 'somehow', 'linked', 'father', 'annie', 'give', 'readings', 'merely', 'money', 'uses', 'way', 'seeking', 'solace', 'finding', 'good', 'everyone', 'future', 'late', 'grandmother', 'rosemary', 'harris', 'told', 'child', 'gift', 'given', 'always', 'remember', 'annie', 'eldest', 'son', 'involved', 'fight', 'school', 'meets', 'niceguy', 'school', 'principal', 'wayne', 'collins', 'greg', 'kinnear', 'finds', 'attracted', 'wayne', 'engaged', 'wealthy', 'jessica', 'king', 'katie', 'holmes', 'annie', 'immediately', 'gets', 'negative', 'vibe', 'party', 'best', 'friend', 'linda', 'kim', 'dickens', 'annie', 'stumbles', 'upon', 'jessica', 'compromising', 'position', 'lawyer', 'david', 'duncan', 'gary', 'cole', 'soon', 'jessica', 'disappeared', 'leaving', 'everyone', 'frenzy', 'could', 'possibly', 'happened', 'annie', 'starts', 'nightmares', 'apparitions', 'linking', 'jessica', 'vicious', 'redneck', 'donnie', 'barksdale', 'pond', 'behind', 'home', 'gift', 'may', 'cliched', 'sheer', 'storytelling', 'level', 'performances', 'tight', 'direction', 'raimi', 'redeemed', 'embarrassing', 'last', 'film', '1999', 'love', 'game', 'lift', 'picture', 'several', 'notches', 'slowly', 'enveloping', 'viewer', 'many', 'intriguing', 'characters', 'individual', 'plights', 'disappearance', 'jessica', '30minute', 'mark', 'divulges', 'movie', 'true', 'intentions', 'transforms', 'proceedings', 'taut', 'times', 'frightening', 'horrormystery', 'center', 'film', 'exceptional', 'cate', 'blanchett', '1999', 'talented', 'mr', 'ripley', 'turns', 'annie', 'wilson', 'could', 'little', 'runofthemill', 'protagonist', 'exact', 'downtoearth', 'realistic', 'person', 'valid', 'troubles', 'caring', 'attitude', 'towards', 'around', 'blanchett', 'takes', 'unextraordinary', 'material', 'runs', 'giving', 'entire', 'film', 'truly', 'classy', 'aura', 'otherwise', 'might', 'follow', 'every', 'turn', 'mesmerizing', 'character', 'actress', 'blanchett', 'isnt', 'bright', 'performer', 'ably', 'supported', 'one', 'best', 'casts', 'year', 'first', 'role', 'following', 'oscar', 'win', '1999', 'boys', 'dont', 'cry', 'hilary', 'swank', 'excellent', 'confused', 'valerie', 'seeks', 'guidance', 'annie', 'scared', 'take', 'biggest', 'advice', 'leave', 'grossly', 'abusive', 'donnie', 'donnie', 'keanu', 'reeves', '2000', 'watcher', 'makes', 'utterly', 'convincing', 'backwoods', 'meanie', 'much', 'difficult', 'believe', 'actor', 'oftencriticized', 'reeves', 'whose', 'acting', 'abilities', 'never', 'best', 'biggest', 'compliment', 'could', 'possibly', 'get', 'also', 'one', 'better', 'performances', 'given', 'giovanni', 'ribisi', '2000', 'boiler', 'room', 'heartbreaking', 'mentally', 'slow', 'young', 'man', 'sees', 'annie', 'friend', 'wants', 'nothing', 'help', 'understand', 'plagued', 'bad', 'dreams', 'dad', 'small', 'pivotal', 'role', 'sleazy', 'jessica', 'king', 'katie', 'holmes', '2000', 'wonder', 'boys', 'turned', 'yet', 'another', 'stunning', 'supporting', 'turn', 'promiscuous', 'role', 'jessica', 'one', 'never', 'played', 'radiant', 'scenes', 'finally', 'kim', 'dickens', '2000', 'hollow', 'man', 'makes', 'usual', 'strong', 'impression', 'annie', 'spicy', 'best', 'friend', 'linda', 'notable', 'aspect', 'gift', 'moody', 'atmosphere', 'lays', 'thickly', 'foreboding', 'air', 'every', 'scene', 'almost', 'suffocating', 'thanks', 'cleverly', 'construed', 'editing', 'arthur', 'coburn', 'bob', 'murawski', 'successful', 'use', 'different', 'eerie', 'sounds', 'effects', 'good', 'music', 'score', 'christopher', 'young', 'movie', 'achieves', 'scary', 'undercurrent', 'one', 'filled', 'dread', 'helped', 'along', 'strong', 'screenplay', 'billy', 'bob', 'thornton', 'tom', 'epperson', 'makes', 'setting', 'delightful', 'cast', 'gift', 'rarest', 'thrillers', 'actually', 'thrills', 'offers', 'fair', 'share', 'chills', 'may', 'groundbreakingly', 'original', 'sure', 'entertaining', 'ride', 'duration', 'running', 'time']\n",
            "Cantidad de caracteres final sin stopwords:  3151 \n",
            "\n",
            "\n",
            "Texto original reducido en un ->  0.5590844570617459\n",
            "\n",
            "----------------------------------------------------------------------------------------\n",
            "\n",
            "Texto original ->  b\"what i look for in a movie is not necessarily perfection . \\nsometimes a movie has such strong ideas that despite whatever flaws it may have , i will prefer it to a better-made film that is not as thought-provoking . \\nthe thin red line is flawed but it provokes . \\nterence malick returns to filmmaking 20 years after days of heaven and produces this meditative look at war . \\nunlike this year's saving private ryan , which dwells on war as a necessary evil and explores the moral ambiguities thereof , the thin red line simply says war is waste . \\nwhile that might seem obvious to some , only after experiencing the film do you realize how profound a waste it is . \\nsaving private ryan has an underlying and practical acceptance that war will occur and it has a great cost ; the thin red line says idealistically avoid this at all costs . \\none message is not necessarily more correct than the other . \\nit just depends on one's point of view . \\nin malick's film , war is set in a tropical paradise , and john toll's cinematography is beyond lush . \\nthe setting poses the question , why are we fighting in the face of such beauty ? \\nin saving private ryan , the capture of a german soldier presents the moral quandary of whether to let him go . \\nin the thin red line , the japanese present the moral quandary of war in the first place . \\nthey are just like the americans -- frightened and angry , grieving and praying . \\nall that separates them is war . \\nthe flaw in the thin red line comes in the voice-overs . \\nunbelievable as coming from the characters and sometimes pretentious , sometimes corny , the voice-overs tell us what the images before us already do and are completely unnecessary . \\ndispensing with them , malick could have achieved a tarkovskian grandeur . \\ninstead , he gets distracting self-consciousness . \\naside from that , malick's direction is stunning . \\nthe tracking shots across windswept hills and around transports speeding toward shore are extraordinary . \\nsean penn , elias koteas , and nick nolte give the best performances . \\npenn is subtle as a sergeant trying to hide his humanism , koteas is genuine as a compassionate captain , and nolte startling as a colonel whose blood vessels are about to burst if he cannot win his battle . \\njohn travolta and george clooney are the worst in cameo roles . \\nultimately however , the thin red line's interest is not in the characters and it is not in drama . \\nit has been frequently criticized for its lack of dramatic structure , but malick clearly has different things on his mind . \\nhas no one ever thought that getting dramatic entertainment from war is exploitative ? \\nwhat malick is working with is theme , and in that , the thin red line is most provoking . \\n\"\n",
            "Cantidad de caracteres inicial:  2765  \n",
            "\n",
            "\n",
            "Texto tokenizado en palabras ->  ['what', 'i', 'look', 'for', 'in', 'a', 'movie', 'is', 'not', 'necessarily', 'perfection', '.', '\\\\nsometimes', 'a', 'movie', 'has', 'such', 'strong', 'ideas', 'that', 'despite', 'whatever', 'flaws', 'it', 'may', 'have', ',', 'i', 'will', 'prefer', 'it', 'to', 'a', 'better-made', 'film', 'that', 'is', 'not', 'as', 'thought-provoking', '.', '\\\\nthe', 'thin', 'red', 'line', 'is', 'flawed', 'but', 'it', 'provokes', '.', '\\\\nterence', 'malick', 'returns', 'to', 'filmmaking', '20', 'years', 'after', 'days', 'of', 'heaven', 'and', 'produces', 'this', 'meditative', 'look', 'at', 'war', '.', '\\\\nunlike', 'this', 'year', \"'s\", 'saving', 'private', 'ryan', ',', 'which', 'dwells', 'on', 'war', 'as', 'a', 'necessary', 'evil', 'and', 'explores', 'the', 'moral', 'ambiguities', 'thereof', ',', 'the', 'thin', 'red', 'line', 'simply', 'says', 'war', 'is', 'waste', '.', '\\\\nwhile', 'that', 'might', 'seem', 'obvious', 'to', 'some', ',', 'only', 'after', 'experiencing', 'the', 'film', 'do', 'you', 'realize', 'how', 'profound', 'a', 'waste', 'it', 'is', '.', '\\\\nsaving', 'private', 'ryan', 'has', 'an', 'underlying', 'and', 'practical', 'acceptance', 'that', 'war', 'will', 'occur', 'and', 'it', 'has', 'a', 'great', 'cost', ';', 'the', 'thin', 'red', 'line', 'says', 'idealistically', 'avoid', 'this', 'at', 'all', 'costs', '.', '\\\\none', 'message', 'is', 'not', 'necessarily', 'more', 'correct', 'than', 'the', 'other', '.', '\\\\nit', 'just', 'depends', 'on', 'one', \"'s\", 'point', 'of', 'view', '.', '\\\\nin', 'malick', \"'s\", 'film', ',', 'war', 'is', 'set', 'in', 'a', 'tropical', 'paradise', ',', 'and', 'john', 'toll', \"'s\", 'cinematography', 'is', 'beyond', 'lush', '.', '\\\\nthe', 'setting', 'poses', 'the', 'question', ',', 'why', 'are', 'we', 'fighting', 'in', 'the', 'face', 'of', 'such', 'beauty', '?', '\\\\nin', 'saving', 'private', 'ryan', ',', 'the', 'capture', 'of', 'a', 'german', 'soldier', 'presents', 'the', 'moral', 'quandary', 'of', 'whether', 'to', 'let', 'him', 'go', '.', '\\\\nin', 'the', 'thin', 'red', 'line', ',', 'the', 'japanese', 'present', 'the', 'moral', 'quandary', 'of', 'war', 'in', 'the', 'first', 'place', '.', '\\\\nthey', 'are', 'just', 'like', 'the', 'americans', '--', 'frightened', 'and', 'angry', ',', 'grieving', 'and', 'praying', '.', '\\\\nall', 'that', 'separates', 'them', 'is', 'war', '.', '\\\\nthe', 'flaw', 'in', 'the', 'thin', 'red', 'line', 'comes', 'in', 'the', 'voice-overs', '.', '\\\\nunbelievable', 'as', 'coming', 'from', 'the', 'characters', 'and', 'sometimes', 'pretentious', ',', 'sometimes', 'corny', ',', 'the', 'voice-overs', 'tell', 'us', 'what', 'the', 'images', 'before', 'us', 'already', 'do', 'and', 'are', 'completely', 'unnecessary', '.', '\\\\ndispensing', 'with', 'them', ',', 'malick', 'could', 'have', 'achieved', 'a', 'tarkovskian', 'grandeur', '.', '\\\\ninstead', ',', 'he', 'gets', 'distracting', 'self-consciousness', '.', '\\\\naside', 'from', 'that', ',', 'malick', \"'s\", 'direction', 'is', 'stunning', '.', '\\\\nthe', 'tracking', 'shots', 'across', 'windswept', 'hills', 'and', 'around', 'transports', 'speeding', 'toward', 'shore', 'are', 'extraordinary', '.', '\\\\nsean', 'penn', ',', 'elias', 'koteas', ',', 'and', 'nick', 'nolte', 'give', 'the', 'best', 'performances', '.', '\\\\npenn', 'is', 'subtle', 'as', 'a', 'sergeant', 'trying', 'to', 'hide', 'his', 'humanism', ',', 'koteas', 'is', 'genuine', 'as', 'a', 'compassionate', 'captain', ',', 'and', 'nolte', 'startling', 'as', 'a', 'colonel', 'whose', 'blood', 'vessels', 'are', 'about', 'to', 'burst', 'if', 'he', 'can', 'not', 'win', 'his', 'battle', '.', '\\\\njohn', 'travolta', 'and', 'george', 'clooney', 'are', 'the', 'worst', 'in', 'cameo', 'roles', '.', '\\\\nultimately', 'however', ',', 'the', 'thin', 'red', 'line', \"'s\", 'interest', 'is', 'not', 'in', 'the', 'characters', 'and', 'it', 'is', 'not', 'in', 'drama', '.', '\\\\nit', 'has', 'been', 'frequently', 'criticized', 'for', 'its', 'lack', 'of', 'dramatic', 'structure', ',', 'but', 'malick', 'clearly', 'has', 'different', 'things', 'on', 'his', 'mind', '.', '\\\\nhas', 'no', 'one', 'ever', 'thought', 'that', 'getting', 'dramatic', 'entertainment', 'from', 'war', 'is', 'exploitative', '?', '\\\\nwhat', 'malick', 'is', 'working', 'with', 'is', 'theme', ',', 'and', 'in', 'that', ',', 'the', 'thin', 'red', 'line', 'is', 'most', 'provoking', '.', '\\\\n', \"''\"] \n",
            "\n",
            "\n",
            "Texto limpio ->  ['what', 'i', 'look', 'for', 'in', 'a', 'movie', 'is', 'not', 'necessarily', 'perfection', 'sometimes', 'a', 'movie', 'has', 'such', 'strong', 'ideas', 'that', 'despite', 'whatever', 'flaws', 'it', 'may', 'have', 'i', 'will', 'prefer', 'it', 'to', 'a', 'bettermade', 'film', 'that', 'is', 'not', 'as', 'thoughtprovoking', 'the', 'thin', 'red', 'line', 'is', 'flawed', 'but', 'it', 'provokes', 'terence', 'malick', 'returns', 'to', 'filmmaking', '20', 'years', 'after', 'days', 'of', 'heaven', 'and', 'produces', 'this', 'meditative', 'look', 'at', 'war', 'unlike', 'this', 'year', 'saving', 'private', 'ryan', 'which', 'dwells', 'on', 'war', 'as', 'a', 'necessary', 'evil', 'and', 'explores', 'the', 'moral', 'ambiguities', 'thereof', 'the', 'thin', 'red', 'line', 'simply', 'says', 'war', 'is', 'waste', 'while', 'that', 'might', 'seem', 'obvious', 'to', 'some', 'only', 'after', 'experiencing', 'the', 'film', 'do', 'you', 'realize', 'how', 'profound', 'a', 'waste', 'it', 'is', 'saving', 'private', 'ryan', 'has', 'an', 'underlying', 'and', 'practical', 'acceptance', 'that', 'war', 'will', 'occur', 'and', 'it', 'has', 'a', 'great', 'cost', 'the', 'thin', 'red', 'line', 'says', 'idealistically', 'avoid', 'this', 'at', 'all', 'costs', 'one', 'message', 'is', 'not', 'necessarily', 'more', 'correct', 'than', 'the', 'other', 'it', 'just', 'depends', 'on', 'one', 'point', 'of', 'view', 'in', 'malick', 'film', 'war', 'is', 'set', 'in', 'a', 'tropical', 'paradise', 'and', 'john', 'toll', 'cinematography', 'is', 'beyond', 'lush', 'the', 'setting', 'poses', 'the', 'question', 'why', 'are', 'we', 'fighting', 'in', 'the', 'face', 'of', 'such', 'beauty', 'in', 'saving', 'private', 'ryan', 'the', 'capture', 'of', 'a', 'german', 'soldier', 'presents', 'the', 'moral', 'quandary', 'of', 'whether', 'to', 'let', 'him', 'go', 'in', 'the', 'thin', 'red', 'line', 'the', 'japanese', 'present', 'the', 'moral', 'quandary', 'of', 'war', 'in', 'the', 'first', 'place', 'they', 'are', 'just', 'like', 'the', 'americans', 'frightened', 'and', 'angry', 'grieving', 'and', 'praying', 'all', 'that', 'separates', 'them', 'is', 'war', 'the', 'flaw', 'in', 'the', 'thin', 'red', 'line', 'comes', 'in', 'the', 'voiceovers', 'unbelievable', 'as', 'coming', 'from', 'the', 'characters', 'and', 'sometimes', 'pretentious', 'sometimes', 'corny', 'the', 'voiceovers', 'tell', 'us', 'what', 'the', 'images', 'before', 'us', 'already', 'do', 'and', 'are', 'completely', 'unnecessary', 'dispensing', 'with', 'them', 'malick', 'could', 'have', 'achieved', 'a', 'tarkovskian', 'grandeur', 'instead', 'he', 'gets', 'distracting', 'selfconsciousness', 'aside', 'from', 'that', 'malick', 'direction', 'is', 'stunning', 'the', 'tracking', 'shots', 'across', 'windswept', 'hills', 'and', 'around', 'transports', 'speeding', 'toward', 'shore', 'are', 'extraordinary', 'sean', 'penn', 'elias', 'koteas', 'and', 'nick', 'nolte', 'give', 'the', 'best', 'performances', 'penn', 'is', 'subtle', 'as', 'a', 'sergeant', 'trying', 'to', 'hide', 'his', 'humanism', 'koteas', 'is', 'genuine', 'as', 'a', 'compassionate', 'captain', 'and', 'nolte', 'startling', 'as', 'a', 'colonel', 'whose', 'blood', 'vessels', 'are', 'about', 'to', 'burst', 'if', 'he', 'can', 'not', 'win', 'his', 'battle', 'john', 'travolta', 'and', 'george', 'clooney', 'are', 'the', 'worst', 'in', 'cameo', 'roles', 'ultimately', 'however', 'the', 'thin', 'red', 'line', 'interest', 'is', 'not', 'in', 'the', 'characters', 'and', 'it', 'is', 'not', 'in', 'drama', 'it', 'has', 'been', 'frequently', 'criticized', 'for', 'its', 'lack', 'of', 'dramatic', 'structure', 'but', 'malick', 'clearly', 'has', 'different', 'things', 'on', 'his', 'mind', 'has', 'no', 'one', 'ever', 'thought', 'that', 'getting', 'dramatic', 'entertainment', 'from', 'war', 'is', 'exploitative', 'what', 'malick', 'is', 'working', 'with', 'is', 'theme', 'and', 'in', 'that', 'the', 'thin', 'red', 'line', 'is', 'most', 'provoking']\n",
            "Cantidad de caracteres texto limpio:  2132 \n",
            "\n",
            "\n",
            "Texto limpio y sin stopwords ->  ['look', 'movie', 'necessarily', 'perfection', 'sometimes', 'movie', 'strong', 'ideas', 'despite', 'whatever', 'flaws', 'may', 'prefer', 'bettermade', 'film', 'thoughtprovoking', 'thin', 'red', 'line', 'flawed', 'provokes', 'terence', 'malick', 'returns', 'filmmaking', '20', 'years', 'days', 'heaven', 'produces', 'meditative', 'look', 'war', 'unlike', 'year', 'saving', 'private', 'ryan', 'dwells', 'war', 'necessary', 'evil', 'explores', 'moral', 'ambiguities', 'thereof', 'thin', 'red', 'line', 'simply', 'says', 'war', 'waste', 'might', 'seem', 'obvious', 'experiencing', 'film', 'realize', 'profound', 'waste', 'saving', 'private', 'ryan', 'underlying', 'practical', 'acceptance', 'war', 'occur', 'great', 'cost', 'thin', 'red', 'line', 'says', 'idealistically', 'avoid', 'costs', 'one', 'message', 'necessarily', 'correct', 'depends', 'one', 'point', 'view', 'malick', 'film', 'war', 'set', 'tropical', 'paradise', 'john', 'toll', 'cinematography', 'beyond', 'lush', 'setting', 'poses', 'question', 'fighting', 'face', 'beauty', 'saving', 'private', 'ryan', 'capture', 'german', 'soldier', 'presents', 'moral', 'quandary', 'whether', 'let', 'go', 'thin', 'red', 'line', 'japanese', 'present', 'moral', 'quandary', 'war', 'first', 'place', 'like', 'americans', 'frightened', 'angry', 'grieving', 'praying', 'separates', 'war', 'flaw', 'thin', 'red', 'line', 'comes', 'voiceovers', 'unbelievable', 'coming', 'characters', 'sometimes', 'pretentious', 'sometimes', 'corny', 'voiceovers', 'tell', 'us', 'images', 'us', 'already', 'completely', 'unnecessary', 'dispensing', 'malick', 'could', 'achieved', 'tarkovskian', 'grandeur', 'instead', 'gets', 'distracting', 'selfconsciousness', 'aside', 'malick', 'direction', 'stunning', 'tracking', 'shots', 'across', 'windswept', 'hills', 'around', 'transports', 'speeding', 'toward', 'shore', 'extraordinary', 'sean', 'penn', 'elias', 'koteas', 'nick', 'nolte', 'give', 'best', 'performances', 'penn', 'subtle', 'sergeant', 'trying', 'hide', 'humanism', 'koteas', 'genuine', 'compassionate', 'captain', 'nolte', 'startling', 'colonel', 'whose', 'blood', 'vessels', 'burst', 'win', 'battle', 'john', 'travolta', 'george', 'clooney', 'worst', 'cameo', 'roles', 'ultimately', 'however', 'thin', 'red', 'line', 'interest', 'characters', 'drama', 'frequently', 'criticized', 'lack', 'dramatic', 'structure', 'malick', 'clearly', 'different', 'things', 'mind', 'one', 'ever', 'thought', 'getting', 'dramatic', 'entertainment', 'war', 'exploitative', 'malick', 'working', 'theme', 'thin', 'red', 'line', 'provoking']\n",
            "Cantidad de caracteres final sin stopwords:  1568 \n",
            "\n",
            "\n",
            "Texto original reducido en un ->  0.5670886075949367\n",
            "\n",
            "----------------------------------------------------------------------------------------\n",
            "\n",
            "Texto original ->  b'the law of crowd pleasing romantic movies states that the two leads must end up together by film\\'s end . \\nif you\\'re not familiar with this law , then maybe you\\'ve seen the trailer for this film which shows that the two leads are together by film\\'s end . \\nnow if you\\'re a regular reader of mine , you\\'ve heard me say this countless times : you know how drive me crazy is going to end , but is the journey to get to that ending worth it ? \\nno , it definitely is not . \\nmelissa joan hart ( from abc\\'s \" sabrina , the teenage witch \" ) likes a hunky stud on the basketball team . \\nadrien grenier is her grungy neighbor who\\'s just broken up with his activist girlfriend . \\napparently he wants to make his ex-girlfriend jealous enough to take him back , and she wants someone to take her to the big year end dance . \\nso the two pretend to date for some reason , but only after hart gives grenier a bath to turn him into a hunky stud . \\nwill grenier like his new popularity and turn on his friends ? \\nwill this crazy scheme work ? \\ndo i care ? \\nthe teen comedy resurgence of late has been surprisingly good in terms of comedy . \\nwhat makes movies like can\\'t hardly wait and 10 things i hate about you work ( and to a lesser extent , she\\'s all that and never been kissed ) is because the writers of those films seem to realize that high school is a joke and write their scripts accordingly . \\ni don\\'t know what the writer\\'s intention was with drive me crazy . \\nthere was some smart comedy in those films to make the obvious endings worth getting to . \\nhere there\\'s nothing . . . \\njust teens whining about who\\'s going to take them to the big dance . \\ndo me a favor kids , go get a job or something . . . \\njust shut the hell up . \\nin all honesty , the best part of this film is the end credits . \\nnow normally when i say that it\\'s followed with the joke \" . . . because the movie is finally over . \" \\nin this case though the end credits really are the most entertaining part of the film . \\nafter the obligatory second playing of britney spears\\' titular song , there\\'s a quick commercial jingle for a burger joint the kids in the film hang out in and a brief rendition of the school song for their high school . \\nnothing great , but more entertaining than anything in the 90 minutes which preceded them . \\nsci-fi fans take note : there are brief appearances from stephen collins ( star trek : the motion picture ) and faye grant ( the tv miniseries \" v \" and \" v : the final battle \" ) . \\n[pg-13] \\n'\n",
            "Cantidad de caracteres inicial:  2533  \n",
            "\n",
            "\n",
            "Texto tokenizado en palabras ->  ['the', 'law', 'of', 'crowd', 'pleasing', 'romantic', 'movies', 'states', 'that', 'the', 'two', 'leads', 'must', 'end', 'up', 'together', 'by', 'film\\\\', \"'s\", 'end', '.', '\\\\nif', 'you\\\\', \"'re\", 'not', 'familiar', 'with', 'this', 'law', ',', 'then', 'maybe', 'you\\\\', \"'ve\", 'seen', 'the', 'trailer', 'for', 'this', 'film', 'which', 'shows', 'that', 'the', 'two', 'leads', 'are', 'together', 'by', 'film\\\\', \"'s\", 'end', '.', '\\\\nnow', 'if', 'you\\\\', \"'re\", 'a', 'regular', 'reader', 'of', 'mine', ',', 'you\\\\', \"'ve\", 'heard', 'me', 'say', 'this', 'countless', 'times', ':', 'you', 'know', 'how', 'drive', 'me', 'crazy', 'is', 'going', 'to', 'end', ',', 'but', 'is', 'the', 'journey', 'to', 'get', 'to', 'that', 'ending', 'worth', 'it', '?', '\\\\nno', ',', 'it', 'definitely', 'is', 'not', '.', '\\\\nmelissa', 'joan', 'hart', '(', 'from', 'abc\\\\', \"'s\", '``', 'sabrina', ',', 'the', 'teenage', 'witch', '``', ')', 'likes', 'a', 'hunky', 'stud', 'on', 'the', 'basketball', 'team', '.', '\\\\nadrien', 'grenier', 'is', 'her', 'grungy', 'neighbor', 'who\\\\', \"'s\", 'just', 'broken', 'up', 'with', 'his', 'activist', 'girlfriend', '.', '\\\\napparently', 'he', 'wants', 'to', 'make', 'his', 'ex-girlfriend', 'jealous', 'enough', 'to', 'take', 'him', 'back', ',', 'and', 'she', 'wants', 'someone', 'to', 'take', 'her', 'to', 'the', 'big', 'year', 'end', 'dance', '.', '\\\\nso', 'the', 'two', 'pretend', 'to', 'date', 'for', 'some', 'reason', ',', 'but', 'only', 'after', 'hart', 'gives', 'grenier', 'a', 'bath', 'to', 'turn', 'him', 'into', 'a', 'hunky', 'stud', '.', '\\\\nwill', 'grenier', 'like', 'his', 'new', 'popularity', 'and', 'turn', 'on', 'his', 'friends', '?', '\\\\nwill', 'this', 'crazy', 'scheme', 'work', '?', '\\\\ndo', 'i', 'care', '?', '\\\\nthe', 'teen', 'comedy', 'resurgence', 'of', 'late', 'has', 'been', 'surprisingly', 'good', 'in', 'terms', 'of', 'comedy', '.', '\\\\nwhat', 'makes', 'movies', 'like', \"can\\\\'t\", 'hardly', 'wait', 'and', '10', 'things', 'i', 'hate', 'about', 'you', 'work', '(', 'and', 'to', 'a', 'lesser', 'extent', ',', 'she\\\\', \"'s\", 'all', 'that', 'and', 'never', 'been', 'kissed', ')', 'is', 'because', 'the', 'writers', 'of', 'those', 'films', 'seem', 'to', 'realize', 'that', 'high', 'school', 'is', 'a', 'joke', 'and', 'write', 'their', 'scripts', 'accordingly', '.', '\\\\ni', \"don\\\\'t\", 'know', 'what', 'the', 'writer\\\\', \"'s\", 'intention', 'was', 'with', 'drive', 'me', 'crazy', '.', '\\\\nthere', 'was', 'some', 'smart', 'comedy', 'in', 'those', 'films', 'to', 'make', 'the', 'obvious', 'endings', 'worth', 'getting', 'to', '.', '\\\\nhere', 'there\\\\', \"'s\", 'nothing', '.', '.', '.', '\\\\njust', 'teens', 'whining', 'about', 'who\\\\', \"'s\", 'going', 'to', 'take', 'them', 'to', 'the', 'big', 'dance', '.', '\\\\ndo', 'me', 'a', 'favor', 'kids', ',', 'go', 'get', 'a', 'job', 'or', 'something', '.', '.', '.', '\\\\njust', 'shut', 'the', 'hell', 'up', '.', '\\\\nin', 'all', 'honesty', ',', 'the', 'best', 'part', 'of', 'this', 'film', 'is', 'the', 'end', 'credits', '.', '\\\\nnow', 'normally', 'when', 'i', 'say', 'that', 'it\\\\', \"'s\", 'followed', 'with', 'the', 'joke', '``', '.', '.', '.', 'because', 'the', 'movie', 'is', 'finally', 'over', '.', '``', '\\\\nin', 'this', 'case', 'though', 'the', 'end', 'credits', 'really', 'are', 'the', 'most', 'entertaining', 'part', 'of', 'the', 'film', '.', '\\\\nafter', 'the', 'obligatory', 'second', 'playing', 'of', 'britney', 'spears\\\\', \"'\", 'titular', 'song', ',', 'there\\\\', \"'s\", 'a', 'quick', 'commercial', 'jingle', 'for', 'a', 'burger', 'joint', 'the', 'kids', 'in', 'the', 'film', 'hang', 'out', 'in', 'and', 'a', 'brief', 'rendition', 'of', 'the', 'school', 'song', 'for', 'their', 'high', 'school', '.', '\\\\nnothing', 'great', ',', 'but', 'more', 'entertaining', 'than', 'anything', 'in', 'the', '90', 'minutes', 'which', 'preceded', 'them', '.', '\\\\nsci-fi', 'fans', 'take', 'note', ':', 'there', 'are', 'brief', 'appearances', 'from', 'stephen', 'collins', '(', 'star', 'trek', ':', 'the', 'motion', 'picture', ')', 'and', 'faye', 'grant', '(', 'the', 'tv', 'miniseries', '``', 'v', '``', 'and', '``', 'v', ':', 'the', 'final', 'battle', '``', ')', '.', '\\\\n', '[', 'pg-13', ']', '\\\\n', \"'\"] \n",
            "\n",
            "\n",
            "Texto limpio ->  ['the', 'law', 'of', 'crowd', 'pleasing', 'romantic', 'movies', 'states', 'that', 'the', 'two', 'leads', 'must', 'end', 'up', 'together', 'by', 'film', 'end', 'if', 'you', 're', 'not', 'familiar', 'with', 'this', 'law', 'then', 'maybe', 'you', 've', 'seen', 'the', 'trailer', 'for', 'this', 'film', 'which', 'shows', 'that', 'the', 'two', 'leads', 'are', 'together', 'by', 'film', 'end', 'now', 'if', 'you', 're', 'a', 'regular', 'reader', 'of', 'mine', 'you', 've', 'heard', 'me', 'say', 'this', 'countless', 'times', 'you', 'know', 'how', 'drive', 'me', 'crazy', 'is', 'going', 'to', 'end', 'but', 'is', 'the', 'journey', 'to', 'get', 'to', 'that', 'ending', 'worth', 'it', 'no', 'it', 'definitely', 'is', 'not', 'melissa', 'joan', 'hart', 'from', 'abc', 'sabrina', 'the', 'teenage', 'witch', 'likes', 'a', 'hunky', 'stud', 'on', 'the', 'basketball', 'team', 'adrien', 'grenier', 'is', 'her', 'grungy', 'neighbor', 'who', 'just', 'broken', 'up', 'with', 'his', 'activist', 'girlfriend', 'apparently', 'he', 'wants', 'to', 'make', 'his', 'exgirlfriend', 'jealous', 'enough', 'to', 'take', 'him', 'back', 'and', 'she', 'wants', 'someone', 'to', 'take', 'her', 'to', 'the', 'big', 'year', 'end', 'dance', 'so', 'the', 'two', 'pretend', 'to', 'date', 'for', 'some', 'reason', 'but', 'only', 'after', 'hart', 'gives', 'grenier', 'a', 'bath', 'to', 'turn', 'him', 'into', 'a', 'hunky', 'stud', 'will', 'grenier', 'like', 'his', 'new', 'popularity', 'and', 'turn', 'on', 'his', 'friends', 'will', 'this', 'crazy', 'scheme', 'work', 'do', 'i', 'care', 'the', 'teen', 'comedy', 'resurgence', 'of', 'late', 'has', 'been', 'surprisingly', 'good', 'in', 'terms', 'of', 'comedy', 'what', 'makes', 'movies', 'like', 'cant', 'hardly', 'wait', 'and', '10', 'things', 'i', 'hate', 'about', 'you', 'work', 'and', 'to', 'a', 'lesser', 'extent', 'she', 'all', 'that', 'and', 'never', 'been', 'kissed', 'is', 'because', 'the', 'writers', 'of', 'those', 'films', 'seem', 'to', 'realize', 'that', 'high', 'school', 'is', 'a', 'joke', 'and', 'write', 'their', 'scripts', 'accordingly', 'i', 'dont', 'know', 'what', 'the', 'writer', 'intention', 'was', 'with', 'drive', 'me', 'crazy', 'there', 'was', 'some', 'smart', 'comedy', 'in', 'those', 'films', 'to', 'make', 'the', 'obvious', 'endings', 'worth', 'getting', 'to', 'here', 'there', 'nothing', 'just', 'teens', 'whining', 'about', 'who', 'going', 'to', 'take', 'them', 'to', 'the', 'big', 'dance', 'do', 'me', 'a', 'favor', 'kids', 'go', 'get', 'a', 'job', 'or', 'something', 'just', 'shut', 'the', 'hell', 'up', 'in', 'all', 'honesty', 'the', 'best', 'part', 'of', 'this', 'film', 'is', 'the', 'end', 'credits', 'now', 'normally', 'when', 'i', 'say', 'that', 'it', 'followed', 'with', 'the', 'joke', 'because', 'the', 'movie', 'is', 'finally', 'over', 'in', 'this', 'case', 'though', 'the', 'end', 'credits', 'really', 'are', 'the', 'most', 'entertaining', 'part', 'of', 'the', 'film', 'after', 'the', 'obligatory', 'second', 'playing', 'of', 'britney', 'spears', 'titular', 'song', 'there', 'a', 'quick', 'commercial', 'jingle', 'for', 'a', 'burger', 'joint', 'the', 'kids', 'in', 'the', 'film', 'hang', 'out', 'in', 'and', 'a', 'brief', 'rendition', 'of', 'the', 'school', 'song', 'for', 'their', 'high', 'school', 'nothing', 'great', 'but', 'more', 'entertaining', 'than', 'anything', 'in', 'the', '90', 'minutes', 'which', 'preceded', 'them', 'scifi', 'fans', 'take', 'note', 'there', 'are', 'brief', 'appearances', 'from', 'stephen', 'collins', 'star', 'trek', 'the', 'motion', 'picture', 'and', 'faye', 'grant', 'the', 'tv', 'miniseries', 'v', 'and', 'v', 'the', 'final', 'battle', 'pg13']\n",
            "Cantidad de caracteres texto limpio:  1864 \n",
            "\n",
            "\n",
            "Texto limpio y sin stopwords ->  ['law', 'crowd', 'pleasing', 'romantic', 'movies', 'states', 'two', 'leads', 'must', 'end', 'together', 'film', 'end', 'familiar', 'law', 'maybe', 'seen', 'trailer', 'film', 'shows', 'two', 'leads', 'together', 'film', 'end', 'regular', 'reader', 'mine', 'heard', 'say', 'countless', 'times', 'know', 'drive', 'crazy', 'going', 'end', 'journey', 'get', 'ending', 'worth', 'definitely', 'melissa', 'joan', 'hart', 'abc', 'sabrina', 'teenage', 'witch', 'likes', 'hunky', 'stud', 'basketball', 'team', 'adrien', 'grenier', 'grungy', 'neighbor', 'broken', 'activist', 'girlfriend', 'apparently', 'wants', 'make', 'exgirlfriend', 'jealous', 'enough', 'take', 'back', 'wants', 'someone', 'take', 'big', 'year', 'end', 'dance', 'two', 'pretend', 'date', 'reason', 'hart', 'gives', 'grenier', 'bath', 'turn', 'hunky', 'stud', 'grenier', 'like', 'new', 'popularity', 'turn', 'friends', 'crazy', 'scheme', 'work', 'care', 'teen', 'comedy', 'resurgence', 'late', 'surprisingly', 'good', 'terms', 'comedy', 'makes', 'movies', 'like', 'cant', 'hardly', 'wait', '10', 'things', 'hate', 'work', 'lesser', 'extent', 'never', 'kissed', 'writers', 'films', 'seem', 'realize', 'high', 'school', 'joke', 'write', 'scripts', 'accordingly', 'dont', 'know', 'writer', 'intention', 'drive', 'crazy', 'smart', 'comedy', 'films', 'make', 'obvious', 'endings', 'worth', 'getting', 'nothing', 'teens', 'whining', 'going', 'take', 'big', 'dance', 'favor', 'kids', 'go', 'get', 'job', 'something', 'shut', 'hell', 'honesty', 'best', 'part', 'film', 'end', 'credits', 'normally', 'say', 'followed', 'joke', 'movie', 'finally', 'case', 'though', 'end', 'credits', 'really', 'entertaining', 'part', 'film', 'obligatory', 'second', 'playing', 'britney', 'spears', 'titular', 'song', 'quick', 'commercial', 'jingle', 'burger', 'joint', 'kids', 'film', 'hang', 'brief', 'rendition', 'school', 'song', 'high', 'school', 'nothing', 'great', 'entertaining', 'anything', '90', 'minutes', 'preceded', 'scifi', 'fans', 'take', 'note', 'brief', 'appearances', 'stephen', 'collins', 'star', 'trek', 'motion', 'picture', 'faye', 'grant', 'tv', 'miniseries', 'v', 'v', 'final', 'battle', 'pg13']\n",
            "Cantidad de caracteres final sin stopwords:  1241 \n",
            "\n",
            "\n",
            "Texto original reducido en un ->  0.4899328859060403\n",
            "\n",
            "----------------------------------------------------------------------------------------\n",
            "\n"
          ],
          "name": "stdout"
        }
      ]
    },
    {
      "cell_type": "markdown",
      "metadata": {
        "id": "ZVTpNspRk0Hz"
      },
      "source": [
        "##### Podemos notar que la dimensionalidad se reduce en promedio hasta un 50% y el texto sigue siendo entendible.\n",
        "\n"
      ]
    },
    {
      "cell_type": "code",
      "metadata": {
        "id": "Bg0UtgoThzGb"
      },
      "source": [
        "# defino preprocesador para mandar al pipe\n",
        "\n",
        "def preprocesador(texto):\n",
        "  texto = re.sub(r'[^\\w\\s]', '', texto) # elimino puntuaciones\n",
        "  texto = re.sub(r'[\\\\W]','', texto) # elimino caracteres raros\n",
        "\n",
        "  #if (p == \"s\"): #s colgada de it's, o 80's\n",
        "  #  p = \"\"\n",
        "\n",
        "  #print(texto)\n",
        "  return texto"
      ],
      "execution_count": 10,
      "outputs": []
    },
    {
      "cell_type": "markdown",
      "metadata": {
        "id": "gDb0QydbkJ_X"
      },
      "source": [
        "### Dividir dataset en 80% entrenamiento y 20% prueba"
      ]
    },
    {
      "cell_type": "code",
      "metadata": {
        "colab": {
          "base_uri": "https://localhost:8080/"
        },
        "id": "mp6fZ9xatG7i",
        "outputId": "136de220-bfbc-47aa-af7c-dc0c082afa97"
      },
      "source": [
        "from sklearn.model_selection import train_test_split\n",
        "X_train, X_test, y_train, y_test = train_test_split(files.data, files.target, test_size=0.2)\n",
        "\n",
        "print(\"Cantidad de datos de entrenamiento: \",len(X_train))\n",
        "print(\"Cantidad de datos de prueba: \",len(X_test))"
      ],
      "execution_count": 11,
      "outputs": [
        {
          "output_type": "stream",
          "text": [
            "Cantidad de datos de entrenamiento:  1600\n",
            "Cantidad de datos de prueba:  400\n"
          ],
          "name": "stdout"
        }
      ]
    },
    {
      "cell_type": "markdown",
      "metadata": {
        "id": "HneVNBONkuNj"
      },
      "source": [
        "# Clasificadores\n",
        "\n",
        "Evalua primero la media de precision; despues evalua con GridSearch\n",
        "\n",
        "GridSearch permite seleccionar los hiperparametros adecuados para cada clasificador.\n",
        "\n",
        "Por ultimo usa kfolds cross validation para comparar resultados.\n"
      ]
    },
    {
      "cell_type": "code",
      "metadata": {
        "id": "lE4C3C6ytG75"
      },
      "source": [
        "from sklearn.pipeline import Pipeline\n",
        "from sklearn.feature_extraction.text import CountVectorizer\n",
        "from sklearn.feature_extraction.text import TfidfTransformer\n"
      ],
      "execution_count": 12,
      "outputs": []
    },
    {
      "cell_type": "markdown",
      "metadata": {
        "id": "LrSialh7lppV"
      },
      "source": [
        "## Support Vector Machines\n"
      ]
    },
    {
      "cell_type": "markdown",
      "metadata": {
        "id": "3UEC2c7JyWbe"
      },
      "source": [
        "###SGDClassifier \n"
      ]
    },
    {
      "cell_type": "code",
      "metadata": {
        "id": "u0ZuzzwU9Mhy"
      },
      "source": [
        "from sklearn.linear_model import SGDClassifier\n",
        "\n",
        "\n",
        "clasificador_sgd = Pipeline([('VECTORIZADOR', CountVectorizer(stop_words='english', tokenizer=word_tokenize, preprocessor=preprocesador)), \n",
        "                             ('TRANSFORMADOR-tfidf', TfidfTransformer()),\n",
        "                             ('CLASIFICADOR-SGD', SGDClassifier(loss='hinge', penalty='l2',alpha=1e-3))])\n",
        "\n",
        "\n",
        "clasificador_sgd = clasificador_sgd.fit(X_train, y_train)\n",
        "predicted_sgd = clasificador_sgd.predict(X_test)\n",
        "\n",
        "#print (\"Clases identificadas : \", predicted_sgd)\n",
        "#print (\"Clases reales del doc: \", y_test)\n"
      ],
      "execution_count": 13,
      "outputs": []
    },
    {
      "cell_type": "code",
      "metadata": {
        "id": "ADHIXiYT9f0w"
      },
      "source": [
        "resultados = []\n",
        "\n",
        "for i in range(predicted_sgd.size):\n",
        "    if (predicted_sgd[i] == y_test[i]):\n",
        "        resultados.append(1) #predice bien\n",
        "    else:\n",
        "        resultados.append(0) #predice mal"
      ],
      "execution_count": 14,
      "outputs": []
    },
    {
      "cell_type": "code",
      "metadata": {
        "id": "xlmkcGmW9kV4"
      },
      "source": [
        "np_mean = np.array(resultados)"
      ],
      "execution_count": 15,
      "outputs": []
    },
    {
      "cell_type": "code",
      "metadata": {
        "colab": {
          "base_uri": "https://localhost:8080/"
        },
        "id": "doRXKIuT9kgb",
        "outputId": "5b5b52dd-1cc3-41fa-8ce8-befc42440aed"
      },
      "source": [
        "print(\"Clasificacion con SGDClassifier(SVM): \", np.mean(np_mean))"
      ],
      "execution_count": 16,
      "outputs": [
        {
          "output_type": "stream",
          "text": [
            "Clasificacion con SGDClassifier(SVM):  0.8225\n"
          ],
          "name": "stdout"
        }
      ]
    },
    {
      "cell_type": "code",
      "metadata": {
        "colab": {
          "base_uri": "https://localhost:8080/"
        },
        "id": "czSww43A_8DW",
        "outputId": "b723b191-f941-46df-b313-208cf82dd305"
      },
      "source": [
        "import time\n",
        "\n",
        "from sklearn.model_selection import GridSearchCV\n",
        "\n",
        "\n",
        "parameters_sgd = {'VECTORIZADOR__ngram_range': [(1, 1), (1, 2)], \n",
        "                  'TRANSFORMADOR-tfidf__use_idf': (True, False),\n",
        "                  'CLASIFICADOR-SGD__alpha': (1e-2, 1e-3)}\n",
        "\n",
        "start_time = time.time()\n",
        "\n",
        "gs_clasificador_sgd = GridSearchCV(clasificador_sgd, parameters_sgd, cv=5, n_jobs=-1) \n",
        "\n",
        "#print(gs_clf_svm.get_params())\n",
        "gs_clasificador_sgd = gs_clasificador_sgd.fit(X_train, y_train)\n",
        "\n",
        "\n",
        "print(\"--- %s seconds ---\" % (time.time() - start_time))\n",
        "\n",
        "#mejores parametros para SDGClassifier\n",
        "\n",
        "print(gs_clasificador_sgd.best_score_)\n",
        "print(gs_clasificador_sgd.best_params_)"
      ],
      "execution_count": 17,
      "outputs": [
        {
          "output_type": "stream",
          "text": [
            "--- 215.0866255760193 seconds ---\n",
            "0.8275\n",
            "{'CLASIFICADOR-SGD__alpha': 0.001, 'TRANSFORMADOR-tfidf__use_idf': True, 'VECTORIZADOR__ngram_range': (1, 1)}\n"
          ],
          "name": "stdout"
        }
      ]
    },
    {
      "cell_type": "markdown",
      "metadata": {
        "id": "91GQ3INcmIWt"
      },
      "source": [
        "### Support Vector Classificator (SVC)"
      ]
    },
    {
      "cell_type": "code",
      "metadata": {
        "colab": {
          "base_uri": "https://localhost:8080/"
        },
        "id": "ElMJx51g5DY9",
        "outputId": "71319489-b4a6-4556-eba6-3ad23640ed02"
      },
      "source": [
        "from sklearn.svm import SVC\n",
        "\n",
        "svc = SVC(kernel='linear')\n",
        "svc"
      ],
      "execution_count": 18,
      "outputs": [
        {
          "output_type": "execute_result",
          "data": {
            "text/plain": [
              "SVC(C=1.0, break_ties=False, cache_size=200, class_weight=None, coef0=0.0,\n",
              "    decision_function_shape='ovr', degree=3, gamma='scale', kernel='linear',\n",
              "    max_iter=-1, probability=False, random_state=None, shrinking=True,\n",
              "    tol=0.001, verbose=False)"
            ]
          },
          "metadata": {
            "tags": []
          },
          "execution_count": 18
        }
      ]
    },
    {
      "cell_type": "code",
      "metadata": {
        "id": "thaaPRdNYeXm"
      },
      "source": [
        "clasificador_svc = Pipeline([('VECTORIZADOR', CountVectorizer(stop_words='english', tokenizer=word_tokenize, preprocessor=preprocesador)), \n",
        "                             ('TRANSFORMADOR-tfidf', TfidfTransformer()),\n",
        "                             ('CLASIFICADOR-SVC', SVC())])\n",
        "\n",
        "clasificador_svc = clasificador_svc.fit(X_train, y_train)\n",
        "predicted_svc = clasificador_svc.predict(X_test)\n",
        "\n",
        "#print (\"Clases identificadas : \", predicted_svc) \n",
        "#print (\"Clases reales del doc: \", y_test)\n"
      ],
      "execution_count": 19,
      "outputs": []
    },
    {
      "cell_type": "code",
      "metadata": {
        "colab": {
          "base_uri": "https://localhost:8080/"
        },
        "id": "dg_VCbZnYeUc",
        "outputId": "6f8e6f7b-67e1-4b9c-e506-d106d1f06c40"
      },
      "source": [
        "print(\"Clasificacion con SVC: \",np.mean(predicted_svc == y_test))"
      ],
      "execution_count": 20,
      "outputs": [
        {
          "output_type": "stream",
          "text": [
            "Clasificacion con SVC:  0.81\n"
          ],
          "name": "stdout"
        }
      ]
    },
    {
      "cell_type": "code",
      "metadata": {
        "id": "jRQ-bQAkBZHI"
      },
      "source": [
        "parameters = {'VECTORIZADOR__ngram_range': [(1, 1), (1, 2)], \n",
        "              'TRANSFORMADOR-tfidf__use_idf': (True, False),\n",
        "              #'CLASIFICADOR-SVC__alpha': (1e-2, 1e-3)} \n",
        "              #'CLASIFICADOR-SVC__C': (1e-2, 1e-3)}\n",
        "              'CLASIFICADOR-SVC__gamma': (1,0)}"
      ],
      "execution_count": 21,
      "outputs": []
    },
    {
      "cell_type": "code",
      "metadata": {
        "colab": {
          "base_uri": "https://localhost:8080/"
        },
        "id": "m8cqFnIQBZLR",
        "outputId": "3ea4ba99-8a0c-451c-c47e-78334fedaad9"
      },
      "source": [
        "\n",
        "start_time = time.time()\n",
        "\n",
        "gs_clasificador_svc = GridSearchCV(clasificador_svc, parameters, cv=5, n_jobs=-1)\n",
        "\n",
        "\n",
        "#print(gs_svc_clf.get_params().keys())  #asi veo todos los posibles parametros\n",
        "\n",
        "\n",
        "gs_clasificador_svc = gs_clasificador_svc.fit(X_train, y_train)\n",
        "\n",
        "print(\"Precision SVC: \",gs_clasificador_svc.best_score_,\"\\n\")\n",
        "print(\"--- %s seconds ---\" % (time.time() - start_time))\n",
        "\n",
        "print(gs_clasificador_svc.best_params_)"
      ],
      "execution_count": 22,
      "outputs": [
        {
          "output_type": "stream",
          "text": [
            "Precision SVC:  0.8099999999999999 \n",
            "\n",
            "--- 425.20132088661194 seconds ---\n",
            "{'CLASIFICADOR-SVC__gamma': 1, 'TRANSFORMADOR-tfidf__use_idf': True, 'VECTORIZADOR__ngram_range': (1, 1)}\n"
          ],
          "name": "stdout"
        }
      ]
    },
    {
      "cell_type": "markdown",
      "metadata": {
        "id": "1NuQ2VaimO2E"
      },
      "source": [
        "## Naive Bayes\n"
      ]
    },
    {
      "cell_type": "markdown",
      "metadata": {
        "id": "8QjzYJN-SKPB"
      },
      "source": [
        "### BernoulliNB\n",
        "\n",
        " Para clasificacion binaria"
      ]
    },
    {
      "cell_type": "code",
      "metadata": {
        "colab": {
          "base_uri": "https://localhost:8080/"
        },
        "id": "rHkM55X55DcD",
        "outputId": "b2575670-389a-48e9-c119-6c187610da98"
      },
      "source": [
        "from sklearn.naive_bayes import BernoulliNB\n",
        "\n",
        "clasificador_bn = BernoulliNB()\n",
        "\n",
        "clasificador_bn\n"
      ],
      "execution_count": 23,
      "outputs": [
        {
          "output_type": "execute_result",
          "data": {
            "text/plain": [
              "BernoulliNB(alpha=1.0, binarize=0.0, class_prior=None, fit_prior=True)"
            ]
          },
          "metadata": {
            "tags": []
          },
          "execution_count": 23
        }
      ]
    },
    {
      "cell_type": "code",
      "metadata": {
        "colab": {
          "base_uri": "https://localhost:8080/"
        },
        "id": "1IYlJyzUML-J",
        "outputId": "9a9b2516-40bf-4794-c9ab-13f109b0faf2"
      },
      "source": [
        "clasificador_bernoulli = Pipeline([('VECTORIZADOR', CountVectorizer(stop_words='english', tokenizer=word_tokenize, preprocessor=preprocesador)), \n",
        "                                   ('TRANSFORMADOR-tfidf', TfidfTransformer()),\n",
        "                                   ('CLASIFICADOR-BERNOULLI', clasificador_bn)])\n",
        "\n",
        "clasificador_bernoulli = clasificador_bernoulli.fit(X_train, y_train)\n",
        "predicted_bernoulli = clasificador_bernoulli.predict(X_test)\n",
        "\n",
        "#print (\"Clases identificadas : \", predicted_bernoulli) \n",
        "#print (\"Clases reales del doc: \", y_test)\n",
        "\n",
        "print(\"Clasificacion con Bernoulli: \",np.mean(predicted_bernoulli == y_test))"
      ],
      "execution_count": 24,
      "outputs": [
        {
          "output_type": "stream",
          "text": [
            "Clasificacion con Bernoulli:  0.7925\n"
          ],
          "name": "stdout"
        }
      ]
    },
    {
      "cell_type": "code",
      "metadata": {
        "colab": {
          "base_uri": "https://localhost:8080/"
        },
        "id": "rGW7ARp1L48m",
        "outputId": "92db5120-3958-4072-ef41-94235862fffa"
      },
      "source": [
        "parameters = {'VECTORIZADOR__ngram_range': [(1, 1), (1, 2)], \n",
        "              'TRANSFORMADOR-tfidf__use_idf': (True, False), \n",
        "              'CLASIFICADOR-BERNOULLI__alpha': (1e-2, 1e-3)}\n",
        "\n",
        "\n",
        "start_time = time.time()\n",
        "\n",
        "gs_clasificador_bernoulli = GridSearchCV(clasificador_bernoulli, parameters, cv=5, n_jobs=-1)\n",
        "gs_clasificador_bernoulli = gs_clasificador_bernoulli.fit(X_train, y_train)\n",
        "\n",
        "print(\"--- %s seconds ---\" % (time.time() - start_time))\n",
        "print(\"Precision bernoulli: \",gs_clasificador_bernoulli.best_score_)\n",
        "\n",
        "print(gs_clasificador_bernoulli.best_params_)"
      ],
      "execution_count": 25,
      "outputs": [
        {
          "output_type": "stream",
          "text": [
            "--- 214.77479934692383 seconds ---\n",
            "Precision bernoulli:  0.79375\n",
            "{'CLASIFICADOR-BERNOULLI__alpha': 0.001, 'TRANSFORMADOR-tfidf__use_idf': True, 'VECTORIZADOR__ngram_range': (1, 2)}\n"
          ],
          "name": "stdout"
        }
      ]
    },
    {
      "cell_type": "markdown",
      "metadata": {
        "id": "GLYHZHTZSONB"
      },
      "source": [
        "### Multinomial"
      ]
    },
    {
      "cell_type": "code",
      "metadata": {
        "id": "vxL-HMpyRv7V",
        "colab": {
          "base_uri": "https://localhost:8080/"
        },
        "outputId": "dd9ab1a7-94ce-4968-e271-1d416c4f2830"
      },
      "source": [
        "from sklearn.naive_bayes import MultinomialNB\n",
        "\n",
        "\n",
        "clasificador_multinomial = Pipeline([('VECTORIZADOR', CountVectorizer(stop_words='english', tokenizer=word_tokenize, preprocessor=preprocesador)), \n",
        "                                     ('TRANSFORMADOR-tfidf', TfidfTransformer()), \n",
        "                                     ('CLASIFICADOR-MULTINOMIAL', MultinomialNB())])\n",
        "\n",
        "\n",
        "clasificador_multinomial = clasificador_multinomial.fit(X_train, y_train)\n",
        "predicted_multinomial = clasificador_multinomial.predict(X_test)\n",
        "\n",
        "#print(\"Clases identificadas : \", predicted_multinomial) \n",
        "#print(\"Clases reales del doc: \", y_test)\n",
        "\n",
        "print(\"Clasificacion con Multinomial: \",np.mean(predicted_multinomial == y_test))"
      ],
      "execution_count": 26,
      "outputs": [
        {
          "output_type": "stream",
          "text": [
            "Clasificacion con Multinomial:  0.8125\n"
          ],
          "name": "stdout"
        }
      ]
    },
    {
      "cell_type": "code",
      "metadata": {
        "colab": {
          "base_uri": "https://localhost:8080/"
        },
        "id": "D40ECKZ3RwD-",
        "outputId": "f9bfa1da-1817-44d1-e879-d9296673e1b6"
      },
      "source": [
        "\n",
        "import time\n",
        "from sklearn.model_selection import GridSearchCV\n",
        "\n",
        "parameters = {'VECTORIZADOR__ngram_range': [(1, 1), (1, 2)], \n",
        "              'TRANSFORMADOR-tfidf__use_idf': (True, False), \n",
        "              'CLASIFICADOR-MULTINOMIAL__alpha': (1e-2, 1e-3)}\n",
        "\n",
        "\n",
        "start_time = time.time()\n",
        "\n",
        "gs_clasificador_multinomial = GridSearchCV(clasificador_multinomial, parameters, cv=5, n_jobs=-1)\n",
        "gs_clasificador_multinomial = gs_clasificador_multinomial.fit(X_train, y_train)\n",
        "\n",
        "print(\"--- %s seconds ---\" % (time.time() - start_time))\n",
        "print(\"Precision Multinomial: \",gs_clasificador_multinomial.best_score_)\n",
        "\n",
        "print(gs_clasificador_multinomial.best_params_)"
      ],
      "execution_count": 27,
      "outputs": [
        {
          "output_type": "stream",
          "text": [
            "--- 214.50877141952515 seconds ---\n",
            "Precision Multinomial:  0.8025\n",
            "{'CLASIFICADOR-MULTINOMIAL__alpha': 0.01, 'TRANSFORMADOR-tfidf__use_idf': False, 'VECTORIZADOR__ngram_range': (1, 2)}\n"
          ],
          "name": "stdout"
        }
      ]
    },
    {
      "cell_type": "markdown",
      "metadata": {
        "id": "mLiprW6C8MAr"
      },
      "source": [
        "### Vecinos mas cercanos (KNN)\n"
      ]
    },
    {
      "cell_type": "code",
      "metadata": {
        "colab": {
          "base_uri": "https://localhost:8080/"
        },
        "id": "2TTFaw6A5eAO",
        "outputId": "8fe86e1e-d20d-436e-93dc-d460125ef178"
      },
      "source": [
        "from sklearn import neighbors\n",
        "\n",
        "knn = neighbors.KNeighborsClassifier(n_neighbors=100)\n",
        "knn"
      ],
      "execution_count": 28,
      "outputs": [
        {
          "output_type": "execute_result",
          "data": {
            "text/plain": [
              "KNeighborsClassifier(algorithm='auto', leaf_size=30, metric='minkowski',\n",
              "                     metric_params=None, n_jobs=None, n_neighbors=100, p=2,\n",
              "                     weights='uniform')"
            ]
          },
          "metadata": {
            "tags": []
          },
          "execution_count": 28
        }
      ]
    },
    {
      "cell_type": "code",
      "metadata": {
        "id": "G6ZhEcSXZF9w"
      },
      "source": [
        "clasificador_knn = Pipeline([('VECTORIZADOR', CountVectorizer(stop_words='english', tokenizer=word_tokenize, preprocessor=preprocesador)), \n",
        "                             ('TRANSFORMADOR-tfidf', TfidfTransformer()),\n",
        "                             ('CLASIFICADOR-KNN', knn)]) \n",
        "\n",
        "\n",
        "clasificador_knn = clasificador_knn.fit(X_train, y_train)\n",
        "predicted_knn = clasificador_knn.predict(X_test)\n",
        "\n",
        "#print (\"Clases identificadas : \", predicted_knn)\n",
        "#print (\"Clases reales del doc: \", y_test)"
      ],
      "execution_count": 29,
      "outputs": []
    },
    {
      "cell_type": "code",
      "metadata": {
        "colab": {
          "base_uri": "https://localhost:8080/"
        },
        "id": "s4YBkUd2ZGFP",
        "outputId": "45714c59-d70f-421a-fc52-9c5db906b8ba"
      },
      "source": [
        "print(\"Precision de KNN: \",np.mean(predicted_knn == y_test))\n",
        "\n",
        "#n_neighbors -> 2 = 0.65 , 3 = 0.71 , 4 =  0.66 , 5 = 0.675 , ... , \n",
        "#               30 = 0.71 , 50 = 0.7175 , 100 = 0.765 , 250 = 0.765  , 500 = 0.72  , ...."
      ],
      "execution_count": 30,
      "outputs": [
        {
          "output_type": "stream",
          "text": [
            "Precision de KNN:  0.775\n"
          ],
          "name": "stdout"
        }
      ]
    },
    {
      "cell_type": "code",
      "metadata": {
        "id": "kNorlBjBZQer"
      },
      "source": [
        "parameters = {'VECTORIZADOR__ngram_range': [(1, 1), (1, 2)], \n",
        "              'TRANSFORMADOR-tfidf__use_idf': (True, False), \n",
        "              #'CLASIFICADOR-SVC__C': (1e-2, 1e-3)}\n",
        "              'CLASIFICADOR-KNN__p': (1,0)}\n",
        "              #'CLASIFICADOR-SVC__probability': (1,0)}"
      ],
      "execution_count": 31,
      "outputs": []
    },
    {
      "cell_type": "code",
      "metadata": {
        "colab": {
          "base_uri": "https://localhost:8080/"
        },
        "id": "4AOZFTfDOxb5",
        "outputId": "f360a39a-0891-4bea-965c-a008a3d80985"
      },
      "source": [
        "\n",
        "start_time = time.time()\n",
        "\n",
        "gs_clasificador_knn = GridSearchCV(clasificador_knn, parameters, cv=5, n_jobs=-1)\n",
        "\n",
        "\n",
        "gs_clasificador_knn = gs_clasificador_knn.fit(X_train, y_train)\n",
        "\n",
        "print(gs_clasificador_knn.get_params().keys())\n",
        "#print(gs_knn_clf.get_params().keys())  #asi veo todos los posibles parametros\n",
        "\n",
        "print(\"Precision knn: \",gs_clasificador_knn.best_score_)  # el parametro del clasificador p no es tan bueno...\n",
        "print(\"--- %s seconds ---\" % (time.time() - start_time))\n",
        "\n",
        "print(gs_clasificador_knn.best_params_)"
      ],
      "execution_count": 32,
      "outputs": [
        {
          "output_type": "stream",
          "text": [
            "dict_keys(['cv', 'error_score', 'estimator__memory', 'estimator__steps', 'estimator__verbose', 'estimator__VECTORIZADOR', 'estimator__TRANSFORMADOR-tfidf', 'estimator__CLASIFICADOR-KNN', 'estimator__VECTORIZADOR__analyzer', 'estimator__VECTORIZADOR__binary', 'estimator__VECTORIZADOR__decode_error', 'estimator__VECTORIZADOR__dtype', 'estimator__VECTORIZADOR__encoding', 'estimator__VECTORIZADOR__input', 'estimator__VECTORIZADOR__lowercase', 'estimator__VECTORIZADOR__max_df', 'estimator__VECTORIZADOR__max_features', 'estimator__VECTORIZADOR__min_df', 'estimator__VECTORIZADOR__ngram_range', 'estimator__VECTORIZADOR__preprocessor', 'estimator__VECTORIZADOR__stop_words', 'estimator__VECTORIZADOR__strip_accents', 'estimator__VECTORIZADOR__token_pattern', 'estimator__VECTORIZADOR__tokenizer', 'estimator__VECTORIZADOR__vocabulary', 'estimator__TRANSFORMADOR-tfidf__norm', 'estimator__TRANSFORMADOR-tfidf__smooth_idf', 'estimator__TRANSFORMADOR-tfidf__sublinear_tf', 'estimator__TRANSFORMADOR-tfidf__use_idf', 'estimator__CLASIFICADOR-KNN__algorithm', 'estimator__CLASIFICADOR-KNN__leaf_size', 'estimator__CLASIFICADOR-KNN__metric', 'estimator__CLASIFICADOR-KNN__metric_params', 'estimator__CLASIFICADOR-KNN__n_jobs', 'estimator__CLASIFICADOR-KNN__n_neighbors', 'estimator__CLASIFICADOR-KNN__p', 'estimator__CLASIFICADOR-KNN__weights', 'estimator', 'iid', 'n_jobs', 'param_grid', 'pre_dispatch', 'refit', 'return_train_score', 'scoring', 'verbose'])\n",
            "Precision knn:  0.5925\n",
            "--- 221.53120970726013 seconds ---\n",
            "{'CLASIFICADOR-KNN__p': 1, 'TRANSFORMADOR-tfidf__use_idf': True, 'VECTORIZADOR__ngram_range': (1, 1)}\n"
          ],
          "name": "stdout"
        }
      ]
    },
    {
      "cell_type": "markdown",
      "metadata": {
        "id": "J9NqmSOFf9Ow"
      },
      "source": [
        "### Random Forest Classificator\n",
        "\n",
        "RandomForest es un estimador compuesto por un conjunto de arboles de decision generados de forma aleatoria."
      ]
    },
    {
      "cell_type": "code",
      "metadata": {
        "id": "sTraI65z999d"
      },
      "source": [
        "from sklearn.ensemble import RandomForestClassifier"
      ],
      "execution_count": 33,
      "outputs": []
    },
    {
      "cell_type": "code",
      "metadata": {
        "id": "hJkv3MgZ9-Jq"
      },
      "source": [
        "clasificador_rundom_forest = Pipeline([('VECTORIZADOR', CountVectorizer(stop_words='english', tokenizer=word_tokenize, preprocessor=preprocesador)), \n",
        "                                       ('TRANSFORMADOR-tfidf', TfidfTransformer()), \n",
        "                                       ('CLASIFICADOR-RUN_FOREST', RandomForestClassifier(n_estimators=1250))]) #mas estimadores, mas precision\n",
        "\n",
        "\n",
        "clasificador_run_forest = clasificador_rundom_forest.fit(X_train, y_train)\n",
        "predicted_run_forest = clasificador_run_forest.predict(X_test)\n",
        "\n",
        "#print(\"Clases identificadas : \", predicted_run_forest) \n",
        "#print(\"Clases reales del doc: \", y_test)"
      ],
      "execution_count": 34,
      "outputs": []
    },
    {
      "cell_type": "code",
      "metadata": {
        "colab": {
          "base_uri": "https://localhost:8080/"
        },
        "id": "KWUf-P3_g8uJ",
        "outputId": "b3e7b4e8-2cec-4d87-f7ac-4fd06456f6a9"
      },
      "source": [
        "print(\"Precision de Run Forest: \",np.mean(predicted_run_forest == y_test))\n",
        "\n",
        "#estimators 10 -> .62\n",
        "#           50 -> .75\n",
        "#           100 -> .77\n",
        "#           250 -> .79 \n",
        "#           500 -> .8\n",
        "#           800 -> .8025\n",
        "#           1000 -> .8025\n",
        "#           1250 -> .8125\n",
        "#           1500 -> .8025\n",
        "#           2000 -> .80"
      ],
      "execution_count": 35,
      "outputs": [
        {
          "output_type": "stream",
          "text": [
            "Precision de Run Forest:  0.825\n"
          ],
          "name": "stdout"
        }
      ]
    },
    {
      "cell_type": "code",
      "metadata": {
        "id": "p5icbgeKhIbY"
      },
      "source": [
        "parameters = {'VECTORIZADOR__ngram_range': [(1, 1), (1, 2)], \n",
        "              'TRANSFORMADOR-tfidf__use_idf': (True, False), \n",
        "              #'CLASIFICADOR-RUN_FOREST__criterion': (1e-2, 1e-3)}\n",
        "              'CLASIFICADOR-RUN_FOREST__ccp_alpha': (1e-2, 1e-3)}\n",
        "              #'CLASIFICADOR-SVC__probability': (1,0)}"
      ],
      "execution_count": 36,
      "outputs": []
    },
    {
      "cell_type": "code",
      "metadata": {
        "colab": {
          "base_uri": "https://localhost:8080/"
        },
        "id": "yrrkkfMJg82d",
        "outputId": "c29ba798-8091-433f-e4b1-b32a79fdb222"
      },
      "source": [
        "\n",
        "start_time = time.time()\n",
        "\n",
        "gs_clasificador_run_forest = GridSearchCV(clasificador_run_forest, parameters, cv=5, n_jobs=-1)\n",
        "\n",
        "#print(gs_clasificador_run_forest.get_params().keys())  #asi veo todos los posibles parametros\n",
        "\n",
        "gs_clasificador_run_forest = gs_clasificador_run_forest.fit(X_train, y_train)\n",
        "\n",
        "print(\"Precision Random Forest: \",gs_clasificador_run_forest.best_score_) \n",
        "print(\"--- %s seconds ---\" % (time.time() - start_time))\n",
        "\n",
        "print(gs_clasificador_run_forest.best_params_)\n",
        "\n",
        "#ESAAAAAA ... tarda una banda pero es el mejor clasificador random forest, con .8381 de precision"
      ],
      "execution_count": 37,
      "outputs": [
        {
          "output_type": "stream",
          "text": [
            "Precision Random Forest:  0.8331249999999999\n",
            "--- 1432.325011253357 seconds ---\n",
            "{'CLASIFICADOR-RUN_FOREST__ccp_alpha': 0.001, 'TRANSFORMADOR-tfidf__use_idf': False, 'VECTORIZADOR__ngram_range': (1, 1)}\n"
          ],
          "name": "stdout"
        }
      ]
    },
    {
      "cell_type": "markdown",
      "metadata": {
        "id": "aEvpLzqL9-Uc"
      },
      "source": [
        "### Evaluacion de los clasificadores y conclusiones\n",
        "\n",
        "Usa cross validation para comparar los clasificadores creados previamente. \n",
        "\n",
        "Evalua resultados de los SVM, Naive Bayes y RandomForest"
      ]
    },
    {
      "cell_type": "code",
      "metadata": {
        "colab": {
          "base_uri": "https://localhost:8080/"
        },
        "id": "oNW3bcIbVpoY",
        "outputId": "9290b258-2af8-4425-ce7d-5eb9a8ace8b8"
      },
      "source": [
        "from sklearn.model_selection import cross_val_score\n",
        "\n",
        "# SGD\n",
        "\n",
        "#scores = cross_val_score(clasificador_sgd, X_train, y_train, cv=5)\n",
        "#entrenamiento -> 0.84\n",
        "\n",
        "scores = cross_val_score(clasificador_sgd, X, Y, cv=5)\n",
        "#total -> 0.84\n",
        "\n",
        "print(scores)\n",
        "\n",
        "print(\"Precision SGD: %0.2f (+/- %0.2f)\" % (scores.mean(), scores.std() * 2))"
      ],
      "execution_count": 38,
      "outputs": [
        {
          "output_type": "stream",
          "text": [
            "[0.835  0.845  0.8275 0.865  0.8225]\n",
            "Precision SGD: 0.84 (+/- 0.03)\n"
          ],
          "name": "stdout"
        }
      ]
    },
    {
      "cell_type": "code",
      "metadata": {
        "colab": {
          "base_uri": "https://localhost:8080/"
        },
        "id": "NO4ytNeIEVCo",
        "outputId": "d58f27f6-ef3c-489c-e777-1e559ae5330c"
      },
      "source": [
        "# SVC\n",
        "\n",
        "#scores = cross_val_score(clasificador_svc, X_train, y_train, cv=5)\n",
        "#entrenamiento -> 0.83\n",
        "\n",
        "scores = cross_val_score(clasificador_svc, X, Y, cv=5)\n",
        "#total -> .83\n",
        "\n",
        "print(scores)\n",
        "\n",
        "print(\"Precision SVC: %0.2f (+/- %0.2f)\" % (scores.mean(), scores.std() * 2))"
      ],
      "execution_count": 39,
      "outputs": [
        {
          "output_type": "stream",
          "text": [
            "[0.845  0.8325 0.8175 0.84   0.82  ]\n",
            "Precision SVC: 0.83 (+/- 0.02)\n"
          ],
          "name": "stdout"
        }
      ]
    },
    {
      "cell_type": "code",
      "metadata": {
        "colab": {
          "base_uri": "https://localhost:8080/"
        },
        "id": "liSvSvSsV4m7",
        "outputId": "df93b330-21d6-4500-8e79-d14755e74aac"
      },
      "source": [
        "# BINOMIAL\n",
        "\n",
        "#scores = cross_val_score(clasificador_bernoulli, X_train, y_train, cv=5)\n",
        "#entrenamiento -> 0.78\n",
        "\n",
        "scores = cross_val_score(clasificador_bernoulli, X, Y, cv=5)\n",
        "#total ->  0.79\n",
        "\n",
        "print(scores)\n",
        "\n",
        "print(\"Precision Bernoulli/Binomial: %0.2f (+/- %0.2f)\" % (scores.mean(), scores.std() * 2))"
      ],
      "execution_count": 40,
      "outputs": [
        {
          "output_type": "stream",
          "text": [
            "[0.8125 0.77   0.7875 0.7925 0.7675]\n",
            "Precision Bernoulli/Binomial: 0.79 (+/- 0.03)\n"
          ],
          "name": "stdout"
        }
      ]
    },
    {
      "cell_type": "code",
      "metadata": {
        "colab": {
          "base_uri": "https://localhost:8080/"
        },
        "id": "1Xic0Dv8EVJp",
        "outputId": "1c864d21-ffb3-4d09-85c3-b4c453c49818"
      },
      "source": [
        "#MULTINOMIAL\n",
        "\n",
        "#scores = cross_val_score(clasificador_multinomial, X_train, y_train, cv=5)\n",
        "#entrenamiento -> 0.82\n",
        "\n",
        "scores = cross_val_score(clasificador_multinomial, X, Y, cv=5)\n",
        "#total -> 0.82\n",
        "\n",
        "print(scores)\n",
        "\n",
        "print(\"Precision Multinomial: %0.2f (+/- %0.2f)\" % (scores.mean(), scores.std() * 2))"
      ],
      "execution_count": 41,
      "outputs": [
        {
          "output_type": "stream",
          "text": [
            "[0.82   0.835  0.805  0.8325 0.785 ]\n",
            "Precision Multinomial: 0.82 (+/- 0.04)\n"
          ],
          "name": "stdout"
        }
      ]
    },
    {
      "cell_type": "code",
      "metadata": {
        "colab": {
          "base_uri": "https://localhost:8080/"
        },
        "id": "hcOIUbx4EVHV",
        "outputId": "98e90ea1-adb1-4913-a095-f4487badced8"
      },
      "source": [
        "#RANDOM FOREST\n",
        "\n",
        "#scores = cross_val_score(clasificador_rundom_forest, X_train, y_train, cv=5)\n",
        "#entrenamiento -> 0.81\n",
        "\n",
        "scores = cross_val_score(clasificador_rundom_forest, X, Y, cv=5)\n",
        "#total -> 0.83\n",
        "\n",
        "print(scores)\n",
        "\n",
        "print(\"Precision Random Forest: %0.2f (+/- %0.2f)\" % (scores.mean(), scores.std() * 2))"
      ],
      "execution_count": 42,
      "outputs": [
        {
          "output_type": "stream",
          "text": [
            "[0.825  0.8225 0.84   0.805  0.83  ]\n",
            "Precision Random Forest: 0.82 (+/- 0.02)\n"
          ],
          "name": "stdout"
        }
      ]
    },
    {
      "cell_type": "markdown",
      "metadata": {
        "id": "IcJI9eQKXf8j"
      },
      "source": [
        "## Pruebas\n",
        "\n",
        "Probamos los clasificadores haciendo pruebas con nuevas reseñas de peliculas.\n",
        "\n"
      ]
    },
    {
      "cell_type": "markdown",
      "metadata": {
        "id": "tjHdhrRLXkn1"
      },
      "source": [
        "Criticas positivas en español traducidas al ingles\n",
        "\n",
        "https://www.elcineenlasombra.com/criticas-de-cine/\n",
        "\n",
        "\n",
        "Criticas negativas a peores peliculas de 2020 \n",
        "\n",
        "https://variety.com/lists/worst-films-movies-2020/"
      ]
    },
    {
      "cell_type": "code",
      "metadata": {
        "id": "EwXHwBxAMjfN"
      },
      "source": [
        "x_pos1 = \"Sean Thorton (John Wayne) arrives in his native village, after many years, with the clear intention of buying the house that belonged to his family. In this negotiation an enemy is won, Victor McLaglen, who turns out to be the brother of the girl Sean has fallen in love with, Mauren O'Hara. The apparently comical scuffles show us a culture anchored in the past with past customs that condition the love between these two people who love each other. Apart from the vicissitudes and barriers that lovers have, there are also two ways of being antagonistic between the two: Thorton is, as the title of the film indicates, a quiet man for reasons that will be glimpsed in the course of history and she, on the contrary, is a veritable whirlwind. However, or at least that is the case in this film, love will manage to overcome most conflicts. When you see a classic from the 1950s, you realize, on the one hand, how much the world has changed and, on the other, that it has hardly changed. The person is the way he is despite the society that surrounds him, the historical moment in which he lives and the place where he is. John Wayne plays the big man from before: big, tough, good and gentleman. Mauren O'Hara, for her part, plays her role as a woman at arms to take very well, making her character so credible that you cannot conceive of the actress in the real world behaving otherwise. He transmits a lot of genius, a very marked personality and a hyperactivity that makes you want to slow down. The brother, Victor McLaglen, acts as an alpha male, as a powerful of the people and tries to mark his territory by brute force: the corpulence, the face and, above all, the rustic gestures of the actor accompany him and are suitable for the script. If we get corny, we could say that it is a macho movie, but I am not going to do it. On the contrary, I am going to recommend it by putting honey on their lips, telling them that in it they will find one of the most famous kisses in the history of cinema: when John Wayne pulls Mauren O'Hara's arm with passionate intentions. Perhaps Mr. Thorton was a bit brusque, if we see it with the eyes of the 21st century, but it has become, without a doubt, a mythical scene of the seventh art since even Spielberg honors it in ET. Enjoy it and, please, put the offended in all of us lately to bed.\"\n",
        "\n",
        "x_neg1 = \"Drug dealers used to have the mantra “Don’t get high on your own supply.” Maybe movie stars should live by the credo “Dolittle — just don’t do it.” The 1998 reboot was merely another middling Eddie Murphy comedy, but this Robert Downey Jr. remake achieves the staggering feat of being much, much worse than the fabled, creaky-boned 1967 Hollywood musical debacle. Is the problem the charmless critters? The ungodly mess of a story? Or the mechanical whimsy of Downey, who barely talks to the animals because he’s so busy talking to himself? All of the above. “Dolittle” is a movie that’s more excruciating than the sum of its frenetic yet lifeless kiddie-blockbuster parts.\""
      ],
      "execution_count": 43,
      "outputs": []
    },
    {
      "cell_type": "code",
      "metadata": {
        "id": "H3jN47EyNKw0"
      },
      "source": [
        "#https://www.elcineenlasombra.com/criticas-de-cine/\n",
        "\n",
        "#fuente de criticas en español, traducidas al ingles"
      ],
      "execution_count": 44,
      "outputs": []
    },
    {
      "cell_type": "code",
      "metadata": {
        "colab": {
          "base_uri": "https://localhost:8080/"
        },
        "id": "OcSOiwgvH6df",
        "outputId": "81a04cc4-3390-4b59-a00d-aa38dcdc19d6"
      },
      "source": [
        "print(\"SVC \",clasificador_svc.predict([x_pos1, x_neg1]))\n",
        "\n",
        "print(\"SGD \",clasificador_sgd.predict([x_pos1, x_neg1]))\n",
        "\n",
        "print(\"RunForest \",clasificador_rundom_forest.predict([x_pos1, x_neg1]))"
      ],
      "execution_count": 45,
      "outputs": [
        {
          "output_type": "stream",
          "text": [
            "SVC  [1 0]\n",
            "SGD  [1 0]\n",
            "RunForest  [1 0]\n"
          ],
          "name": "stdout"
        }
      ]
    },
    {
      "cell_type": "markdown",
      "metadata": {
        "id": "87NekkLyIixI"
      },
      "source": [
        "Los resultados iniciales son correctos"
      ]
    },
    {
      "cell_type": "markdown",
      "metadata": {
        "id": "rVYVYy4gX0ZE"
      },
      "source": [
        "Lo extrapolamos a opiniones generales, no necesariamente de peliculas...\n",
        "\n",
        "Opiniones como por ejemplo experiencias vividas, compras, ventas, alquileres, canciones, etc...\n",
        "\n",
        "\n",
        "experiencias positivas\n",
        "\n",
        "\n",
        "\n",
        "experiencias negativas\n",
        "\n",
        "https://www.lodgify.com/blog/es/opiniones-negativas/\n"
      ]
    },
    {
      "cell_type": "code",
      "metadata": {
        "id": "5fkASXeWYFJJ"
      },
      "source": [
        "x_neg_propiedades = \"This property is nothing like your ad. For starters, the owners live downstairs with their two young children, which was not mentioned in the ad. As we were getting settled in the house, the children climbed the stairs to see what we were doing and to get our attention. One of them was too small to walk the stairs alone, so at one point Grandma came and got them out of there. I like children, but I don't want my hosts' children to bother me when I'm on vacation. Another thing to keep in mind is that they have a rule of not making noise after 22:40, which seems fine to me, but the apartment is offered to 5 adults, and it is almost impossible to be silent with so many people.\"\n",
        "#bien\n",
        "\n"
      ],
      "execution_count": 46,
      "outputs": []
    },
    {
      "cell_type": "code",
      "metadata": {
        "colab": {
          "base_uri": "https://localhost:8080/"
        },
        "id": "dPRrf-INrZw6",
        "outputId": "d5f41066-a7e9-46e2-be0b-2eb98c022d18"
      },
      "source": [
        "clasificador_svc.predict([x_neg_propiedades])"
      ],
      "execution_count": 47,
      "outputs": [
        {
          "output_type": "execute_result",
          "data": {
            "text/plain": [
              "array([0])"
            ]
          },
          "metadata": {
            "tags": []
          },
          "execution_count": 47
        }
      ]
    },
    {
      "cell_type": "markdown",
      "metadata": {
        "id": "XAnWlTY8iNkG"
      },
      "source": [
        "## Conclusiones"
      ]
    },
    {
      "cell_type": "markdown",
      "metadata": {
        "id": "WWWHzyI9iTT1"
      },
      "source": [
        "Considerando la reseña original(cruda) y la misma reseña preprocesada, podemos llegar a la conclusion de que estas tecnicas mejoran los resultados.\n",
        "\n",
        "\n",
        "Por mas que el preprocesamiento permita una reduccion de dimensionalidad de hasta un 50%, esa diferencia no se ve reflejada en los resultados finales. Aunque definitivamente agrega un par de puntos a los resultados finales de precision.\n",
        "\n",
        "\n",
        "Para simplificar el proceso de generacion de clasificadores, las utilidades de sklearn permiten crear un pipe y parametrizarlo. \n",
        "En estos casos parametriza con un vectorizador con un preprocesador personalizado, un transformador y desde luego el clasificador. \n",
        "Organizando asi el flujo de datos aumentan un par de puntos la precision.\n",
        "\n",
        "\n",
        "Estos 2 pŕocesos (el preprocesador personalizado y el pipe parametrizado) permiten mejorar los resultados finales de precision.  \n",
        "\n",
        "\n",
        "\n"
      ]
    },
    {
      "cell_type": "markdown",
      "metadata": {
        "id": "Snvu8_bdgA3W"
      },
      "source": [
        "\n",
        "Respecto a los clasificadores, \n",
        "\n",
        "Los Bayes presentan resultados aceptables. \n",
        "El Binomial es el que en teoria mejor se adapta, ya que hace clasificacion binaria, obteniendo resutados de aprox .83 ; \n",
        "El Multinomial si bien es para categorizar, aplicado a clasificacion binaria anda bien, con una precision de .80\n",
        "\n",
        "El ensamblador RandomForest, que es un conjunto de arboles de decision, presenta buenos resutados, de una precision de .81\n",
        "\n",
        "Los clasificadores que mejor funcionan son las maquinas de soporte de vectores SVM. \n",
        "El SGDClassifier devuelve los mejores resultados, de una precision de .85; \n",
        "El SVClassifier tambien tiene buenos resultados, con precision de un .80\n",
        "\n",
        "\n",
        "\n"
      ]
    },
    {
      "cell_type": "markdown",
      "metadata": {
        "id": "h2_kQS8ZxDH1"
      },
      "source": [
        "Fuente\n",
        "\n",
        "https://arxiv.org/abs/cs/0409058\n",
        "\n"
      ]
    },
    {
      "cell_type": "markdown",
      "metadata": {
        "id": "qug8UJaUKh6i"
      },
      "source": [
        "### Trabajo futuro\n",
        "\n",
        "\n",
        "Probar genericamente los clasificadores, con distintos tipos de opinion.\n",
        "\n",
        "Reforzar el aprendizaje del algoritmo. A partir de los dominios (url) de opiniones/criticas, armar un pipe alimentado con el texto minado con BeautifulSoup(). \n"
      ]
    }
  ]
}